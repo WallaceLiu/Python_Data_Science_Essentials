{
 "metadata": {
  "name": "",
  "signature": "sha256:a841caa9915d44f97e1dd075b53645ecb11c5634992e971b3cd3d43c42feb56b"
 },
 "nbformat": 3,
 "nbformat_minor": 0,
 "worksheets": [
  {
   "cells": [
    {
     "cell_type": "markdown",
     "metadata": {},
     "source": [
      "Let's first check the Python version you have installed on your machine.\n",
      "Remember, to run the examples, it must be 2.7.X"
     ]
    },
    {
     "cell_type": "code",
     "collapsed": false,
     "input": [
      "import sys\n",
      "print \"Your Python version is\", sys.version"
     ],
     "language": "python",
     "metadata": {},
     "outputs": [
      {
       "output_type": "stream",
       "stream": "stdout",
       "text": [
        "Your Python version is 2.7.6 (default, Sep  9 2014, 15:04:36) \n",
        "[GCC 4.2.1 Compatible Apple LLVM 6.0 (clang-600.0.39)]\n"
       ]
      }
     ],
     "prompt_number": 1
    },
    {
     "cell_type": "markdown",
     "metadata": {},
     "source": [
      "Now let's check if you have all the necessary toolkits installed and working properly:"
     ]
    },
    {
     "cell_type": "code",
     "collapsed": false,
     "input": [
      "errors = 0"
     ],
     "language": "python",
     "metadata": {},
     "outputs": [],
     "prompt_number": 2
    },
    {
     "cell_type": "code",
     "collapsed": false,
     "input": [
      "try:\n",
      "    import numpy as np\n",
      "    print \"Numpy installed, version\", np.__version__\n",
      "except ImportError:\n",
      "    print \"Numpy is not installed!\"\n",
      "    errors += 1"
     ],
     "language": "python",
     "metadata": {},
     "outputs": [
      {
       "output_type": "stream",
       "stream": "stdout",
       "text": [
        "Numpy installed, version 1.8.0rc1\n"
       ]
      }
     ],
     "prompt_number": 3
    },
    {
     "cell_type": "code",
     "collapsed": false,
     "input": [
      "try:\n",
      "    import scipy\n",
      "    print \"Scipy installed, version\", scipy.__version__\n",
      "except ImportError:\n",
      "    print \"Scipy is not installed!\"\n",
      "    errors += 1"
     ],
     "language": "python",
     "metadata": {},
     "outputs": [
      {
       "output_type": "stream",
       "stream": "stdout",
       "text": [
        "Scipy installed, version 0.13.0b1\n"
       ]
      }
     ],
     "prompt_number": 4
    },
    {
     "cell_type": "code",
     "collapsed": false,
     "input": [
      "try:\n",
      "    import matplotlib\n",
      "    print \"Matplotlib installed, version\", matplotlib.__version__\n",
      "except ImportError:\n",
      "    print \"Matplotlib is not installed!\"\n",
      "    errors += 1"
     ],
     "language": "python",
     "metadata": {},
     "outputs": [
      {
       "output_type": "stream",
       "stream": "stdout",
       "text": [
        "Matplotlib installed, version 1.4.2\n"
       ]
      }
     ],
     "prompt_number": 5
    },
    {
     "cell_type": "code",
     "collapsed": false,
     "input": [
      "try:\n",
      "    import sklearn\n",
      "    print \"Sklearn installed, version\", sklearn.__version__\n",
      "except ImportError:\n",
      "    print \"Sklearn is not installed!\"\n",
      "    errors += 1"
     ],
     "language": "python",
     "metadata": {},
     "outputs": [
      {
       "output_type": "stream",
       "stream": "stdout",
       "text": [
        "Sklearn installed, version 0.15.2\n"
       ]
      }
     ],
     "prompt_number": 6
    },
    {
     "cell_type": "code",
     "collapsed": false,
     "input": [
      "try:\n",
      "    import networkx\n",
      "    print \"Networkx installed, version\", networkx.__version__\n",
      "except ImportError:\n",
      "    print \"Networkx is not installed!\"\n",
      "    errors += 1"
     ],
     "language": "python",
     "metadata": {},
     "outputs": [
      {
       "output_type": "stream",
       "stream": "stdout",
       "text": [
        "Networkx installed, version 1.9.1\n"
       ]
      }
     ],
     "prompt_number": 7
    },
    {
     "cell_type": "code",
     "collapsed": false,
     "input": [
      "try:\n",
      "    import nltk\n",
      "    print \"Nltk installed, version\", nltk.__version__\n",
      "except ImportError:\n",
      "    print \"Nltk is not installed!\"\n",
      "    errors += 1"
     ],
     "language": "python",
     "metadata": {},
     "outputs": [
      {
       "output_type": "stream",
       "stream": "stdout",
       "text": [
        "Nltk installed, version 3.0.1\n"
       ]
      }
     ],
     "prompt_number": 8
    },
    {
     "cell_type": "markdown",
     "metadata": {},
     "source": [
      "Here''s the verdict:"
     ]
    },
    {
     "cell_type": "code",
     "collapsed": false,
     "input": [
      "if errors == 0:\n",
      "    print \"Your machine can run the code\"\n",
      "else:\n",
      "    print \"We found\", errors, \"errors. Please check them and install the missing toolkits\""
     ],
     "language": "python",
     "metadata": {},
     "outputs": [
      {
       "output_type": "stream",
       "stream": "stdout",
       "text": [
        "Your machine can run the code\n"
       ]
      }
     ],
     "prompt_number": 9
    }
   ],
   "metadata": {}
  }
 ]
}