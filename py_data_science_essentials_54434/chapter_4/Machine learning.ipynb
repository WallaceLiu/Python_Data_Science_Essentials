{
 "metadata": {
  "name": "",
  "signature": "sha256:7529fc9357fd95d5811692e8543d9886e7a94267d70fb3fbe2727fa59dea9245"
 },
 "nbformat": 3,
 "nbformat_minor": 0,
 "worksheets": [
  {
   "cells": [
    {
     "cell_type": "heading",
     "level": 1,
     "metadata": {},
     "source": [
      "Machine Learning"
     ]
    },
    {
     "cell_type": "heading",
     "level": 2,
     "metadata": {},
     "source": [
      "Linear and logistic regression"
     ]
    },
    {
     "cell_type": "code",
     "collapsed": false,
     "input": [
      "from sklearn.datasets import load_boston\n",
      "boston = load_boston()\n",
      "from sklearn.cross_validation import train_test_split\n",
      "X_train, X_test, Y_train, Y_test = train_test_split(boston.data, boston.target, test_size=0.2, random_state=0)"
     ],
     "language": "python",
     "metadata": {},
     "outputs": [],
     "prompt_number": 1
    },
    {
     "cell_type": "code",
     "collapsed": false,
     "input": [
      "from sklearn.linear_model import LinearRegression\n",
      "regr = LinearRegression()\n",
      "regr.fit(X_train, Y_train)\n",
      "Y_pred = regr.predict(X_test)\n",
      "from sklearn.metrics import mean_absolute_error\n",
      "print \"MAE\", mean_absolute_error(Y_test, Y_pred)"
     ],
     "language": "python",
     "metadata": {},
     "outputs": [
      {
       "output_type": "stream",
       "stream": "stdout",
       "text": [
        "MAE 3.84281058945\n"
       ]
      }
     ],
     "prompt_number": 2
    },
    {
     "cell_type": "code",
     "collapsed": false,
     "input": [
      "%timeit regr.fit(X_train, Y_train) "
     ],
     "language": "python",
     "metadata": {},
     "outputs": [
      {
       "output_type": "stream",
       "stream": "stdout",
       "text": [
        "1000 loops, best of 3: 561 \u00b5s per loop\n"
       ]
      }
     ],
     "prompt_number": 3
    },
    {
     "cell_type": "code",
     "collapsed": false,
     "input": [
      "import numpy as np\n",
      "avg_price_house = np.average(boston.target)\n",
      "high_priced_idx = (Y_train >= avg_price_house)\n",
      "Y_train[high_priced_idx] = 1\n",
      "Y_train[np.logical_not(high_priced_idx)] = 0\n",
      "Y_train = Y_train.astype(np.int8)\n",
      "high_priced_idx = (Y_test >= avg_price_house)\n",
      "Y_test[high_priced_idx] = 1\n",
      "Y_test[np.logical_not(high_priced_idx)] = 0\n",
      "Y_test = Y_test.astype(np.int8)"
     ],
     "language": "python",
     "metadata": {},
     "outputs": [],
     "prompt_number": 4
    },
    {
     "cell_type": "code",
     "collapsed": false,
     "input": [
      "from sklearn.linear_model import LogisticRegression\n",
      "clf = LogisticRegression()\n",
      "clf.fit(X_train, Y_train)\n",
      "Y_pred = clf.predict(X_test)\n",
      "from sklearn.metrics import classification_report\n",
      "print classification_report(Y_test, Y_pred)"
     ],
     "language": "python",
     "metadata": {},
     "outputs": [
      {
       "output_type": "stream",
       "stream": "stdout",
       "text": [
        "             precision    recall  f1-score   support\n",
        "\n",
        "          0       0.81      0.92      0.86        61\n",
        "          1       0.85      0.68      0.76        41\n",
        "\n",
        "avg / total       0.83      0.82      0.82       102\n",
        "\n"
       ]
      }
     ],
     "prompt_number": 5
    },
    {
     "cell_type": "code",
     "collapsed": false,
     "input": [
      "%timeit clf.fit(X_train, Y_train)"
     ],
     "language": "python",
     "metadata": {},
     "outputs": [
      {
       "output_type": "stream",
       "stream": "stdout",
       "text": [
        "100 loops, best of 3: 4.34 ms per loop\n"
       ]
      }
     ],
     "prompt_number": 6
    },
    {
     "cell_type": "heading",
     "level": 2,
     "metadata": {},
     "source": [
      "Naive Bayes"
     ]
    },
    {
     "cell_type": "code",
     "collapsed": false,
     "input": [
      "from sklearn import datasets\n",
      "iris = datasets.load_iris()\n",
      "from sklearn.cross_validation import train_test_split\n",
      "X_train, X_test, Y_train, Y_test = train_test_split(iris.data, iris.target, test_size=0.2, random_state=0)"
     ],
     "language": "python",
     "metadata": {},
     "outputs": [],
     "prompt_number": 7
    },
    {
     "cell_type": "code",
     "collapsed": false,
     "input": [
      "from sklearn.naive_bayes import GaussianNB\n",
      "clf = GaussianNB()\n",
      "clf.fit(X_train, Y_train)\n",
      "Y_pred = clf.predict(X_test)"
     ],
     "language": "python",
     "metadata": {},
     "outputs": [],
     "prompt_number": 8
    },
    {
     "cell_type": "code",
     "collapsed": false,
     "input": [
      "from sklearn.metrics import classification_report\n",
      "print classification_report(Y_test, Y_pred)"
     ],
     "language": "python",
     "metadata": {},
     "outputs": [
      {
       "output_type": "stream",
       "stream": "stdout",
       "text": [
        "             precision    recall  f1-score   support\n",
        "\n",
        "          0       1.00      1.00      1.00        11\n",
        "          1       0.93      1.00      0.96        13\n",
        "          2       1.00      0.83      0.91         6\n",
        "\n",
        "avg / total       0.97      0.97      0.97        30\n",
        "\n"
       ]
      }
     ],
     "prompt_number": 9
    },
    {
     "cell_type": "code",
     "collapsed": false,
     "input": [
      "%timeit clf.fit(X_train, Y_train)"
     ],
     "language": "python",
     "metadata": {},
     "outputs": [
      {
       "output_type": "stream",
       "stream": "stdout",
       "text": [
        "1000 loops, best of 3: 430 \u00b5s per loop\n"
       ]
      }
     ],
     "prompt_number": 10
    },
    {
     "cell_type": "heading",
     "level": 2,
     "metadata": {},
     "source": [
      "K-nearest neighbours"
     ]
    },
    {
     "cell_type": "code",
     "collapsed": false,
     "input": [
      "from sklearn.utils import shuffle\n",
      "from sklearn.datasets import fetch_mldata\n",
      "from sklearn.cross_validation import train_test_split"
     ],
     "language": "python",
     "metadata": {},
     "outputs": [],
     "prompt_number": 11
    },
    {
     "cell_type": "code",
     "collapsed": false,
     "input": [
      "mnist = fetch_mldata(\"MNIST original\")"
     ],
     "language": "python",
     "metadata": {},
     "outputs": [],
     "prompt_number": 12
    },
    {
     "cell_type": "code",
     "collapsed": false,
     "input": [
      "mnist.data, mnist.target = shuffle(mnist.data, mnist.target)"
     ],
     "language": "python",
     "metadata": {},
     "outputs": [],
     "prompt_number": 13
    },
    {
     "cell_type": "code",
     "collapsed": false,
     "input": [
      "# We reduce the dataset size, otherwise it'll take too much time to run\n",
      "mnist.data = mnist.data[:1000]\n",
      "mnist.target = mnist.target[:1000]\n",
      "\n",
      "X_train, X_test, Y_train, Y_test = train_test_split(mnist.data, mnist.target, test_size=0.8, random_state=0)"
     ],
     "language": "python",
     "metadata": {},
     "outputs": [],
     "prompt_number": 14
    },
    {
     "cell_type": "code",
     "collapsed": false,
     "input": [
      "from sklearn.neighbors import KNeighborsClassifier\n",
      "# KNN: K=10, default measure of distance (euclidean)\n",
      "clf = KNeighborsClassifier(3)\n",
      "clf.fit(X_train, Y_train)\n",
      "Y_pred = clf.predict(X_test)"
     ],
     "language": "python",
     "metadata": {},
     "outputs": [],
     "prompt_number": 15
    },
    {
     "cell_type": "code",
     "collapsed": false,
     "input": [
      "from sklearn.metrics import classification_report\n",
      "print classification_report(Y_test, Y_pred)"
     ],
     "language": "python",
     "metadata": {},
     "outputs": [
      {
       "output_type": "stream",
       "stream": "stdout",
       "text": [
        "             precision    recall  f1-score   support\n",
        "\n",
        "        0.0       0.82      0.81      0.82        63\n",
        "        1.0       0.55      0.99      0.71        87\n",
        "        2.0       0.80      0.55      0.65        67\n",
        "        3.0       0.76      0.73      0.74        84\n",
        "        4.0       0.65      0.64      0.65        76\n",
        "        5.0       0.74      0.75      0.74        75\n",
        "        6.0       0.95      0.73      0.83        85\n",
        "        7.0       0.88      0.74      0.80        92\n",
        "        8.0       0.74      0.60      0.66        80\n",
        "        9.0       0.58      0.63      0.60        91\n",
        "\n",
        "avg / total       0.75      0.72      0.72       800\n",
        "\n"
       ]
      }
     ],
     "prompt_number": 16
    },
    {
     "cell_type": "code",
     "collapsed": false,
     "input": [
      "%timeit clf.fit(X_train, Y_train)"
     ],
     "language": "python",
     "metadata": {},
     "outputs": [
      {
       "output_type": "stream",
       "stream": "stdout",
       "text": [
        "100 loops, best of 3: 3.3 ms per loop\n"
       ]
      }
     ],
     "prompt_number": 17
    },
    {
     "cell_type": "code",
     "collapsed": false,
     "input": [
      "%timeit clf.predict(X_test)"
     ],
     "language": "python",
     "metadata": {},
     "outputs": [
      {
       "output_type": "stream",
       "stream": "stdout",
       "text": [
        "1 loops, best of 3: 277 ms per loop\n"
       ]
      }
     ],
     "prompt_number": 18
    },
    {
     "cell_type": "heading",
     "level": 2,
     "metadata": {},
     "source": [
      "Advanced non linear algorithms"
     ]
    },
    {
     "cell_type": "heading",
     "level": 3,
     "metadata": {},
     "source": [
      "SVM for classification"
     ]
    },
    {
     "cell_type": "code",
     "collapsed": false,
     "input": [
      "import urllib2\n",
      "target_page = 'http://www.csie.ntu.edu.tw/~cjlin/libsvmtools/datasets/binary/ijcnn1.bz2'\n",
      "with open('ijcnn1.bz2','wb') as W:\n",
      "    W.write(urllib2.urlopen(target_page).read())"
     ],
     "language": "python",
     "metadata": {},
     "outputs": [],
     "prompt_number": 20
    },
    {
     "cell_type": "code",
     "collapsed": false,
     "input": [
      "from sklearn.datasets import load_svmlight_file\n",
      "X_train, y_train = load_svmlight_file('ijcnn1.bz2')\n",
      "first_rows = 2500\n",
      "X_train, y_train = X_train[:first_rows,:], y_train[:first_rows]"
     ],
     "language": "python",
     "metadata": {},
     "outputs": [],
     "prompt_number": 21
    },
    {
     "cell_type": "code",
     "collapsed": false,
     "input": [
      "from sklearn.cross_validation import cross_val_score\n",
      "from sklearn.svm import SVC\n",
      "hypothesis = SVC(kernel='rbf', degree=2, random_state=101)\n",
      "scores = cross_val_score(hypothesis, X_train, y_train, cv=5, scoring='accuracy', n_jobs=-1)\n",
      "print \"SVC with rbf kernel -> cross validation accuracy: mean = %0.3f std = %0.3f\" % (np.mean(scores), np.std(scores))"
     ],
     "language": "python",
     "metadata": {},
     "outputs": [
      {
       "output_type": "stream",
       "stream": "stdout",
       "text": [
        "SVC with rbf kernel -> cross validation accuracy: mean = 0.910 std = 0.001\n"
       ]
      }
     ],
     "prompt_number": 22
    },
    {
     "cell_type": "code",
     "collapsed": false,
     "input": [
      "import urllib2\n",
      "target_page = 'http://www.csie.ntu.edu.tw/~cjlin/libsvmtools/datasets/multiclass/poker.bz2'\n",
      "with open('poker.bz2','wb') as W:\n",
      "    W.write(urllib2.urlopen(target_page).read())"
     ],
     "language": "python",
     "metadata": {},
     "outputs": [],
     "prompt_number": 23
    },
    {
     "cell_type": "code",
     "collapsed": false,
     "input": [
      "from sklearn.datasets import load_svmlight_file\n",
      "X_train, y_train = load_svmlight_file('poker.bz2')\n",
      "from sklearn.preprocessing import OneHotEncoder\n",
      "hot_encoding = OneHotEncoder(sparse=True)\n",
      "X_train = hot_encoding.fit_transform(X_train.toarray())"
     ],
     "language": "python",
     "metadata": {},
     "outputs": [],
     "prompt_number": 24
    },
    {
     "cell_type": "code",
     "collapsed": false,
     "input": [
      "from sklearn.cross_validation import cross_val_score\n",
      "from sklearn.svm import LinearSVC\n",
      "hypothesis = LinearSVC(dual=False)\n",
      "scores = cross_val_score(hypothesis, X_train, y_train, cv=3, scoring='accuracy', n_jobs=-1)\n",
      "print \"LinearSVC -> cross validation accuracy: mean = %0.3f std = %0.3f\" % (np.mean(scores), np.std(scores))"
     ],
     "language": "python",
     "metadata": {},
     "outputs": [
      {
       "output_type": "stream",
       "stream": "stdout",
       "text": [
        "LinearSVC -> cross validation accuracy: mean = 0.490 std = 0.004\n"
       ]
      }
     ],
     "prompt_number": 26
    },
    {
     "cell_type": "heading",
     "level": 3,
     "metadata": {},
     "source": [
      "SVM for regression"
     ]
    },
    {
     "cell_type": "code",
     "collapsed": false,
     "input": [
      "import urllib2\n",
      "target_page = 'http://www.csie.ntu.edu.tw/~cjlin/libsvmtools/datasets/regression/cadata'\n",
      "from sklearn.datasets import load_svmlight_file\n",
      "X_train, y_train = load_svmlight_file(urllib2.urlopen(target_page))\n",
      "from sklearn.preprocessing import scale\n",
      "first_rows = 2000\n",
      "X_train = scale(X_train[:first_rows,:].toarray())\n",
      "y_train = y_train[:first_rows]/10**4.0"
     ],
     "language": "python",
     "metadata": {},
     "outputs": [],
     "prompt_number": 29
    },
    {
     "cell_type": "code",
     "collapsed": false,
     "input": [
      "from sklearn.cross_validation import cross_val_score\n",
      "from sklearn.svm import SVR\n",
      "hypothesis = SVR()\n",
      "scores = cross_val_score(hypothesis, X_train, y_train, cv=3, scoring='mean_absolute_error', n_jobs=-1)\n",
      "print \"SVR -> cross validation accuracy: mean = %0.3f std = %0.3f\" % (np.mean(scores), np.std(scores))"
     ],
     "language": "python",
     "metadata": {},
     "outputs": [
      {
       "output_type": "stream",
       "stream": "stdout",
       "text": [
        "SVR -> cross validation accuracy: mean = -4.618 std = 0.347\n"
       ]
      }
     ],
     "prompt_number": 30
    },
    {
     "cell_type": "heading",
     "level": 3,
     "metadata": {},
     "source": [
      "Tuning SVM"
     ]
    },
    {
     "cell_type": "code",
     "collapsed": false,
     "input": [
      "X_train, y_train = load_svmlight_file('ijcnn1.bz2')\n",
      "first_rows = 2500\n",
      "X_train, y_train = X_train[:first_rows,:], y_train[:first_rows]\n",
      "from sklearn.svm import SVC\n",
      "from sklearn.grid_search import RandomizedSearchCV\n",
      "hypothesis = SVC(kernel='rbf', random_state=101)\n",
      "search_dict = {'degree':[2,3], 'C': [0.01, 0.1, 1, 10, 100, 1000], 'gamma': [0.1, 0.01, 0.001, 0.0001]}\n",
      "search_func = RandomizedSearchCV(estimator=hypothesis, param_distributions=search_dict, n_iter=30, scoring='accuracy', \tn_jobs=-1, iid=True, refit=True, cv=5, random_state=101)\n",
      "search_func.fit(X_train, y_train)\n",
      "print 'Best parameters %s' % search_func.best_params_\n",
      "print 'Cross validation accuracy: mean = %0.3f' % search_func.best_score_"
     ],
     "language": "python",
     "metadata": {},
     "outputs": [
      {
       "output_type": "stream",
       "stream": "stdout",
       "text": [
        "Best parameters {'C': 100, 'gamma': 0.1, 'degree': 3}\n",
        "Cross validation accuracy: mean = 0.998\n"
       ]
      }
     ],
     "prompt_number": 31
    },
    {
     "cell_type": "heading",
     "level": 2,
     "metadata": {},
     "source": [
      "Ensemble strategies"
     ]
    },
    {
     "cell_type": "code",
     "collapsed": false,
     "input": [
      "from sklearn.datasets import fetch_covtype\n",
      "covertype_dataset = fetch_covtype(random_state=101, shuffle=True)\n",
      "print covertype_dataset.DESCR\n",
      "covertype_X = covertype_dataset.data[:15000,:]\n",
      "covertype_y = covertype_dataset.target[:15000]\n",
      "covertypes = ['Spruce/Fir', 'Lodgepole Pine', 'Ponderosa Pine', 'Cottonwood/Willow', 'Aspen', 'Douglas-fir', 'Krummholz']"
     ],
     "language": "python",
     "metadata": {},
     "outputs": [
      {
       "output_type": "stream",
       "stream": "stdout",
       "text": [
        "Forest covertype dataset.\n",
        "\n",
        "A classic dataset for classification benchmarks, featuring categorical and\n",
        "real-valued features.\n",
        "\n",
        "The dataset page is available from UCI Machine Learning Repository\n",
        "\n",
        "    http://archive.ics.uci.edu/ml/datasets/Covertype\n",
        "\n",
        "Courtesy of Jock A. Blackard and Colorado State University.\n",
        "\n"
       ]
      }
     ],
     "prompt_number": 33
    },
    {
     "cell_type": "heading",
     "level": 3,
     "metadata": {},
     "source": [
      "Bagging with weak ensembles"
     ]
    },
    {
     "cell_type": "code",
     "collapsed": false,
     "input": [
      "from sklearn.cross_validation import cross_val_score\n",
      "from sklearn.ensemble import BaggingClassifier\n",
      "from sklearn.neighbors import KNeighborsClassifier\n",
      "hypothesis = BaggingClassifier(KNeighborsClassifier(n_neighbors=1), max_samples=0.7, max_features=0.7, n_estimators=100)\n",
      "scores = cross_val_score(hypothesis, covertype_X, covertype_y, cv=3, scoring='accuracy', n_jobs=-1)\n",
      "print \"BaggingClassifier -> cross validation accuracy: mean = %0.3f std = %0.3f\" % (np.mean(scores), np.std(scores))"
     ],
     "language": "python",
     "metadata": {},
     "outputs": [
      {
       "output_type": "stream",
       "stream": "stdout",
       "text": [
        "BaggingClassifier -> cross validation accuracy: mean = 0.797 std = 0.001\n"
       ]
      }
     ],
     "prompt_number": 34
    },
    {
     "cell_type": "heading",
     "level": 3,
     "metadata": {},
     "source": [
      "Random subspaces and random patches"
     ]
    },
    {
     "cell_type": "code",
     "collapsed": false,
     "input": [
      "from sklearn.cross_validation import cross_val_score\n",
      "from sklearn.ensemble import RandomForestClassifier\n",
      "hypothesis = RandomForestClassifier(n_estimators=100, random_state=101)\n",
      "scores = cross_val_score(hypothesis, covertype_X, covertype_y, cv=3, scoring='accuracy', n_jobs=-1)\n",
      "print \"RandomForestClassifier -> cross validation accuracy: mean = %0.3f std = %0.3f\" % (np.mean(scores), np.std(scores))"
     ],
     "language": "python",
     "metadata": {},
     "outputs": [
      {
       "output_type": "stream",
       "stream": "stdout",
       "text": [
        "RandomForestClassifier -> cross validation accuracy: mean = 0.808 std = 0.008\n"
       ]
      }
     ],
     "prompt_number": 35
    },
    {
     "cell_type": "code",
     "collapsed": false,
     "input": [
      "from sklearn.cross_validation import cross_val_score\n",
      "from sklearn.ensemble import ExtraTreesClassifier\n",
      "hypothesis = ExtraTreesClassifier(n_estimators=100, random_state=101)\n",
      "scores = cross_val_score(hypothesis, covertype_X, covertype_y, cv=3, scoring='accuracy', n_jobs=-1)\n",
      "print \"ExtraTreesClassifier -> cross validation accuracy: mean = %0.3f std = %0.3f\" % (np.mean(scores), np.std(scores))"
     ],
     "language": "python",
     "metadata": {},
     "outputs": [
      {
       "output_type": "stream",
       "stream": "stdout",
       "text": [
        "ExtraTreesClassifier -> cross validation accuracy: mean = 0.821 std = 0.007\n"
       ]
      }
     ],
     "prompt_number": 36
    },
    {
     "cell_type": "code",
     "collapsed": false,
     "input": [
      "import urllib2\n",
      "target_page = 'http://www.csie.ntu.edu.tw/~cjlin/libsvmtools/datasets/regression/cadata'\n",
      "from sklearn.datasets import load_svmlight_file\n",
      "X_train, y_train = load_svmlight_file(urllib2.urlopen(target_page))\n",
      "from sklearn.preprocessing import scale\n",
      "first_rows = 2000"
     ],
     "language": "python",
     "metadata": {},
     "outputs": [],
     "prompt_number": 37
    },
    {
     "cell_type": "code",
     "collapsed": false,
     "input": [
      "X_train = scale(X_train[:first_rows,:].toarray())\n",
      "y_train = y_train[:first_rows]/10**4.\n",
      "from sklearn.ensemble import RandomForestRegressor\n",
      "hypothesis = RandomForestRegressor(n_estimators=300, random_state=101)\n",
      "scores = cross_val_score(hypothesis, X_train, y_train, cv=3, scoring='mean_absolute_error', n_jobs=-1)\n",
      "print \"RandomForestClassifier -> cross validation accuracy: mean = %0.3f std = %0.3f\" % (np.mean(scores), np.std(scores))"
     ],
     "language": "python",
     "metadata": {},
     "outputs": [
      {
       "output_type": "stream",
       "stream": "stdout",
       "text": [
        "RandomForestClassifier -> cross validation accuracy: mean = -4.656 std = 0.513\n"
       ]
      }
     ],
     "prompt_number": 38
    },
    {
     "cell_type": "heading",
     "level": 3,
     "metadata": {},
     "source": [
      "Sequences of models: Adaboost"
     ]
    },
    {
     "cell_type": "code",
     "collapsed": false,
     "input": [
      "from sklearn.ensemble import AdaBoostClassifier\n",
      "hypothesis = AdaBoostClassifier(n_estimators=300, random_state=101)\n",
      "scores = cross_val_score(hypothesis, covertype_X, covertype_y, cv=3, scoring='accuracy', n_jobs=-1)\n",
      "print \"Adaboost -> cross validation accuracy: mean = %0.3f std = %0.3f\" % (np.mean(scores), np.std(scores))"
     ],
     "language": "python",
     "metadata": {},
     "outputs": [
      {
       "output_type": "stream",
       "stream": "stdout",
       "text": [
        "Adaboost -> cross validation accuracy: mean = 0.610 std = 0.014\n"
       ]
      }
     ],
     "prompt_number": 39
    },
    {
     "cell_type": "heading",
     "level": 3,
     "metadata": {},
     "source": [
      "Gradient tree boosting (GTB)"
     ]
    },
    {
     "cell_type": "code",
     "collapsed": false,
     "input": [
      "import urllib2\n",
      "target_page = 'http://www.csie.ntu.edu.tw/~cjlin/libsvmtools/datasets/multiclass/poker.bz2'\n",
      "with open('poker.bz2','wb') as W:\n",
      "    W.write(urllib2.urlopen(target_page).read())\n",
      "from sklearn.datasets import load_svmlight_file\n",
      "X_train, y_train = load_svmlight_file('poker.bz2')\n",
      "from sklearn.preprocessing import OneHotEncoder\n",
      "hot_encoding = OneHotEncoder(sparse=True)\n",
      "X_train = hot_encoding.fit_transform(X_train.toarray()).toarray()[:2500,:]\n",
      "y_train = y_train[:2500]"
     ],
     "language": "python",
     "metadata": {},
     "outputs": [],
     "prompt_number": 40
    },
    {
     "cell_type": "code",
     "collapsed": false,
     "input": [
      "from sklearn.ensemble import GradientBoostingClassifier\n",
      "hypothesis = GradientBoostingClassifier(max_depth=5, n_estimators=300, random_state=101)\n",
      "scores = cross_val_score(hypothesis, X_train, y_train, cv=3, scoring='accuracy', n_jobs=-1)\n",
      "print \"GradientBoostingClassifier -> cross validation accuracy: mean = %0.3f std = %0.3f\" % (np.mean(scores), np.std(scores))"
     ],
     "language": "python",
     "metadata": {},
     "outputs": [
      {
       "output_type": "stream",
       "stream": "stdout",
       "text": [
        "GradientBoostingClassifier -> cross validation accuracy: mean = 0.804 std = 0.029\n"
       ]
      }
     ],
     "prompt_number": 41
    },
    {
     "cell_type": "heading",
     "level": 2,
     "metadata": {},
     "source": [
      "Dealing with big data"
     ]
    },
    {
     "cell_type": "heading",
     "level": 3,
     "metadata": {},
     "source": [
      "Creating some big datasets as examples"
     ]
    },
    {
     "cell_type": "code",
     "collapsed": false,
     "input": [
      "import numpy as np\n",
      "from sklearn.datasets import fetch_20newsgroups\n",
      "newsgroups_dataset = fetch_20newsgroups(shuffle=True, remove=('headers', 'footers', 'quotes'), random_state=6)\n",
      "print 'Posts inside the data: %s' % np.shape(newsgroups_dataset.data)\n",
      "print 'Average number of words for post: %0.0f' % np.mean([len(text.split(' ')) for text in newsgroups_dataset.data])"
     ],
     "language": "python",
     "metadata": {},
     "outputs": [
      {
       "output_type": "stream",
       "stream": "stdout",
       "text": [
        "Posts inside the data: 11314\n",
        "Average number of words for post: 206"
       ]
      },
      {
       "output_type": "stream",
       "stream": "stdout",
       "text": [
        "\n"
       ]
      }
     ],
     "prompt_number": 44
    },
    {
     "cell_type": "code",
     "collapsed": false,
     "input": [
      "# Attention this may take a while\n",
      "from sklearn.datasets import make_classification\n",
      "X,y = make_classification(n_samples=10**5, n_features=5, n_informative=3, random_state=101)\n",
      "D = np.c_[y,X]\n",
      "np.savetxt('huge_dataset_10__5.csv', D, delimiter=\",\") # the saved file should be around 14,6 MB\n",
      "del(D, X, y)\n",
      "X,y = make_classification(n_samples=10**6, n_features=5, n_informative=3, random_state=101)\n",
      "D = np.c_[y,X]\n",
      "np.savetxt('huge_dataset_10__6.csv', D, delimiter=\",\") # the saved file should be around 146 MB\n",
      "del(D, X, y)\n",
      "X,y = make_classification(n_samples=10**7, n_features=5, n_informative=3, random_state=101)\n",
      "D = np.c_[y,X]\n",
      "np.savetxt('huge_dataset_10__7.csv', D, delimiter=\",\") # the saved file should be around 1,46 GB\n",
      "del(D, X, y)"
     ],
     "language": "python",
     "metadata": {},
     "outputs": [],
     "prompt_number": 45
    },
    {
     "cell_type": "heading",
     "level": 3,
     "metadata": {},
     "source": [
      "Scalability with volume"
     ]
    },
    {
     "cell_type": "code",
     "collapsed": false,
     "input": [
      "from sklearn.linear_model import SGDClassifier\n",
      "from sklearn.preprocessing import MinMaxScaler\n",
      "import pandas as pd\n",
      "streaming = pd.read_csv('huge_dataset_10__7.csv', header=None, chunksize=10000)\n",
      "learner = SGDClassifier(loss='log')\n",
      "minmax_scaler = MinMaxScaler(feature_range=(0, 1))\n",
      "cumulative_accuracy = list()\n",
      "for n,chunk in enumerate(streaming):\n",
      "    if n == 0:\n",
      "            minmax_scaler.fit(chunk.ix[:,1:].values)\n",
      "    X = minmax_scaler.transform(chunk.ix[:,1:].values)\n",
      "    X[X>1] = 1\n",
      "    X[X<0] = 0  \n",
      "    y = chunk.ix[:,0]\n",
      "    if n > 8 :\n",
      "        cumulative_accuracy.append(learner.score(X,y))\n",
      "    learner.partial_fit(X,y,classes=np.unique(y))\n",
      "print 'Progressive validation mean accuracy %0.3f' % np.mean(cumulative_accuracy)"
     ],
     "language": "python",
     "metadata": {},
     "outputs": [
      {
       "output_type": "stream",
       "stream": "stdout",
       "text": [
        "Progressive validation mean accuracy 0.660\n"
       ]
      }
     ],
     "prompt_number": 46
    },
    {
     "cell_type": "heading",
     "level": 2,
     "metadata": {},
     "source": [
      "Keeping up with velocity"
     ]
    },
    {
     "cell_type": "code",
     "collapsed": false,
     "input": [
      "from sklearn.naive_bayes import MultinomialNB\n",
      "from sklearn.naive_bayes import BernoulliNB\n",
      "from sklearn.linear_model import Perceptron\n",
      "from sklearn.linear_model import SGDClassifier\n",
      "from sklearn.linear_model import PassiveAggressiveClassifier\n",
      "import pandas as pd\n",
      "from datetime import datetime\n",
      "classifiers  = {\n",
      "'SGDClassifier hinge loss' : SGDClassifier(loss='hinge', random_state=101),\n",
      "'SGDClassifier log loss' : SGDClassifier(loss='log', random_state=101),\n",
      "'Perceptron' : Perceptron(random_state=101),\n",
      "'BernoulliNB' : BernoulliNB(),\n",
      "'PassiveAggressiveClassifier' : PassiveAggressiveClassifier(random_state=101)\n",
      "}\n",
      "huge_dataset = 'huge_dataset_10__6.csv'\n",
      "for algorithm in classifiers:\n",
      "    start = datetime.now()\n",
      "    minmax_scaler = MinMaxScaler(feature_range=(0, 1))\n",
      "    streaming = pd.read_csv(huge_dataset, header=None, chunksize=100)\n",
      "    learner = classifiers[algorithm]\n",
      "    cumulative_accuracy = list()\n",
      "    for n,chunk in enumerate(streaming):\n",
      "        y = chunk.ix[:,0]\n",
      "        X = chunk.ix[:,1:]\n",
      "        if n > 50 :\n",
      "            cumulative_accuracy.append(learner.score(X,y))\n",
      "        learner.partial_fit(X,y,classes=np.unique(y))\n",
      "    elapsed_time = datetime.now() - start\n",
      "    print algorithm + ' : mean accuracy %0.3f in %s secs' % (np.mean(cumulative_accuracy),elapsed_time.total_seconds())"
     ],
     "language": "python",
     "metadata": {},
     "outputs": [
      {
       "output_type": "stream",
       "stream": "stdout",
       "text": [
        "BernoulliNB : mean accuracy 0.734 in 60.617 secs\n",
        "Perceptron : mean accuracy 0.616 in 54.039 secs"
       ]
      },
      {
       "output_type": "stream",
       "stream": "stdout",
       "text": [
        "\n",
        "SGDClassifier hinge loss : mean accuracy 0.712 in 52.475 secs"
       ]
      },
      {
       "output_type": "stream",
       "stream": "stdout",
       "text": [
        "\n",
        "SGDClassifier log loss : mean accuracy 0.716 in 52.271 secs"
       ]
      },
      {
       "output_type": "stream",
       "stream": "stdout",
       "text": [
        "\n",
        "PassiveAggressiveClassifier : mean accuracy 0.625 in 51.344 secs"
       ]
      },
      {
       "output_type": "stream",
       "stream": "stdout",
       "text": [
        "\n"
       ]
      }
     ],
     "prompt_number": 48
    },
    {
     "cell_type": "heading",
     "level": 3,
     "metadata": {},
     "source": [
      "Dealing with variety"
     ]
    },
    {
     "cell_type": "code",
     "collapsed": false,
     "input": [
      "import pandas as pd\n",
      "from sklearn.linear_model import SGDClassifier\n",
      "from sklearn.feature_extraction.text import HashingVectorizer\n",
      "def streaming():\n",
      "    for response, item in zip(newsgroups_dataset.target, newsgroups_dataset.data):\n",
      "        yield response, item\n",
      "hashing_trick = HashingVectorizer(stop_words='english', norm = 'l2', non_negative=True)\n",
      "learner = SGDClassifier(random_state=101)\n",
      "texts = list()\n",
      "targets = list()\n",
      "for n,(target, text) in enumerate(streaming()):\n",
      "    texts.append(text)\n",
      "    targets.append(target)\n",
      "    if n % 1000 == 0 and n >0:\n",
      "        learning_chunk = hashing_trick.transform(texts)\n",
      "        if n > 1000:\n",
      "            last_validation_score = learner.score(learning_chunk, targets),\n",
      "        learner.partial_fit(learning_chunk, targets, classes=[k for k in range(20)])\n",
      "        texts, targets = list(), list()\n",
      "print 'Last validation score: %0.3f' % last_validation_score"
     ],
     "language": "python",
     "metadata": {},
     "outputs": [
      {
       "output_type": "stream",
       "stream": "stdout",
       "text": [
        "Last validation score: 0.710\n"
       ]
      }
     ],
     "prompt_number": 49
    },
    {
     "cell_type": "code",
     "collapsed": false,
     "input": [
      "New_text = ['A 2014 red Toyota Prius v Five with fewer than 14K miles. Powered by a reliable 1.8L four cylinder hybrid engine that averages 44mpg in the city and 40mpg on the highway.']\n",
      "text_vector = hashing_trick.transform(New_text)\n",
      "print np.shape(text_vector), type(text_vector)\n",
      "print 'Predicted newsgroup: %s' % newsgroups_dataset.target_names[learner.predict(text_vector)]"
     ],
     "language": "python",
     "metadata": {},
     "outputs": [
      {
       "output_type": "stream",
       "stream": "stdout",
       "text": [
        "(1, 1048576) <class 'scipy.sparse.csr.csr_matrix'>\n",
        "Predicted newsgroup: rec.autos"
       ]
      },
      {
       "output_type": "stream",
       "stream": "stdout",
       "text": [
        "\n"
       ]
      }
     ],
     "prompt_number": 50
    },
    {
     "cell_type": "heading",
     "level": 2,
     "metadata": {},
     "source": [
      "A peek of NLP"
     ]
    },
    {
     "cell_type": "heading",
     "level": 3,
     "metadata": {},
     "source": [
      "Word tokenisation"
     ]
    },
    {
     "cell_type": "code",
     "collapsed": false,
     "input": [
      "my_text = \"The sexy job in the next 10 years will be statisticians. People think I'm joking, but who would've guessed that computer engineers would've been the sexy job of the 1990s?\"\n",
      "simple_tokens = my_text.split(' ')\n",
      "print simple_tokens"
     ],
     "language": "python",
     "metadata": {},
     "outputs": [
      {
       "output_type": "stream",
       "stream": "stdout",
       "text": [
        "['The', 'sexy', 'job', 'in', 'the', 'next', '10', 'years', 'will', 'be', 'statisticians.', 'People', 'think', \"I'm\", 'joking,', 'but', 'who', \"would've\", 'guessed', 'that', 'computer', 'engineers', \"would've\", 'been', 'the', 'sexy', 'job', 'of', 'the', '1990s?']\n"
       ]
      }
     ],
     "prompt_number": 51
    },
    {
     "cell_type": "markdown",
     "metadata": {},
     "source": [
      "Executing this or other nltk package calls, \n",
      "In case of an error saying: \u201cResource u'tokenizers/punkt/english.pickle' not found.\u201d,\n",
      "just write on your console: nltk.download() \n",
      "and select to download everything or just to browse for the missing resource that triggered the warning."
     ]
    },
    {
     "cell_type": "code",
     "collapsed": false,
     "input": [
      "import nltk\n",
      "nltk_tokens = nltk.word_tokenize(my_text)\n",
      "print nltk_tokens"
     ],
     "language": "python",
     "metadata": {},
     "outputs": [
      {
       "output_type": "stream",
       "stream": "stdout",
       "text": [
        "['The', 'sexy', 'job', 'in', 'the', 'next', '10', 'years', 'will', 'be', 'statisticians', '.', 'People', 'think', 'I', \"'m\", 'joking', ',', 'but', 'who', 'would', \"'ve\", 'guessed', 'that', 'computer', 'engineers', 'would', \"'ve\", 'been', 'the', 'sexy', 'job', 'of', 'the', '1990s', '?']\n"
       ]
      }
     ],
     "prompt_number": 55
    },
    {
     "cell_type": "heading",
     "level": 3,
     "metadata": {},
     "source": [
      "Stemming"
     ]
    },
    {
     "cell_type": "code",
     "collapsed": false,
     "input": [
      "from nltk.stem import *\n",
      "stemmer = LancasterStemmer()\n",
      "print [stemmer.stem(word) for word in nltk_tokens]"
     ],
     "language": "python",
     "metadata": {},
     "outputs": [
      {
       "output_type": "stream",
       "stream": "stdout",
       "text": [
        "['the', 'sexy', 'job', 'in', 'the', 'next', '10', 'year', 'wil', 'be', 'stat', '.', 'peopl', 'think', 'i', \"'m\", 'jok', ',', 'but', 'who', 'would', \"'ve\", 'guess', 'that', 'comput', 'engin', 'would', \"'ve\", 'been', 'the', 'sexy', 'job', 'of', 'the', '1990s', '?']\n"
       ]
      }
     ],
     "prompt_number": 57
    },
    {
     "cell_type": "heading",
     "level": 3,
     "metadata": {},
     "source": [
      "Word Tagging"
     ]
    },
    {
     "cell_type": "code",
     "collapsed": false,
     "input": [
      "print nltk.pos_tag(nltk_tokens)"
     ],
     "language": "python",
     "metadata": {},
     "outputs": [
      {
       "output_type": "stream",
       "stream": "stdout",
       "text": [
        "[('The', 'DT'), ('sexy', 'NN'), ('job', 'NN'), ('in', 'IN'), ('the', 'DT'), ('next', 'JJ'), ('10', 'CD'), ('years', 'NNS'), ('will', 'MD'), ('be', 'VB'), ('statisticians', 'NNS'), ('.', '.'), ('People', 'NNS'), ('think', 'VBP'), ('I', 'PRP'), (\"'m\", 'VBP'), ('joking', 'VBG'), (',', ','), ('but', 'CC'), ('who', 'WP'), ('would', 'MD'), (\"'ve\", 'VB'), ('guessed', 'VBN'), ('that', 'IN'), ('computer', 'NN'), ('engineers', 'NNS'), ('would', 'MD'), (\"'ve\", 'VB'), ('been', 'VBN'), ('the', 'DT'), ('sexy', 'NN'), ('job', 'NN'), ('of', 'IN'), ('the', 'DT'), ('1990s', 'CD'), ('?', '.')]\n"
       ]
      }
     ],
     "prompt_number": 58
    },
    {
     "cell_type": "heading",
     "level": 3,
     "metadata": {},
     "source": [
      "Named Entity Recognition"
     ]
    },
    {
     "cell_type": "code",
     "collapsed": false,
     "input": [
      "text = \"Elvis Aaron Presley was an American singer and actor. Born in Tupelo, Mississippi, when Presley was 13 years old he and his family relocated to Memphis, Tennessee.\"\n",
      "chunks = nltk.ne_chunk(nltk.pos_tag(nltk.word_tokenize(text)))\n",
      "print chunks"
     ],
     "language": "python",
     "metadata": {},
     "outputs": [
      {
       "output_type": "stream",
       "stream": "stdout",
       "text": [
        "(S\n",
        "  (PERSON Elvis/NNP)\n",
        "  (PERSON Aaron/NNP Presley/NNP)\n",
        "  was/VBD\n",
        "  an/DT\n",
        "  (GPE American/JJ)\n",
        "  singer/NN\n",
        "  and/CC\n",
        "  actor/NN\n",
        "  ./.\n",
        "  Born/NNP\n",
        "  in/IN\n",
        "  (GPE Tupelo/NNP)\n",
        "  ,/,\n",
        "  (GPE Mississippi/NNP)\n",
        "  ,/,\n",
        "  when/WRB\n",
        "  (PERSON Presley/NNP)\n",
        "  was/VBD\n",
        "  13/CD\n",
        "  years/NNS\n",
        "  old/JJ\n",
        "  he/PRP\n",
        "  and/CC\n",
        "  his/PRP$\n",
        "  family/NN\n",
        "  relocated/VBD\n",
        "  to/TO\n",
        "  (GPE Memphis/NNP)\n",
        "  ,/,\n",
        "  (GPE Tennessee/NNP)\n",
        "  ./.)\n"
       ]
      }
     ],
     "prompt_number": 59
    },
    {
     "cell_type": "heading",
     "level": 3,
     "metadata": {},
     "source": [
      "Stopwords"
     ]
    },
    {
     "cell_type": "code",
     "collapsed": false,
     "input": [
      "from sklearn.feature_extraction import text\n",
      "stop_words = text.ENGLISH_STOP_WORDS\n",
      "print stop_words"
     ],
     "language": "python",
     "metadata": {},
     "outputs": [
      {
       "output_type": "stream",
       "stream": "stdout",
       "text": [
        "frozenset(['all', 'six', 'less', 'being', 'indeed', 'over', 'move', 'anyway', 'four', 'not', 'own', 'through', 'yourselves', 'fify', 'where', 'mill', 'only', 'find', 'before', 'one', 'whose', 'system', 'how', 'somewhere', 'with', 'thick', 'show', 'had', 'enough', 'should', 'to', 'must', 'whom', 'seeming', 'under', 'ours', 'has', 'might', 'thereafter', 'latterly', 'do', 'them', 'his', 'around', 'than', 'get', 'very', 'de', 'none', 'cannot', 'every', 'whether', 'they', 'front', 'during', 'thus', 'now', 'him', 'nor', 'name', 'several', 'hereafter', 'always', 'who', 'cry', 'whither', 'this', 'someone', 'either', 'each', 'become', 'thereupon', 'sometime', 'side', 'two', 'therein', 'twelve', 'because', 'often', 'ten', 'our', 'eg', 'some', 'back', 'up', 'go', 'namely', 'towards', 'are', 'further', 'beyond', 'ourselves', 'yet', 'out', 'even', 'will', 'what', 'still', 'for', 'bottom', 'mine', 'since', 'please', 'forty', 'per', 'its', 'everything', 'behind', 'un', 'above', 'between', 'it', 'neither', 'seemed', 'ever', 'across', 'she', 'somehow', 'be', 'we', 'full', 'never', 'sixty', 'however', 'here', 'otherwise', 'were', 'whereupon', 'nowhere', 'although', 'found', 'alone', 're', 'along', 'fifteen', 'by', 'both', 'about', 'last', 'would', 'anything', 'via', 'many', 'could', 'thence', 'put', 'against', 'keep', 'etc', 'amount', 'became', 'ltd', 'hence', 'onto', 'or', 'con', 'among', 'already', 'co', 'afterwards', 'formerly', 'within', 'seems', 'into', 'others', 'while', 'whatever', 'except', 'down', 'hers', 'everyone', 'done', 'least', 'another', 'whoever', 'moreover', 'couldnt', 'throughout', 'anyhow', 'yourself', 'three', 'from', 'her', 'few', 'together', 'top', 'there', 'due', 'been', 'next', 'anyone', 'eleven', 'much', 'call', 'therefore', 'interest', 'then', 'thru', 'themselves', 'hundred', 'was', 'sincere', 'empty', 'more', 'himself', 'elsewhere', 'mostly', 'on', 'fire', 'am', 'becoming', 'hereby', 'amongst', 'else', 'part', 'everywhere', 'too', 'herself', 'former', 'those', 'he', 'me', 'myself', 'made', 'twenty', 'these', 'bill', 'cant', 'us', 'until', 'besides', 'nevertheless', 'below', 'anywhere', 'nine', 'can', 'of', 'toward', 'my', 'something', 'and', 'whereafter', 'whenever', 'give', 'almost', 'wherever', 'is', 'describe', 'beforehand', 'herein', 'an', 'as', 'itself', 'at', 'have', 'in', 'seem', 'whence', 'ie', 'any', 'fill', 'again', 'hasnt', 'inc', 'thereby', 'thin', 'no', 'perhaps', 'latter', 'meanwhile', 'when', 'detail', 'same', 'wherein', 'beside', 'also', 'that', 'other', 'take', 'which', 'becomes', 'you', 'if', 'nobody', 'see', 'though', 'may', 'after', 'upon', 'most', 'hereupon', 'eight', 'but', 'serious', 'nothing', 'such', 'your', 'why', 'a', 'off', 'whereby', 'third', 'i', 'whole', 'noone', 'sometimes', 'well', 'amoungst', 'yours', 'their', 'rather', 'without', 'so', 'five', 'the', 'first', 'whereas', 'once'])\n"
       ]
      }
     ],
     "prompt_number": 60
    },
    {
     "cell_type": "heading",
     "level": 3,
     "metadata": {},
     "source": [
      "A complete data science example: text classification"
     ]
    },
    {
     "cell_type": "code",
     "collapsed": false,
     "input": [
      "from sklearn.datasets import fetch_20newsgroups\n",
      "from sklearn.feature_extraction.text import TfidfVectorizer\n",
      "from sklearn.linear_model import SGDClassifier\n",
      "from sklearn.metrics import accuracy_score\n",
      "from sklearn.datasets import fetch_20newsgroups\n",
      "categories = ['sci.med', 'sci.space']\n",
      "to_remove = ('headers', 'footers', 'quotes')\n",
      "twenty_sci_news_train = fetch_20newsgroups(subset='train', remove=to_remove, categories=categories)\n",
      "twenty_sci_news_test = fetch_20newsgroups(subset='test', remove=to_remove, categories=categories)"
     ],
     "language": "python",
     "metadata": {},
     "outputs": [],
     "prompt_number": 61
    },
    {
     "cell_type": "code",
     "collapsed": false,
     "input": [
      "tf_vect = TfidfVectorizer()\n",
      "X_train = tf_vect.fit_transform(twenty_sci_news_train.data)\n",
      "X_test = tf_vect.transform(twenty_sci_news_test.data)\n",
      "Y_train = twenty_sci_news_train.target\n",
      "Y_test = twenty_sci_news_test.target"
     ],
     "language": "python",
     "metadata": {},
     "outputs": [],
     "prompt_number": 62
    },
    {
     "cell_type": "code",
     "collapsed": false,
     "input": [
      "clf = SGDClassifier()\n",
      "clf.fit(X_train, Y_train)\n",
      "Y_pred = clf.predict(X_test)\n",
      "print \"Accuracy=\", accuracy_score(Y_test, Y_pred)"
     ],
     "language": "python",
     "metadata": {},
     "outputs": [
      {
       "output_type": "stream",
       "stream": "stdout",
       "text": [
        "Accuracy= 0.878481012658\n"
       ]
      }
     ],
     "prompt_number": 63
    },
    {
     "cell_type": "code",
     "collapsed": false,
     "input": [
      "def clean_and_stem_text(text):\n",
      "    tokens = nltk.word_tokenize(text.lower())\n",
      "    clean_tokens = [word for word in tokens if word not in stop_words]\n",
      "    stem_tokens = [stemmer.stem(token) for token in clean_tokens]\n",
      "    return \" \".join(stem_tokens)\n",
      "cleaned_docs_train = [clean_and_stem_text(text) for text in twenty_sci_news_train.data]\n",
      "cleaned_docs_test = [clean_and_stem_text(text) for text in twenty_sci_news_test.data]"
     ],
     "language": "python",
     "metadata": {},
     "outputs": [],
     "prompt_number": 64
    },
    {
     "cell_type": "code",
     "collapsed": false,
     "input": [
      "X1_train = tf_vect.fit_transform(cleaned_docs_train)\n",
      "X1_test = tf_vect.transform(cleaned_docs_test)\n",
      "clf.fit(X1_train, Y_train)\n",
      "Y1_pred = clf.predict(X1_test)\n",
      "print \"Accuracy=\", accuracy_score(Y_test, Y1_pred)"
     ],
     "language": "python",
     "metadata": {},
     "outputs": [
      {
       "output_type": "stream",
       "stream": "stdout",
       "text": [
        "Accuracy= 0.884810126582\n"
       ]
      }
     ],
     "prompt_number": 65
    },
    {
     "cell_type": "heading",
     "level": 2,
     "metadata": {},
     "source": [
      "An overview of unsupervised learning"
     ]
    },
    {
     "cell_type": "code",
     "collapsed": false,
     "input": [
      "%matplotlib inline\n",
      "import numpy as np\n",
      "import matplotlib.pyplot as plt\n",
      "from sklearn import datasets"
     ],
     "language": "python",
     "metadata": {},
     "outputs": [],
     "prompt_number": 67
    },
    {
     "cell_type": "code",
     "collapsed": false,
     "input": [
      "from sklearn import datasets\n",
      "N_samples = 2000\n",
      "dataset_1 = np.array(datasets.make_circles(n_samples=N_samples, noise=0.05, factor=0.3)[0])\n",
      "dataset_2 = np.array(datasets.make_blobs(n_samples=N_samples, centers=4, cluster_std=0.4, random_state=0)[0])"
     ],
     "language": "python",
     "metadata": {},
     "outputs": [],
     "prompt_number": 69
    },
    {
     "cell_type": "code",
     "collapsed": false,
     "input": [
      "plt.scatter(dataset_2[:,0], dataset_2[:,1], c='k', alpha=0.8, s=5.0)\n",
      "plt.show()"
     ],
     "language": "python",
     "metadata": {},
     "outputs": [
      {
       "metadata": {},
       "output_type": "display_data",
       "png": "[encoded data removed]",
       "text": [
        "<matplotlib.figure.Figure at 0x38fec4e0>"
       ]
      }
     ],
     "prompt_number": 70
    },
    {
     "cell_type": "code",
     "collapsed": false,
     "input": [
      "from sklearn.cluster import KMeans\n",
      "K_dataset_1 = 2\n",
      "km_1 = KMeans(n_clusters=K_dataset_1)\n",
      "labels_1 = km_1.fit(dataset_1).labels_"
     ],
     "language": "python",
     "metadata": {},
     "outputs": [],
     "prompt_number": 71
    },
    {
     "cell_type": "code",
     "collapsed": false,
     "input": [
      "plt.scatter(dataset_1[:,0], dataset_1[:,1], c=labels_1, alpha=0.8, s=5.0, lw = 0)\n",
      "plt.scatter(km_1.cluster_centers_[:,0], km_1.cluster_centers_[:,1], s=100, c=np.unique(labels_1), lw=0.2)\n",
      "plt.show()"
     ],
     "language": "python",
     "metadata": {},
     "outputs": [
      {
       "metadata": {},
       "output_type": "display_data",
       "png": "[encoded data removed]",
       "text": [
        "<matplotlib.figure.Figure at 0x39022390>"
       ]
      }
     ],
     "prompt_number": 72
    },
    {
     "cell_type": "code",
     "collapsed": false,
     "input": [
      "K_dataset_2 = 4\n",
      "km_2 = KMeans(n_clusters=K_dataset_2)\n",
      "labels_2 = km_2.fit(dataset_2).labels_"
     ],
     "language": "python",
     "metadata": {},
     "outputs": [],
     "prompt_number": 73
    },
    {
     "cell_type": "code",
     "collapsed": false,
     "input": [
      "plt.scatter(dataset_2[:,0], dataset_2[:,1], c=labels_2, alpha=0.8, s=5.0, lw = 0)\n",
      "plt.scatter(km_2.cluster_centers_[:,0], km_2.cluster_centers_[:,1], s=100, c=np.unique(labels_2), lw=0.2)\n",
      "plt.show()"
     ],
     "language": "python",
     "metadata": {},
     "outputs": [
      {
       "metadata": {},
       "output_type": "display_data",
       "png": "[encoded data removed]",
       "text": [
        "<matplotlib.figure.Figure at 0x3901e160>"
       ]
      }
     ],
     "prompt_number": 74
    },
    {
     "cell_type": "code",
     "collapsed": false,
     "input": [
      "from sklearn.cluster import DBSCAN\n",
      "dbs_1 = DBSCAN(eps=0.4)\n",
      "labels_1 = dbs_1.fit(dataset_1).labels_"
     ],
     "language": "python",
     "metadata": {},
     "outputs": [],
     "prompt_number": 75
    },
    {
     "cell_type": "code",
     "collapsed": false,
     "input": [
      "plt.scatter(dataset_1[:,0], dataset_1[:,1], c=labels_1, alpha=0.8, s=5.0, lw = 0)\n",
      "plt.show()"
     ],
     "language": "python",
     "metadata": {},
     "outputs": [
      {
       "metadata": {},
       "output_type": "display_data",
       "png": "[encoded data removed]",
       "text": [
        "<matplotlib.figure.Figure at 0x391ac668>"
       ]
      }
     ],
     "prompt_number": 76
    },
    {
     "cell_type": "code",
     "collapsed": false,
     "input": [
      "np.unique(labels_1)"
     ],
     "language": "python",
     "metadata": {},
     "outputs": [
      {
       "metadata": {},
       "output_type": "pyout",
       "prompt_number": 77,
       "text": [
        "array([0, 1])"
       ]
      }
     ],
     "prompt_number": 77
    },
    {
     "cell_type": "code",
     "collapsed": false,
     "input": [
      "dbs_2 = DBSCAN(eps=0.5)\n",
      "labels_2 = dbs_2.fit(dataset_2).labels_"
     ],
     "language": "python",
     "metadata": {},
     "outputs": [],
     "prompt_number": 79
    },
    {
     "cell_type": "code",
     "collapsed": false,
     "input": [
      "plt.scatter(dataset_2[:,0], dataset_2[:,1], c=labels_2, alpha=0.8, s=5.0, lw = 0)\n",
      "plt.show()"
     ],
     "language": "python",
     "metadata": {},
     "outputs": [
      {
       "metadata": {},
       "output_type": "display_data",
       "png": "[encoded data removed]",
       "text": [
        "<matplotlib.figure.Figure at 0x3a8691d0>"
       ]
      }
     ],
     "prompt_number": 80
    },
    {
     "cell_type": "code",
     "collapsed": false,
     "input": [
      "np.unique(labels_2)"
     ],
     "language": "python",
     "metadata": {},
     "outputs": [
      {
       "metadata": {},
       "output_type": "pyout",
       "prompt_number": 81,
       "text": [
        "array([-1,  0,  1,  2,  3])"
       ]
      }
     ],
     "prompt_number": 81
    }
   ],
   "metadata": {}
  }
 ]
}