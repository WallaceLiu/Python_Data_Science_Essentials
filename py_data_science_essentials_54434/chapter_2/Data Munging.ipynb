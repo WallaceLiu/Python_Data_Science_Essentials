{
 "metadata": {
  "name": "",
  "signature": "sha256:c9ffcaf2d2c3f47c370cd8e2cb6fa2e4832c8fb0facec1cc1a65744802e0d5bf"
 },
 "nbformat": 3,
 "nbformat_minor": 0,
 "worksheets": [
  {
   "cells": [
    {
     "cell_type": "heading",
     "level": 1,
     "metadata": {},
     "source": [
      "Data Munging"
     ]
    },
    {
     "cell_type": "heading",
     "level": 2,
     "metadata": {},
     "source": [
      "Data loading and preprocessing with\n",
      "pandas"
     ]
    },
    {
     "cell_type": "heading",
     "level": 3,
     "metadata": {},
     "source": [
      "Fast and easy data loading"
     ]
    },
    {
     "cell_type": "code",
     "collapsed": false,
     "input": [
      "import pandas as pd\n",
      "iris_filename = 'datasets-uci-iris.csv'\n",
      "iris = pd.read_csv(iris_filename, sep=',', decimal='.', header=None,\n",
      "names= ['sepal_length', 'sepal_width', 'petal_length', 'petal_width',\n",
      "'target'])"
     ],
     "language": "python",
     "metadata": {},
     "outputs": [],
     "prompt_number": 4
    },
    {
     "cell_type": "code",
     "collapsed": false,
     "input": [
      "# If the dataset is not available online, you can follow these steps to\n",
      "# download it from the Internet:\n",
      "import urllib2\n",
      "url = \"http://aima.cs.berkeley.edu/data/iris.csv\"\n",
      "set1 = urllib2.Request(url)\n",
      "iris_p = urllib2.urlopen(set1)\n",
      "iris_other = pd.read_csv(iris_p, sep=',', decimal='.',\n",
      "header=None, names= ['sepal_length', 'sepal_width',\n",
      "'petal_length', 'petal_width', 'target'])\n",
      "iris_other.head()"
     ],
     "language": "python",
     "metadata": {},
     "outputs": [
      {
       "html": [
        "<div style=\"max-height:1000px;max-width:1500px;overflow:auto;\">\n",
        "<table border=\"1\" class=\"dataframe\">\n",
        "  <thead>\n",
        "    <tr style=\"text-align: right;\">\n",
        "      <th></th>\n",
        "      <th>sepal_length</th>\n",
        "      <th>sepal_width</th>\n",
        "      <th>petal_length</th>\n",
        "      <th>petal_width</th>\n",
        "      <th>target</th>\n",
        "    </tr>\n",
        "  </thead>\n",
        "  <tbody>\n",
        "    <tr>\n",
        "      <th>0</th>\n",
        "      <td> 5.1</td>\n",
        "      <td> 3.5</td>\n",
        "      <td> 1.4</td>\n",
        "      <td> 0.2</td>\n",
        "      <td> setosa</td>\n",
        "    </tr>\n",
        "    <tr>\n",
        "      <th>1</th>\n",
        "      <td> 4.9</td>\n",
        "      <td> 3.0</td>\n",
        "      <td> 1.4</td>\n",
        "      <td> 0.2</td>\n",
        "      <td> setosa</td>\n",
        "    </tr>\n",
        "    <tr>\n",
        "      <th>2</th>\n",
        "      <td> 4.7</td>\n",
        "      <td> 3.2</td>\n",
        "      <td> 1.3</td>\n",
        "      <td> 0.2</td>\n",
        "      <td> setosa</td>\n",
        "    </tr>\n",
        "    <tr>\n",
        "      <th>3</th>\n",
        "      <td> 4.6</td>\n",
        "      <td> 3.1</td>\n",
        "      <td> 1.5</td>\n",
        "      <td> 0.2</td>\n",
        "      <td> setosa</td>\n",
        "    </tr>\n",
        "    <tr>\n",
        "      <th>4</th>\n",
        "      <td> 5.0</td>\n",
        "      <td> 3.6</td>\n",
        "      <td> 1.4</td>\n",
        "      <td> 0.2</td>\n",
        "      <td> setosa</td>\n",
        "    </tr>\n",
        "  </tbody>\n",
        "</table>\n",
        "</div>"
       ],
       "metadata": {},
       "output_type": "pyout",
       "prompt_number": 5,
       "text": [
        "   sepal_length  sepal_width  petal_length  petal_width  target\n",
        "0           5.1          3.5           1.4          0.2  setosa\n",
        "1           4.9          3.0           1.4          0.2  setosa\n",
        "2           4.7          3.2           1.3          0.2  setosa\n",
        "3           4.6          3.1           1.5          0.2  setosa\n",
        "4           5.0          3.6           1.4          0.2  setosa"
       ]
      }
     ],
     "prompt_number": 5
    },
    {
     "cell_type": "code",
     "collapsed": false,
     "input": [
      "iris.head()"
     ],
     "language": "python",
     "metadata": {},
     "outputs": [
      {
       "html": [
        "<div style=\"max-height:1000px;max-width:1500px;overflow:auto;\">\n",
        "<table border=\"1\" class=\"dataframe\">\n",
        "  <thead>\n",
        "    <tr style=\"text-align: right;\">\n",
        "      <th></th>\n",
        "      <th>sepal_length</th>\n",
        "      <th>sepal_width</th>\n",
        "      <th>petal_length</th>\n",
        "      <th>petal_width</th>\n",
        "      <th>target</th>\n",
        "    </tr>\n",
        "  </thead>\n",
        "  <tbody>\n",
        "    <tr>\n",
        "      <th>0</th>\n",
        "      <td> 5.1</td>\n",
        "      <td> 3.5</td>\n",
        "      <td> 1.4</td>\n",
        "      <td> 0.2</td>\n",
        "      <td> Iris-setosa</td>\n",
        "    </tr>\n",
        "    <tr>\n",
        "      <th>1</th>\n",
        "      <td> 4.9</td>\n",
        "      <td> 3.0</td>\n",
        "      <td> 1.4</td>\n",
        "      <td> 0.2</td>\n",
        "      <td> Iris-setosa</td>\n",
        "    </tr>\n",
        "    <tr>\n",
        "      <th>2</th>\n",
        "      <td> 4.7</td>\n",
        "      <td> 3.2</td>\n",
        "      <td> 1.3</td>\n",
        "      <td> 0.2</td>\n",
        "      <td> Iris-setosa</td>\n",
        "    </tr>\n",
        "    <tr>\n",
        "      <th>3</th>\n",
        "      <td> 4.6</td>\n",
        "      <td> 3.1</td>\n",
        "      <td> 1.5</td>\n",
        "      <td> 0.2</td>\n",
        "      <td> Iris-setosa</td>\n",
        "    </tr>\n",
        "    <tr>\n",
        "      <th>4</th>\n",
        "      <td> 5.0</td>\n",
        "      <td> 3.6</td>\n",
        "      <td> 1.4</td>\n",
        "      <td> 0.2</td>\n",
        "      <td> Iris-setosa</td>\n",
        "    </tr>\n",
        "  </tbody>\n",
        "</table>\n",
        "</div>"
       ],
       "metadata": {},
       "output_type": "pyout",
       "prompt_number": 6,
       "text": [
        "   sepal_length  sepal_width  petal_length  petal_width       target\n",
        "0           5.1          3.5           1.4          0.2  Iris-setosa\n",
        "1           4.9          3.0           1.4          0.2  Iris-setosa\n",
        "2           4.7          3.2           1.3          0.2  Iris-setosa\n",
        "3           4.6          3.1           1.5          0.2  Iris-setosa\n",
        "4           5.0          3.6           1.4          0.2  Iris-setosa"
       ]
      }
     ],
     "prompt_number": 6
    },
    {
     "cell_type": "code",
     "collapsed": false,
     "input": [
      "iris.tail()"
     ],
     "language": "python",
     "metadata": {},
     "outputs": [
      {
       "html": [
        "<div style=\"max-height:1000px;max-width:1500px;overflow:auto;\">\n",
        "<table border=\"1\" class=\"dataframe\">\n",
        "  <thead>\n",
        "    <tr style=\"text-align: right;\">\n",
        "      <th></th>\n",
        "      <th>sepal_length</th>\n",
        "      <th>sepal_width</th>\n",
        "      <th>petal_length</th>\n",
        "      <th>petal_width</th>\n",
        "      <th>target</th>\n",
        "    </tr>\n",
        "  </thead>\n",
        "  <tbody>\n",
        "    <tr>\n",
        "      <th>145</th>\n",
        "      <td> 6.7</td>\n",
        "      <td> 3.0</td>\n",
        "      <td> 5.2</td>\n",
        "      <td> 2.3</td>\n",
        "      <td> Iris-virginica</td>\n",
        "    </tr>\n",
        "    <tr>\n",
        "      <th>146</th>\n",
        "      <td> 6.3</td>\n",
        "      <td> 2.5</td>\n",
        "      <td> 5.0</td>\n",
        "      <td> 1.9</td>\n",
        "      <td> Iris-virginica</td>\n",
        "    </tr>\n",
        "    <tr>\n",
        "      <th>147</th>\n",
        "      <td> 6.5</td>\n",
        "      <td> 3.0</td>\n",
        "      <td> 5.2</td>\n",
        "      <td> 2.0</td>\n",
        "      <td> Iris-virginica</td>\n",
        "    </tr>\n",
        "    <tr>\n",
        "      <th>148</th>\n",
        "      <td> 6.2</td>\n",
        "      <td> 3.4</td>\n",
        "      <td> 5.4</td>\n",
        "      <td> 2.3</td>\n",
        "      <td> Iris-virginica</td>\n",
        "    </tr>\n",
        "    <tr>\n",
        "      <th>149</th>\n",
        "      <td> 5.9</td>\n",
        "      <td> 3.0</td>\n",
        "      <td> 5.1</td>\n",
        "      <td> 1.8</td>\n",
        "      <td> Iris-virginica</td>\n",
        "    </tr>\n",
        "  </tbody>\n",
        "</table>\n",
        "</div>"
       ],
       "metadata": {},
       "output_type": "pyout",
       "prompt_number": 7,
       "text": [
        "     sepal_length  sepal_width  petal_length  petal_width          target\n",
        "145           6.7          3.0           5.2          2.3  Iris-virginica\n",
        "146           6.3          2.5           5.0          1.9  Iris-virginica\n",
        "147           6.5          3.0           5.2          2.0  Iris-virginica\n",
        "148           6.2          3.4           5.4          2.3  Iris-virginica\n",
        "149           5.9          3.0           5.1          1.8  Iris-virginica"
       ]
      }
     ],
     "prompt_number": 7
    },
    {
     "cell_type": "code",
     "collapsed": false,
     "input": [
      "iris.head(2)"
     ],
     "language": "python",
     "metadata": {},
     "outputs": [
      {
       "html": [
        "<div style=\"max-height:1000px;max-width:1500px;overflow:auto;\">\n",
        "<table border=\"1\" class=\"dataframe\">\n",
        "  <thead>\n",
        "    <tr style=\"text-align: right;\">\n",
        "      <th></th>\n",
        "      <th>sepal_length</th>\n",
        "      <th>sepal_width</th>\n",
        "      <th>petal_length</th>\n",
        "      <th>petal_width</th>\n",
        "      <th>target</th>\n",
        "    </tr>\n",
        "  </thead>\n",
        "  <tbody>\n",
        "    <tr>\n",
        "      <th>0</th>\n",
        "      <td> 5.1</td>\n",
        "      <td> 3.5</td>\n",
        "      <td> 1.4</td>\n",
        "      <td> 0.2</td>\n",
        "      <td> Iris-setosa</td>\n",
        "    </tr>\n",
        "    <tr>\n",
        "      <th>1</th>\n",
        "      <td> 4.9</td>\n",
        "      <td> 3.0</td>\n",
        "      <td> 1.4</td>\n",
        "      <td> 0.2</td>\n",
        "      <td> Iris-setosa</td>\n",
        "    </tr>\n",
        "  </tbody>\n",
        "</table>\n",
        "</div>"
       ],
       "metadata": {},
       "output_type": "pyout",
       "prompt_number": 8,
       "text": [
        "   sepal_length  sepal_width  petal_length  petal_width       target\n",
        "0           5.1          3.5           1.4          0.2  Iris-setosa\n",
        "1           4.9          3.0           1.4          0.2  Iris-setosa"
       ]
      }
     ],
     "prompt_number": 8
    },
    {
     "cell_type": "code",
     "collapsed": false,
     "input": [
      "iris.columns"
     ],
     "language": "python",
     "metadata": {},
     "outputs": [
      {
       "metadata": {},
       "output_type": "pyout",
       "prompt_number": 9,
       "text": [
        "Index([u'sepal_length', u'sepal_width', u'petal_length', u'petal_width', u'target'], dtype='object')"
       ]
      }
     ],
     "prompt_number": 9
    },
    {
     "cell_type": "code",
     "collapsed": false,
     "input": [
      "Y = iris['target']\n",
      "Y"
     ],
     "language": "python",
     "metadata": {},
     "outputs": [
      {
       "metadata": {},
       "output_type": "pyout",
       "prompt_number": 10,
       "text": [
        "0     Iris-setosa\n",
        "1     Iris-setosa\n",
        "2     Iris-setosa\n",
        "3     Iris-setosa\n",
        "4     Iris-setosa\n",
        "5     Iris-setosa\n",
        "6     Iris-setosa\n",
        "7     Iris-setosa\n",
        "8     Iris-setosa\n",
        "9     Iris-setosa\n",
        "10    Iris-setosa\n",
        "11    Iris-setosa\n",
        "12    Iris-setosa\n",
        "13    Iris-setosa\n",
        "14    Iris-setosa\n",
        "...\n",
        "135    Iris-virginica\n",
        "136    Iris-virginica\n",
        "137    Iris-virginica\n",
        "138    Iris-virginica\n",
        "139    Iris-virginica\n",
        "140    Iris-virginica\n",
        "141    Iris-virginica\n",
        "142    Iris-virginica\n",
        "143    Iris-virginica\n",
        "144    Iris-virginica\n",
        "145    Iris-virginica\n",
        "146    Iris-virginica\n",
        "147    Iris-virginica\n",
        "148    Iris-virginica\n",
        "149    Iris-virginica\n",
        "Name: target, Length: 150, dtype: object"
       ]
      }
     ],
     "prompt_number": 10
    },
    {
     "cell_type": "code",
     "collapsed": false,
     "input": [
      "X = iris[['sepal_length', 'sepal_width']]\n",
      "X"
     ],
     "language": "python",
     "metadata": {},
     "outputs": [
      {
       "html": [
        "<div style=\"max-height:1000px;max-width:1500px;overflow:auto;\">\n",
        "<table border=\"1\" class=\"dataframe\">\n",
        "  <thead>\n",
        "    <tr style=\"text-align: right;\">\n",
        "      <th></th>\n",
        "      <th>sepal_length</th>\n",
        "      <th>sepal_width</th>\n",
        "    </tr>\n",
        "  </thead>\n",
        "  <tbody>\n",
        "    <tr>\n",
        "      <th>0  </th>\n",
        "      <td> 5.1</td>\n",
        "      <td> 3.5</td>\n",
        "    </tr>\n",
        "    <tr>\n",
        "      <th>1  </th>\n",
        "      <td> 4.9</td>\n",
        "      <td> 3.0</td>\n",
        "    </tr>\n",
        "    <tr>\n",
        "      <th>2  </th>\n",
        "      <td> 4.7</td>\n",
        "      <td> 3.2</td>\n",
        "    </tr>\n",
        "    <tr>\n",
        "      <th>3  </th>\n",
        "      <td> 4.6</td>\n",
        "      <td> 3.1</td>\n",
        "    </tr>\n",
        "    <tr>\n",
        "      <th>4  </th>\n",
        "      <td> 5.0</td>\n",
        "      <td> 3.6</td>\n",
        "    </tr>\n",
        "    <tr>\n",
        "      <th>5  </th>\n",
        "      <td> 5.4</td>\n",
        "      <td> 3.9</td>\n",
        "    </tr>\n",
        "    <tr>\n",
        "      <th>6  </th>\n",
        "      <td> 4.6</td>\n",
        "      <td> 3.4</td>\n",
        "    </tr>\n",
        "    <tr>\n",
        "      <th>7  </th>\n",
        "      <td> 5.0</td>\n",
        "      <td> 3.4</td>\n",
        "    </tr>\n",
        "    <tr>\n",
        "      <th>8  </th>\n",
        "      <td> 4.4</td>\n",
        "      <td> 2.9</td>\n",
        "    </tr>\n",
        "    <tr>\n",
        "      <th>9  </th>\n",
        "      <td> 4.9</td>\n",
        "      <td> 3.1</td>\n",
        "    </tr>\n",
        "    <tr>\n",
        "      <th>10 </th>\n",
        "      <td> 5.4</td>\n",
        "      <td> 3.7</td>\n",
        "    </tr>\n",
        "    <tr>\n",
        "      <th>11 </th>\n",
        "      <td> 4.8</td>\n",
        "      <td> 3.4</td>\n",
        "    </tr>\n",
        "    <tr>\n",
        "      <th>12 </th>\n",
        "      <td> 4.8</td>\n",
        "      <td> 3.0</td>\n",
        "    </tr>\n",
        "    <tr>\n",
        "      <th>13 </th>\n",
        "      <td> 4.3</td>\n",
        "      <td> 3.0</td>\n",
        "    </tr>\n",
        "    <tr>\n",
        "      <th>14 </th>\n",
        "      <td> 5.8</td>\n",
        "      <td> 4.0</td>\n",
        "    </tr>\n",
        "    <tr>\n",
        "      <th>15 </th>\n",
        "      <td> 5.7</td>\n",
        "      <td> 4.4</td>\n",
        "    </tr>\n",
        "    <tr>\n",
        "      <th>16 </th>\n",
        "      <td> 5.4</td>\n",
        "      <td> 3.9</td>\n",
        "    </tr>\n",
        "    <tr>\n",
        "      <th>17 </th>\n",
        "      <td> 5.1</td>\n",
        "      <td> 3.5</td>\n",
        "    </tr>\n",
        "    <tr>\n",
        "      <th>18 </th>\n",
        "      <td> 5.7</td>\n",
        "      <td> 3.8</td>\n",
        "    </tr>\n",
        "    <tr>\n",
        "      <th>19 </th>\n",
        "      <td> 5.1</td>\n",
        "      <td> 3.8</td>\n",
        "    </tr>\n",
        "    <tr>\n",
        "      <th>20 </th>\n",
        "      <td> 5.4</td>\n",
        "      <td> 3.4</td>\n",
        "    </tr>\n",
        "    <tr>\n",
        "      <th>21 </th>\n",
        "      <td> 5.1</td>\n",
        "      <td> 3.7</td>\n",
        "    </tr>\n",
        "    <tr>\n",
        "      <th>22 </th>\n",
        "      <td> 4.6</td>\n",
        "      <td> 3.6</td>\n",
        "    </tr>\n",
        "    <tr>\n",
        "      <th>23 </th>\n",
        "      <td> 5.1</td>\n",
        "      <td> 3.3</td>\n",
        "    </tr>\n",
        "    <tr>\n",
        "      <th>24 </th>\n",
        "      <td> 4.8</td>\n",
        "      <td> 3.4</td>\n",
        "    </tr>\n",
        "    <tr>\n",
        "      <th>25 </th>\n",
        "      <td> 5.0</td>\n",
        "      <td> 3.0</td>\n",
        "    </tr>\n",
        "    <tr>\n",
        "      <th>26 </th>\n",
        "      <td> 5.0</td>\n",
        "      <td> 3.4</td>\n",
        "    </tr>\n",
        "    <tr>\n",
        "      <th>27 </th>\n",
        "      <td> 5.2</td>\n",
        "      <td> 3.5</td>\n",
        "    </tr>\n",
        "    <tr>\n",
        "      <th>28 </th>\n",
        "      <td> 5.2</td>\n",
        "      <td> 3.4</td>\n",
        "    </tr>\n",
        "    <tr>\n",
        "      <th>29 </th>\n",
        "      <td> 4.7</td>\n",
        "      <td> 3.2</td>\n",
        "    </tr>\n",
        "    <tr>\n",
        "      <th>...</th>\n",
        "      <td>...</td>\n",
        "      <td>...</td>\n",
        "    </tr>\n",
        "    <tr>\n",
        "      <th>120</th>\n",
        "      <td> 6.9</td>\n",
        "      <td> 3.2</td>\n",
        "    </tr>\n",
        "    <tr>\n",
        "      <th>121</th>\n",
        "      <td> 5.6</td>\n",
        "      <td> 2.8</td>\n",
        "    </tr>\n",
        "    <tr>\n",
        "      <th>122</th>\n",
        "      <td> 7.7</td>\n",
        "      <td> 2.8</td>\n",
        "    </tr>\n",
        "    <tr>\n",
        "      <th>123</th>\n",
        "      <td> 6.3</td>\n",
        "      <td> 2.7</td>\n",
        "    </tr>\n",
        "    <tr>\n",
        "      <th>124</th>\n",
        "      <td> 6.7</td>\n",
        "      <td> 3.3</td>\n",
        "    </tr>\n",
        "    <tr>\n",
        "      <th>125</th>\n",
        "      <td> 7.2</td>\n",
        "      <td> 3.2</td>\n",
        "    </tr>\n",
        "    <tr>\n",
        "      <th>126</th>\n",
        "      <td> 6.2</td>\n",
        "      <td> 2.8</td>\n",
        "    </tr>\n",
        "    <tr>\n",
        "      <th>127</th>\n",
        "      <td> 6.1</td>\n",
        "      <td> 3.0</td>\n",
        "    </tr>\n",
        "    <tr>\n",
        "      <th>128</th>\n",
        "      <td> 6.4</td>\n",
        "      <td> 2.8</td>\n",
        "    </tr>\n",
        "    <tr>\n",
        "      <th>129</th>\n",
        "      <td> 7.2</td>\n",
        "      <td> 3.0</td>\n",
        "    </tr>\n",
        "    <tr>\n",
        "      <th>130</th>\n",
        "      <td> 7.4</td>\n",
        "      <td> 2.8</td>\n",
        "    </tr>\n",
        "    <tr>\n",
        "      <th>131</th>\n",
        "      <td> 7.9</td>\n",
        "      <td> 3.8</td>\n",
        "    </tr>\n",
        "    <tr>\n",
        "      <th>132</th>\n",
        "      <td> 6.4</td>\n",
        "      <td> 2.8</td>\n",
        "    </tr>\n",
        "    <tr>\n",
        "      <th>133</th>\n",
        "      <td> 6.3</td>\n",
        "      <td> 2.8</td>\n",
        "    </tr>\n",
        "    <tr>\n",
        "      <th>134</th>\n",
        "      <td> 6.1</td>\n",
        "      <td> 2.6</td>\n",
        "    </tr>\n",
        "    <tr>\n",
        "      <th>135</th>\n",
        "      <td> 7.7</td>\n",
        "      <td> 3.0</td>\n",
        "    </tr>\n",
        "    <tr>\n",
        "      <th>136</th>\n",
        "      <td> 6.3</td>\n",
        "      <td> 3.4</td>\n",
        "    </tr>\n",
        "    <tr>\n",
        "      <th>137</th>\n",
        "      <td> 6.4</td>\n",
        "      <td> 3.1</td>\n",
        "    </tr>\n",
        "    <tr>\n",
        "      <th>138</th>\n",
        "      <td> 6.0</td>\n",
        "      <td> 3.0</td>\n",
        "    </tr>\n",
        "    <tr>\n",
        "      <th>139</th>\n",
        "      <td> 6.9</td>\n",
        "      <td> 3.1</td>\n",
        "    </tr>\n",
        "    <tr>\n",
        "      <th>140</th>\n",
        "      <td> 6.7</td>\n",
        "      <td> 3.1</td>\n",
        "    </tr>\n",
        "    <tr>\n",
        "      <th>141</th>\n",
        "      <td> 6.9</td>\n",
        "      <td> 3.1</td>\n",
        "    </tr>\n",
        "    <tr>\n",
        "      <th>142</th>\n",
        "      <td> 5.8</td>\n",
        "      <td> 2.7</td>\n",
        "    </tr>\n",
        "    <tr>\n",
        "      <th>143</th>\n",
        "      <td> 6.8</td>\n",
        "      <td> 3.2</td>\n",
        "    </tr>\n",
        "    <tr>\n",
        "      <th>144</th>\n",
        "      <td> 6.7</td>\n",
        "      <td> 3.3</td>\n",
        "    </tr>\n",
        "    <tr>\n",
        "      <th>145</th>\n",
        "      <td> 6.7</td>\n",
        "      <td> 3.0</td>\n",
        "    </tr>\n",
        "    <tr>\n",
        "      <th>146</th>\n",
        "      <td> 6.3</td>\n",
        "      <td> 2.5</td>\n",
        "    </tr>\n",
        "    <tr>\n",
        "      <th>147</th>\n",
        "      <td> 6.5</td>\n",
        "      <td> 3.0</td>\n",
        "    </tr>\n",
        "    <tr>\n",
        "      <th>148</th>\n",
        "      <td> 6.2</td>\n",
        "      <td> 3.4</td>\n",
        "    </tr>\n",
        "    <tr>\n",
        "      <th>149</th>\n",
        "      <td> 5.9</td>\n",
        "      <td> 3.0</td>\n",
        "    </tr>\n",
        "  </tbody>\n",
        "</table>\n",
        "<p>150 rows \u00d7 2 columns</p>\n",
        "</div>"
       ],
       "metadata": {},
       "output_type": "pyout",
       "prompt_number": 11,
       "text": [
        "     sepal_length  sepal_width\n",
        "0             5.1          3.5\n",
        "1             4.9          3.0\n",
        "2             4.7          3.2\n",
        "3             4.6          3.1\n",
        "4             5.0          3.6\n",
        "5             5.4          3.9\n",
        "6             4.6          3.4\n",
        "7             5.0          3.4\n",
        "8             4.4          2.9\n",
        "9             4.9          3.1\n",
        "10            5.4          3.7\n",
        "11            4.8          3.4\n",
        "12            4.8          3.0\n",
        "13            4.3          3.0\n",
        "14            5.8          4.0\n",
        "15            5.7          4.4\n",
        "16            5.4          3.9\n",
        "17            5.1          3.5\n",
        "18            5.7          3.8\n",
        "19            5.1          3.8\n",
        "20            5.4          3.4\n",
        "21            5.1          3.7\n",
        "22            4.6          3.6\n",
        "23            5.1          3.3\n",
        "24            4.8          3.4\n",
        "25            5.0          3.0\n",
        "26            5.0          3.4\n",
        "27            5.2          3.5\n",
        "28            5.2          3.4\n",
        "29            4.7          3.2\n",
        "..            ...          ...\n",
        "120           6.9          3.2\n",
        "121           5.6          2.8\n",
        "122           7.7          2.8\n",
        "123           6.3          2.7\n",
        "124           6.7          3.3\n",
        "125           7.2          3.2\n",
        "126           6.2          2.8\n",
        "127           6.1          3.0\n",
        "128           6.4          2.8\n",
        "129           7.2          3.0\n",
        "130           7.4          2.8\n",
        "131           7.9          3.8\n",
        "132           6.4          2.8\n",
        "133           6.3          2.8\n",
        "134           6.1          2.6\n",
        "135           7.7          3.0\n",
        "136           6.3          3.4\n",
        "137           6.4          3.1\n",
        "138           6.0          3.0\n",
        "139           6.9          3.1\n",
        "140           6.7          3.1\n",
        "141           6.9          3.1\n",
        "142           5.8          2.7\n",
        "143           6.8          3.2\n",
        "144           6.7          3.3\n",
        "145           6.7          3.0\n",
        "146           6.3          2.5\n",
        "147           6.5          3.0\n",
        "148           6.2          3.4\n",
        "149           5.9          3.0\n",
        "\n",
        "[150 rows x 2 columns]"
       ]
      }
     ],
     "prompt_number": 11
    },
    {
     "cell_type": "code",
     "collapsed": false,
     "input": [
      "X.shape"
     ],
     "language": "python",
     "metadata": {},
     "outputs": [
      {
       "metadata": {},
       "output_type": "pyout",
       "prompt_number": 12,
       "text": [
        "(150, 2)"
       ]
      }
     ],
     "prompt_number": 12
    },
    {
     "cell_type": "code",
     "collapsed": false,
     "input": [
      "Y.shape"
     ],
     "language": "python",
     "metadata": {},
     "outputs": [
      {
       "metadata": {},
       "output_type": "pyout",
       "prompt_number": 13,
       "text": [
        "(150,)"
       ]
      }
     ],
     "prompt_number": 13
    },
    {
     "cell_type": "heading",
     "level": 3,
     "metadata": {},
     "source": [
      "Dealing with problematic data"
     ]
    },
    {
     "cell_type": "code",
     "collapsed": false,
     "input": [
      "import pandas as pd\n",
      "fake_dataset = pd.read_csv('a_loading_example_1.csv', sep=',')\n",
      "fake_dataset"
     ],
     "language": "python",
     "metadata": {},
     "outputs": [
      {
       "html": [
        "<div style=\"max-height:1000px;max-width:1500px;overflow:auto;\">\n",
        "<table border=\"1\" class=\"dataframe\">\n",
        "  <thead>\n",
        "    <tr style=\"text-align: right;\">\n",
        "      <th></th>\n",
        "      <th>Date</th>\n",
        "      <th>Temperature_city_1</th>\n",
        "      <th>Temperature_city_2</th>\n",
        "      <th>Temperature_city_3</th>\n",
        "      <th>Which_destination</th>\n",
        "    </tr>\n",
        "  </thead>\n",
        "  <tbody>\n",
        "    <tr>\n",
        "      <th>0</th>\n",
        "      <td> 20140910</td>\n",
        "      <td>  80</td>\n",
        "      <td> 32</td>\n",
        "      <td> 40</td>\n",
        "      <td> 1</td>\n",
        "    </tr>\n",
        "    <tr>\n",
        "      <th>1</th>\n",
        "      <td> 20140911</td>\n",
        "      <td> 100</td>\n",
        "      <td> 50</td>\n",
        "      <td> 36</td>\n",
        "      <td> 2</td>\n",
        "    </tr>\n",
        "    <tr>\n",
        "      <th>2</th>\n",
        "      <td> 20140912</td>\n",
        "      <td> 102</td>\n",
        "      <td> 55</td>\n",
        "      <td> 46</td>\n",
        "      <td> 1</td>\n",
        "    </tr>\n",
        "    <tr>\n",
        "      <th>3</th>\n",
        "      <td> 20140913</td>\n",
        "      <td>  60</td>\n",
        "      <td> 20</td>\n",
        "      <td> 35</td>\n",
        "      <td> 3</td>\n",
        "    </tr>\n",
        "    <tr>\n",
        "      <th>4</th>\n",
        "      <td> 20140914</td>\n",
        "      <td>  60</td>\n",
        "      <td>NaN</td>\n",
        "      <td> 32</td>\n",
        "      <td> 3</td>\n",
        "    </tr>\n",
        "    <tr>\n",
        "      <th>5</th>\n",
        "      <td> 20140915</td>\n",
        "      <td> NaN</td>\n",
        "      <td> 57</td>\n",
        "      <td> 42</td>\n",
        "      <td> 2</td>\n",
        "    </tr>\n",
        "  </tbody>\n",
        "</table>\n",
        "</div>"
       ],
       "metadata": {},
       "output_type": "pyout",
       "prompt_number": 14,
       "text": [
        "       Date  Temperature_city_1  Temperature_city_2  Temperature_city_3  \\\n",
        "0  20140910                  80                  32                  40   \n",
        "1  20140911                 100                  50                  36   \n",
        "2  20140912                 102                  55                  46   \n",
        "3  20140913                  60                  20                  35   \n",
        "4  20140914                  60                 NaN                  32   \n",
        "5  20140915                 NaN                  57                  42   \n",
        "\n",
        "   Which_destination  \n",
        "0                  1  \n",
        "1                  2  \n",
        "2                  1  \n",
        "3                  3  \n",
        "4                  3  \n",
        "5                  2  "
       ]
      }
     ],
     "prompt_number": 14
    },
    {
     "cell_type": "code",
     "collapsed": false,
     "input": [
      "fake_dataset = pd.read_csv('a_loading_example_1.csv',\n",
      "parse_dates=[0])\n",
      "fake_dataset"
     ],
     "language": "python",
     "metadata": {},
     "outputs": [
      {
       "html": [
        "<div style=\"max-height:1000px;max-width:1500px;overflow:auto;\">\n",
        "<table border=\"1\" class=\"dataframe\">\n",
        "  <thead>\n",
        "    <tr style=\"text-align: right;\">\n",
        "      <th></th>\n",
        "      <th>Date</th>\n",
        "      <th>Temperature_city_1</th>\n",
        "      <th>Temperature_city_2</th>\n",
        "      <th>Temperature_city_3</th>\n",
        "      <th>Which_destination</th>\n",
        "    </tr>\n",
        "  </thead>\n",
        "  <tbody>\n",
        "    <tr>\n",
        "      <th>0</th>\n",
        "      <td>2014-09-10</td>\n",
        "      <td>  80</td>\n",
        "      <td> 32</td>\n",
        "      <td> 40</td>\n",
        "      <td> 1</td>\n",
        "    </tr>\n",
        "    <tr>\n",
        "      <th>1</th>\n",
        "      <td>2014-09-11</td>\n",
        "      <td> 100</td>\n",
        "      <td> 50</td>\n",
        "      <td> 36</td>\n",
        "      <td> 2</td>\n",
        "    </tr>\n",
        "    <tr>\n",
        "      <th>2</th>\n",
        "      <td>2014-09-12</td>\n",
        "      <td> 102</td>\n",
        "      <td> 55</td>\n",
        "      <td> 46</td>\n",
        "      <td> 1</td>\n",
        "    </tr>\n",
        "    <tr>\n",
        "      <th>3</th>\n",
        "      <td>2014-09-13</td>\n",
        "      <td>  60</td>\n",
        "      <td> 20</td>\n",
        "      <td> 35</td>\n",
        "      <td> 3</td>\n",
        "    </tr>\n",
        "    <tr>\n",
        "      <th>4</th>\n",
        "      <td>2014-09-14</td>\n",
        "      <td>  60</td>\n",
        "      <td>NaN</td>\n",
        "      <td> 32</td>\n",
        "      <td> 3</td>\n",
        "    </tr>\n",
        "    <tr>\n",
        "      <th>5</th>\n",
        "      <td>2014-09-15</td>\n",
        "      <td> NaN</td>\n",
        "      <td> 57</td>\n",
        "      <td> 42</td>\n",
        "      <td> 2</td>\n",
        "    </tr>\n",
        "  </tbody>\n",
        "</table>\n",
        "</div>"
       ],
       "metadata": {},
       "output_type": "pyout",
       "prompt_number": 15,
       "text": [
        "        Date  Temperature_city_1  Temperature_city_2  Temperature_city_3  \\\n",
        "0 2014-09-10                  80                  32                  40   \n",
        "1 2014-09-11                 100                  50                  36   \n",
        "2 2014-09-12                 102                  55                  46   \n",
        "3 2014-09-13                  60                  20                  35   \n",
        "4 2014-09-14                  60                 NaN                  32   \n",
        "5 2014-09-15                 NaN                  57                  42   \n",
        "\n",
        "   Which_destination  \n",
        "0                  1  \n",
        "1                  2  \n",
        "2                  1  \n",
        "3                  3  \n",
        "4                  3  \n",
        "5                  2  "
       ]
      }
     ],
     "prompt_number": 15
    },
    {
     "cell_type": "code",
     "collapsed": false,
     "input": [
      "fake_dataset.fillna(50)"
     ],
     "language": "python",
     "metadata": {},
     "outputs": [
      {
       "html": [
        "<div style=\"max-height:1000px;max-width:1500px;overflow:auto;\">\n",
        "<table border=\"1\" class=\"dataframe\">\n",
        "  <thead>\n",
        "    <tr style=\"text-align: right;\">\n",
        "      <th></th>\n",
        "      <th>Date</th>\n",
        "      <th>Temperature_city_1</th>\n",
        "      <th>Temperature_city_2</th>\n",
        "      <th>Temperature_city_3</th>\n",
        "      <th>Which_destination</th>\n",
        "    </tr>\n",
        "  </thead>\n",
        "  <tbody>\n",
        "    <tr>\n",
        "      <th>0</th>\n",
        "      <td>2014-09-10</td>\n",
        "      <td>  80</td>\n",
        "      <td> 32</td>\n",
        "      <td> 40</td>\n",
        "      <td> 1</td>\n",
        "    </tr>\n",
        "    <tr>\n",
        "      <th>1</th>\n",
        "      <td>2014-09-11</td>\n",
        "      <td> 100</td>\n",
        "      <td> 50</td>\n",
        "      <td> 36</td>\n",
        "      <td> 2</td>\n",
        "    </tr>\n",
        "    <tr>\n",
        "      <th>2</th>\n",
        "      <td>2014-09-12</td>\n",
        "      <td> 102</td>\n",
        "      <td> 55</td>\n",
        "      <td> 46</td>\n",
        "      <td> 1</td>\n",
        "    </tr>\n",
        "    <tr>\n",
        "      <th>3</th>\n",
        "      <td>2014-09-13</td>\n",
        "      <td>  60</td>\n",
        "      <td> 20</td>\n",
        "      <td> 35</td>\n",
        "      <td> 3</td>\n",
        "    </tr>\n",
        "    <tr>\n",
        "      <th>4</th>\n",
        "      <td>2014-09-14</td>\n",
        "      <td>  60</td>\n",
        "      <td> 50</td>\n",
        "      <td> 32</td>\n",
        "      <td> 3</td>\n",
        "    </tr>\n",
        "    <tr>\n",
        "      <th>5</th>\n",
        "      <td>2014-09-15</td>\n",
        "      <td>  50</td>\n",
        "      <td> 57</td>\n",
        "      <td> 42</td>\n",
        "      <td> 2</td>\n",
        "    </tr>\n",
        "  </tbody>\n",
        "</table>\n",
        "</div>"
       ],
       "metadata": {},
       "output_type": "pyout",
       "prompt_number": 16,
       "text": [
        "        Date  Temperature_city_1  Temperature_city_2  Temperature_city_3  \\\n",
        "0 2014-09-10                  80                  32                  40   \n",
        "1 2014-09-11                 100                  50                  36   \n",
        "2 2014-09-12                 102                  55                  46   \n",
        "3 2014-09-13                  60                  20                  35   \n",
        "4 2014-09-14                  60                  50                  32   \n",
        "5 2014-09-15                  50                  57                  42   \n",
        "\n",
        "   Which_destination  \n",
        "0                  1  \n",
        "1                  2  \n",
        "2                  1  \n",
        "3                  3  \n",
        "4                  3  \n",
        "5                  2  "
       ]
      }
     ],
     "prompt_number": 16
    },
    {
     "cell_type": "code",
     "collapsed": false,
     "input": [
      "fake_dataset.fillna(-1)"
     ],
     "language": "python",
     "metadata": {},
     "outputs": [
      {
       "html": [
        "<div style=\"max-height:1000px;max-width:1500px;overflow:auto;\">\n",
        "<table border=\"1\" class=\"dataframe\">\n",
        "  <thead>\n",
        "    <tr style=\"text-align: right;\">\n",
        "      <th></th>\n",
        "      <th>Date</th>\n",
        "      <th>Temperature_city_1</th>\n",
        "      <th>Temperature_city_2</th>\n",
        "      <th>Temperature_city_3</th>\n",
        "      <th>Which_destination</th>\n",
        "    </tr>\n",
        "  </thead>\n",
        "  <tbody>\n",
        "    <tr>\n",
        "      <th>0</th>\n",
        "      <td>2014-09-10</td>\n",
        "      <td>  80</td>\n",
        "      <td> 32</td>\n",
        "      <td> 40</td>\n",
        "      <td> 1</td>\n",
        "    </tr>\n",
        "    <tr>\n",
        "      <th>1</th>\n",
        "      <td>2014-09-11</td>\n",
        "      <td> 100</td>\n",
        "      <td> 50</td>\n",
        "      <td> 36</td>\n",
        "      <td> 2</td>\n",
        "    </tr>\n",
        "    <tr>\n",
        "      <th>2</th>\n",
        "      <td>2014-09-12</td>\n",
        "      <td> 102</td>\n",
        "      <td> 55</td>\n",
        "      <td> 46</td>\n",
        "      <td> 1</td>\n",
        "    </tr>\n",
        "    <tr>\n",
        "      <th>3</th>\n",
        "      <td>2014-09-13</td>\n",
        "      <td>  60</td>\n",
        "      <td> 20</td>\n",
        "      <td> 35</td>\n",
        "      <td> 3</td>\n",
        "    </tr>\n",
        "    <tr>\n",
        "      <th>4</th>\n",
        "      <td>2014-09-14</td>\n",
        "      <td>  60</td>\n",
        "      <td> -1</td>\n",
        "      <td> 32</td>\n",
        "      <td> 3</td>\n",
        "    </tr>\n",
        "    <tr>\n",
        "      <th>5</th>\n",
        "      <td>2014-09-15</td>\n",
        "      <td>  -1</td>\n",
        "      <td> 57</td>\n",
        "      <td> 42</td>\n",
        "      <td> 2</td>\n",
        "    </tr>\n",
        "  </tbody>\n",
        "</table>\n",
        "</div>"
       ],
       "metadata": {},
       "output_type": "pyout",
       "prompt_number": 17,
       "text": [
        "        Date  Temperature_city_1  Temperature_city_2  Temperature_city_3  \\\n",
        "0 2014-09-10                  80                  32                  40   \n",
        "1 2014-09-11                 100                  50                  36   \n",
        "2 2014-09-12                 102                  55                  46   \n",
        "3 2014-09-13                  60                  20                  35   \n",
        "4 2014-09-14                  60                  -1                  32   \n",
        "5 2014-09-15                  -1                  57                  42   \n",
        "\n",
        "   Which_destination  \n",
        "0                  1  \n",
        "1                  2  \n",
        "2                  1  \n",
        "3                  3  \n",
        "4                  3  \n",
        "5                  2  "
       ]
      }
     ],
     "prompt_number": 17
    },
    {
     "cell_type": "code",
     "collapsed": false,
     "input": [
      "fake_dataset.fillna(fake_dataset.mean(axis=0))"
     ],
     "language": "python",
     "metadata": {},
     "outputs": [
      {
       "html": [
        "<div style=\"max-height:1000px;max-width:1500px;overflow:auto;\">\n",
        "<table border=\"1\" class=\"dataframe\">\n",
        "  <thead>\n",
        "    <tr style=\"text-align: right;\">\n",
        "      <th></th>\n",
        "      <th>Date</th>\n",
        "      <th>Temperature_city_1</th>\n",
        "      <th>Temperature_city_2</th>\n",
        "      <th>Temperature_city_3</th>\n",
        "      <th>Which_destination</th>\n",
        "    </tr>\n",
        "  </thead>\n",
        "  <tbody>\n",
        "    <tr>\n",
        "      <th>0</th>\n",
        "      <td>2014-09-10</td>\n",
        "      <td>  80.0</td>\n",
        "      <td> 32.0</td>\n",
        "      <td> 40</td>\n",
        "      <td> 1</td>\n",
        "    </tr>\n",
        "    <tr>\n",
        "      <th>1</th>\n",
        "      <td>2014-09-11</td>\n",
        "      <td> 100.0</td>\n",
        "      <td> 50.0</td>\n",
        "      <td> 36</td>\n",
        "      <td> 2</td>\n",
        "    </tr>\n",
        "    <tr>\n",
        "      <th>2</th>\n",
        "      <td>2014-09-12</td>\n",
        "      <td> 102.0</td>\n",
        "      <td> 55.0</td>\n",
        "      <td> 46</td>\n",
        "      <td> 1</td>\n",
        "    </tr>\n",
        "    <tr>\n",
        "      <th>3</th>\n",
        "      <td>2014-09-13</td>\n",
        "      <td>  60.0</td>\n",
        "      <td> 20.0</td>\n",
        "      <td> 35</td>\n",
        "      <td> 3</td>\n",
        "    </tr>\n",
        "    <tr>\n",
        "      <th>4</th>\n",
        "      <td>2014-09-14</td>\n",
        "      <td>  60.0</td>\n",
        "      <td> 42.8</td>\n",
        "      <td> 32</td>\n",
        "      <td> 3</td>\n",
        "    </tr>\n",
        "    <tr>\n",
        "      <th>5</th>\n",
        "      <td>2014-09-15</td>\n",
        "      <td>  80.4</td>\n",
        "      <td> 57.0</td>\n",
        "      <td> 42</td>\n",
        "      <td> 2</td>\n",
        "    </tr>\n",
        "  </tbody>\n",
        "</table>\n",
        "</div>"
       ],
       "metadata": {},
       "output_type": "pyout",
       "prompt_number": 18,
       "text": [
        "        Date  Temperature_city_1  Temperature_city_2  Temperature_city_3  \\\n",
        "0 2014-09-10                80.0                32.0                  40   \n",
        "1 2014-09-11               100.0                50.0                  36   \n",
        "2 2014-09-12               102.0                55.0                  46   \n",
        "3 2014-09-13                60.0                20.0                  35   \n",
        "4 2014-09-14                60.0                42.8                  32   \n",
        "5 2014-09-15                80.4                57.0                  42   \n",
        "\n",
        "   Which_destination  \n",
        "0                  1  \n",
        "1                  2  \n",
        "2                  1  \n",
        "3                  3  \n",
        "4                  3  \n",
        "5                  2  "
       ]
      }
     ],
     "prompt_number": 18
    },
    {
     "cell_type": "code",
     "collapsed": false,
     "input": [
      "bad_dataset = pd.read_csv('a_loading_example_2.csv',\n",
      "error_bad_lines=False)"
     ],
     "language": "python",
     "metadata": {},
     "outputs": [
      {
       "output_type": "stream",
       "stream": "stderr",
       "text": [
        "Skipping line 4: expected 3 fields, saw 4\n",
        "\n"
       ]
      }
     ],
     "prompt_number": 19
    },
    {
     "cell_type": "heading",
     "level": 3,
     "metadata": {},
     "source": [
      "Dealing with big datasets"
     ]
    },
    {
     "cell_type": "code",
     "collapsed": false,
     "input": [
      "import pandas as pd\n",
      "iris_chunks = pd.read_csv(iris_filename, header=None,\n",
      "names=['C1', 'C2', 'C3', 'C4', 'C5'], chunksize=10)\n",
      "for chunk in iris_chunks:\n",
      "    print chunk.shape\n",
      "    print chunk"
     ],
     "language": "python",
     "metadata": {},
     "outputs": [
      {
       "output_type": "stream",
       "stream": "stdout",
       "text": [
        "(10, 5)\n",
        "    C1   C2   C3   C4           C5\n",
        "0  5.1  3.5  1.4  0.2  Iris-setosa\n",
        "1  4.9  3.0  1.4  0.2  Iris-setosa\n",
        "2  4.7  3.2  1.3  0.2  Iris-setosa\n",
        "3  4.6  3.1  1.5  0.2  Iris-setosa\n",
        "4  5.0  3.6  1.4  0.2  Iris-setosa\n",
        "5  5.4  3.9  1.7  0.4  Iris-setosa\n",
        "6  4.6  3.4  1.4  0.3  Iris-setosa\n",
        "7  5.0  3.4  1.5  0.2  Iris-setosa\n",
        "8  4.4  2.9  1.4  0.2  Iris-setosa\n",
        "9  4.9  3.1  1.5  0.1  Iris-setosa\n",
        "(10, 5)\n",
        "    C1   C2   C3   C4           C5\n",
        "0  5.4  3.7  1.5  0.2  Iris-setosa\n",
        "1  4.8  3.4  1.6  0.2  Iris-setosa\n",
        "2  4.8  3.0  1.4  0.1  Iris-setosa\n",
        "3  4.3  3.0  1.1  0.1  Iris-setosa\n",
        "4  5.8  4.0  1.2  0.2  Iris-setosa\n",
        "5  5.7  4.4  1.5  0.4  Iris-setosa\n",
        "6  5.4  3.9  1.3  0.4  Iris-setosa\n",
        "7  5.1  3.5  1.4  0.3  Iris-setosa\n",
        "8  5.7  3.8  1.7  0.3  Iris-setosa\n",
        "9  5.1  3.8  1.5  0.3  Iris-setosa\n",
        "(10, 5)\n",
        "    C1   C2   C3   C4           C5\n",
        "0  5.4  3.4  1.7  0.2  Iris-setosa\n",
        "1  5.1  3.7  1.5  0.4  Iris-setosa\n",
        "2  4.6  3.6  1.0  0.2  Iris-setosa\n",
        "3  5.1  3.3  1.7  0.5  Iris-setosa\n",
        "4  4.8  3.4  1.9  0.2  Iris-setosa\n",
        "5  5.0  3.0  1.6  0.2  Iris-setosa\n",
        "6  5.0  3.4  1.6  0.4  Iris-setosa\n",
        "7  5.2  3.5  1.5  0.2  Iris-setosa\n",
        "8  5.2  3.4  1.4  0.2  Iris-setosa\n",
        "9  4.7  3.2  1.6  0.2  Iris-setosa\n",
        "(10, 5)\n",
        "    C1   C2   C3   C4           C5\n",
        "0  4.8  3.1  1.6  0.2  Iris-setosa\n",
        "1  5.4  3.4  1.5  0.4  Iris-setosa\n",
        "2  5.2  4.1  1.5  0.1  Iris-setosa\n",
        "3  5.5  4.2  1.4  0.2  Iris-setosa\n",
        "4  4.9  3.1  1.5  0.1  Iris-setosa\n",
        "5  5.0  3.2  1.2  0.2  Iris-setosa\n",
        "6  5.5  3.5  1.3  0.2  Iris-setosa\n",
        "7  4.9  3.1  1.5  0.1  Iris-setosa\n",
        "8  4.4  3.0  1.3  0.2  Iris-setosa\n",
        "9  5.1  3.4  1.5  0.2  Iris-setosa"
       ]
      },
      {
       "output_type": "stream",
       "stream": "stdout",
       "text": [
        "\n",
        "(10, 5)\n",
        "    C1   C2   C3   C4           C5\n",
        "0  5.0  3.5  1.3  0.3  Iris-setosa\n",
        "1  4.5  2.3  1.3  0.3  Iris-setosa\n",
        "2  4.4  3.2  1.3  0.2  Iris-setosa\n",
        "3  5.0  3.5  1.6  0.6  Iris-setosa\n",
        "4  5.1  3.8  1.9  0.4  Iris-setosa\n",
        "5  4.8  3.0  1.4  0.3  Iris-setosa\n",
        "6  5.1  3.8  1.6  0.2  Iris-setosa\n",
        "7  4.6  3.2  1.4  0.2  Iris-setosa\n",
        "8  5.3  3.7  1.5  0.2  Iris-setosa\n",
        "9  5.0  3.3  1.4  0.2  Iris-setosa\n",
        "(10, 5)\n",
        "    C1   C2   C3   C4               C5\n",
        "0  7.0  3.2  4.7  1.4  Iris-versicolor\n",
        "1  6.4  3.2  4.5  1.5  Iris-versicolor\n",
        "2  6.9  3.1  4.9  1.5  Iris-versicolor\n",
        "3  5.5  2.3  4.0  1.3  Iris-versicolor\n",
        "4  6.5  2.8  4.6  1.5  Iris-versicolor\n",
        "5  5.7  2.8  4.5  1.3  Iris-versicolor\n",
        "6  6.3  3.3  4.7  1.6  Iris-versicolor\n",
        "7  4.9  2.4  3.3  1.0  Iris-versicolor\n",
        "8  6.6  2.9  4.6  1.3  Iris-versicolor\n",
        "9  5.2  2.7  3.9  1.4  Iris-versicolor\n",
        "(10, 5)\n",
        "    C1   C2   C3   C4               C5\n",
        "0  5.0  2.0  3.5  1.0  Iris-versicolor\n",
        "1  5.9  3.0  4.2  1.5  Iris-versicolor\n",
        "2  6.0  2.2  4.0  1.0  Iris-versicolor\n",
        "3  6.1  2.9  4.7  1.4  Iris-versicolor\n",
        "4  5.6  2.9  3.6  1.3  Iris-versicolor\n",
        "5  6.7  3.1  4.4  1.4  Iris-versicolor\n",
        "6  5.6  3.0  4.5  1.5  Iris-versicolor\n",
        "7  5.8  2.7  4.1  1.0  Iris-versicolor\n",
        "8  6.2  2.2  4.5  1.5  Iris-versicolor\n",
        "9  5.6  2.5  3.9  1.1  Iris-versicolor\n",
        "(10, 5)\n",
        "    C1   C2   C3   C4               C5\n",
        "0  5.9  3.2  4.8  1.8  Iris-versicolor\n",
        "1  6.1  2.8  4.0  1.3  Iris-versicolor\n",
        "2  6.3  2.5  4.9  1.5  Iris-versicolor\n",
        "3  6.1  2.8  4.7  1.2  Iris-versicolor\n",
        "4  6.4  2.9  4.3  1.3  Iris-versicolor\n",
        "5  6.6  3.0  4.4  1.4  Iris-versicolor\n",
        "6  6.8  2.8  4.8  1.4  Iris-versicolor\n",
        "7  6.7  3.0  5.0  1.7  Iris-versicolor\n",
        "8  6.0  2.9  4.5  1.5  Iris-versicolor\n",
        "9  5.7  2.6  3.5  1.0  Iris-versicolor"
       ]
      },
      {
       "output_type": "stream",
       "stream": "stdout",
       "text": [
        "\n",
        "(10, 5)\n",
        "    C1   C2   C3   C4               C5\n",
        "0  5.5  2.4  3.8  1.1  Iris-versicolor\n",
        "1  5.5  2.4  3.7  1.0  Iris-versicolor\n",
        "2  5.8  2.7  3.9  1.2  Iris-versicolor\n",
        "3  6.0  2.7  5.1  1.6  Iris-versicolor\n",
        "4  5.4  3.0  4.5  1.5  Iris-versicolor\n",
        "5  6.0  3.4  4.5  1.6  Iris-versicolor\n",
        "6  6.7  3.1  4.7  1.5  Iris-versicolor\n",
        "7  6.3  2.3  4.4  1.3  Iris-versicolor\n",
        "8  5.6  3.0  4.1  1.3  Iris-versicolor\n",
        "9  5.5  2.5  4.0  1.3  Iris-versicolor\n",
        "(10, 5)\n",
        "    C1   C2   C3   C4               C5\n",
        "0  5.5  2.6  4.4  1.2  Iris-versicolor\n",
        "1  6.1  3.0  4.6  1.4  Iris-versicolor\n",
        "2  5.8  2.6  4.0  1.2  Iris-versicolor\n",
        "3  5.0  2.3  3.3  1.0  Iris-versicolor\n",
        "4  5.6  2.7  4.2  1.3  Iris-versicolor\n",
        "5  5.7  3.0  4.2  1.2  Iris-versicolor\n",
        "6  5.7  2.9  4.2  1.3  Iris-versicolor\n",
        "7  6.2  2.9  4.3  1.3  Iris-versicolor\n",
        "8  5.1  2.5  3.0  1.1  Iris-versicolor\n",
        "9  5.7  2.8  4.1  1.3  Iris-versicolor\n",
        "(10, 5)\n",
        "    C1   C2   C3   C4              C5\n",
        "0  6.3  3.3  6.0  2.5  Iris-virginica\n",
        "1  5.8  2.7  5.1  1.9  Iris-virginica\n",
        "2  7.1  3.0  5.9  2.1  Iris-virginica\n",
        "3  6.3  2.9  5.6  1.8  Iris-virginica\n",
        "4  6.5  3.0  5.8  2.2  Iris-virginica\n",
        "5  7.6  3.0  6.6  2.1  Iris-virginica\n",
        "6  4.9  2.5  4.5  1.7  Iris-virginica\n",
        "7  7.3  2.9  6.3  1.8  Iris-virginica\n",
        "8  6.7  2.5  5.8  1.8  Iris-virginica\n",
        "9  7.2  3.6  6.1  2.5  Iris-virginica\n",
        "(10, 5)\n",
        "    C1   C2   C3   C4              C5\n",
        "0  6.5  3.2  5.1  2.0  Iris-virginica\n",
        "1  6.4  2.7  5.3  1.9  Iris-virginica\n",
        "2  6.8  3.0  5.5  2.1  Iris-virginica\n",
        "3  5.7  2.5  5.0  2.0  Iris-virginica\n",
        "4  5.8  2.8  5.1  2.4  Iris-virginica\n",
        "5  6.4  3.2  5.3  2.3  Iris-virginica\n",
        "6  6.5  3.0  5.5  1.8  Iris-virginica\n",
        "7  7.7  3.8  6.7  2.2  Iris-virginica\n",
        "8  7.7  2.6  6.9  2.3  Iris-virginica\n",
        "9  6.0  2.2  5.0  1.5  Iris-virginica\n",
        "(10, 5)\n",
        "    C1   C2   C3   C4              C5\n",
        "0  6.9  3.2  5.7  2.3  Iris-virginica\n",
        "1  5.6  2.8  4.9  2.0  Iris-virginica\n",
        "2  7.7  2.8  6.7  2.0  Iris-virginica\n",
        "3  6.3  2.7  4.9  1.8  Iris-virginica\n",
        "4  6.7  3.3  5.7  2.1  Iris-virginica\n",
        "5  7.2  3.2  6.0  1.8  Iris-virginica\n",
        "6  6.2  2.8  4.8  1.8  Iris-virginica\n",
        "7  6.1  3.0  4.9  1.8  Iris-virginica\n",
        "8  6.4  2.8  5.6  2.1  Iris-virginica\n",
        "9  7.2  3.0  5.8  1.6  Iris-virginica"
       ]
      },
      {
       "output_type": "stream",
       "stream": "stdout",
       "text": [
        "\n",
        "(10, 5)\n",
        "    C1   C2   C3   C4              C5\n",
        "0  7.4  2.8  6.1  1.9  Iris-virginica\n",
        "1  7.9  3.8  6.4  2.0  Iris-virginica\n",
        "2  6.4  2.8  5.6  2.2  Iris-virginica\n",
        "3  6.3  2.8  5.1  1.5  Iris-virginica\n",
        "4  6.1  2.6  5.6  1.4  Iris-virginica\n",
        "5  7.7  3.0  6.1  2.3  Iris-virginica\n",
        "6  6.3  3.4  5.6  2.4  Iris-virginica\n",
        "7  6.4  3.1  5.5  1.8  Iris-virginica\n",
        "8  6.0  3.0  4.8  1.8  Iris-virginica\n",
        "9  6.9  3.1  5.4  2.1  Iris-virginica\n",
        "(10, 5)\n",
        "    C1   C2   C3   C4              C5\n",
        "0  6.7  3.1  5.6  2.4  Iris-virginica\n",
        "1  6.9  3.1  5.1  2.3  Iris-virginica\n",
        "2  5.8  2.7  5.1  1.9  Iris-virginica\n",
        "3  6.8  3.2  5.9  2.3  Iris-virginica\n",
        "4  6.7  3.3  5.7  2.5  Iris-virginica\n",
        "5  6.7  3.0  5.2  2.3  Iris-virginica\n",
        "6  6.3  2.5  5.0  1.9  Iris-virginica\n",
        "7  6.5  3.0  5.2  2.0  Iris-virginica\n",
        "8  6.2  3.4  5.4  2.3  Iris-virginica\n",
        "9  5.9  3.0  5.1  1.8  Iris-virginica\n"
       ]
      }
     ],
     "prompt_number": 21
    },
    {
     "cell_type": "code",
     "collapsed": false,
     "input": [
      "iris_iterator = pd.read_csv(iris_filename, header=None,\n",
      "names=['C1', 'C2', 'C3', 'C4', 'C5'], iterator=True)"
     ],
     "language": "python",
     "metadata": {},
     "outputs": [],
     "prompt_number": 22
    },
    {
     "cell_type": "code",
     "collapsed": false,
     "input": [
      "print iris_iterator.get_chunk(10).shape"
     ],
     "language": "python",
     "metadata": {},
     "outputs": [
      {
       "output_type": "stream",
       "stream": "stdout",
       "text": [
        "(10, 5)\n"
       ]
      }
     ],
     "prompt_number": 23
    },
    {
     "cell_type": "code",
     "collapsed": false,
     "input": [
      "print iris_iterator.get_chunk(20).shape"
     ],
     "language": "python",
     "metadata": {},
     "outputs": [
      {
       "output_type": "stream",
       "stream": "stdout",
       "text": [
        "(20, 5)\n"
       ]
      }
     ],
     "prompt_number": 24
    },
    {
     "cell_type": "code",
     "collapsed": false,
     "input": [
      "piece = iris_iterator.get_chunk(2)\n",
      "piece"
     ],
     "language": "python",
     "metadata": {},
     "outputs": [
      {
       "html": [
        "<div style=\"max-height:1000px;max-width:1500px;overflow:auto;\">\n",
        "<table border=\"1\" class=\"dataframe\">\n",
        "  <thead>\n",
        "    <tr style=\"text-align: right;\">\n",
        "      <th></th>\n",
        "      <th>C1</th>\n",
        "      <th>C2</th>\n",
        "      <th>C3</th>\n",
        "      <th>C4</th>\n",
        "      <th>C5</th>\n",
        "    </tr>\n",
        "  </thead>\n",
        "  <tbody>\n",
        "    <tr>\n",
        "      <th>0</th>\n",
        "      <td> 4.8</td>\n",
        "      <td> 3.1</td>\n",
        "      <td> 1.6</td>\n",
        "      <td> 0.2</td>\n",
        "      <td> Iris-setosa</td>\n",
        "    </tr>\n",
        "    <tr>\n",
        "      <th>1</th>\n",
        "      <td> 5.4</td>\n",
        "      <td> 3.4</td>\n",
        "      <td> 1.5</td>\n",
        "      <td> 0.4</td>\n",
        "      <td> Iris-setosa</td>\n",
        "    </tr>\n",
        "  </tbody>\n",
        "</table>\n",
        "</div>"
       ],
       "metadata": {},
       "output_type": "pyout",
       "prompt_number": 25,
       "text": [
        "    C1   C2   C3   C4           C5\n",
        "0  4.8  3.1  1.6  0.2  Iris-setosa\n",
        "1  5.4  3.4  1.5  0.4  Iris-setosa"
       ]
      }
     ],
     "prompt_number": 25
    },
    {
     "cell_type": "code",
     "collapsed": false,
     "input": [
      "import csv\n",
      "with open(iris_filename, 'rb') as data_stream:\n",
      "    for n, row in enumerate(csv.DictReader(data_stream,\n",
      "        fieldnames = ['sepal_length', 'sepal_width',\n",
      "        'petal_length', 'petal_width', 'target'],\n",
      "        dialect='excel')):\n",
      "            if n== 0:\n",
      "                print n,row\n",
      "            else:\n",
      "                break"
     ],
     "language": "python",
     "metadata": {},
     "outputs": [
      {
       "output_type": "stream",
       "stream": "stdout",
       "text": [
        "0 {'sepal_width': '3.5', 'petal_width': '0.2', 'target': 'Iris-setosa', 'sepal_length': '5.1', 'petal_length': '1.4'}\n"
       ]
      }
     ],
     "prompt_number": 27
    },
    {
     "cell_type": "code",
     "collapsed": false,
     "input": [
      "with open(iris_filename, 'rb') as data_stream:\n",
      "    for n, row in enumerate(csv.reader(data_stream,\n",
      "        dialect='excel')):\n",
      "            if n==0:\n",
      "                print row\n",
      "            else:\n",
      "                break"
     ],
     "language": "python",
     "metadata": {},
     "outputs": [
      {
       "output_type": "stream",
       "stream": "stdout",
       "text": [
        "['5.1', '3.5', '1.4', '0.2', 'Iris-setosa']\n"
       ]
      }
     ],
     "prompt_number": 28
    },
    {
     "cell_type": "code",
     "collapsed": false,
     "input": [
      "def batch_read(filename, batch=5):\n",
      "    # open the data stream\n",
      "    with open(filename, 'rb') as data_stream:\n",
      "        # reset the batch\n",
      "        batch_output = list()\n",
      "        # iterate over the file\n",
      "        for n, row in enumerate(csv.reader(data_stream, dialect='excel')):\n",
      "            # if the batch is of the right size\n",
      "            if n > 0 and n % batch == 0:\n",
      "                # yield back the batch as an ndarray\n",
      "                yield(np.array(batch_output))\n",
      "                # reset the batch and restart\n",
      "                batch_output = list()\n",
      "            # otherwise add the row to the batch\n",
      "            batch_output.append(row)\n",
      "        # when the loop is over, yield what's left\n",
      "        yield(np.array(batch_output))"
     ],
     "language": "python",
     "metadata": {},
     "outputs": [],
     "prompt_number": 29
    },
    {
     "cell_type": "code",
     "collapsed": false,
     "input": [
      "import numpy as np\n",
      "for batch_input in batch_read(iris_filename, batch=3):\n",
      "    print batch_input\n",
      "    break"
     ],
     "language": "python",
     "metadata": {},
     "outputs": [
      {
       "output_type": "stream",
       "stream": "stdout",
       "text": [
        "[['5.1' '3.5' '1.4' '0.2' 'Iris-setosa']\n",
        " ['4.9' '3.0' '1.4' '0.2' 'Iris-setosa']\n",
        " ['4.7' '3.2' '1.3' '0.2' 'Iris-setosa']]\n"
       ]
      }
     ],
     "prompt_number": 30
    },
    {
     "cell_type": "heading",
     "level": 3,
     "metadata": {},
     "source": [
      "Accessing other data formats"
     ]
    },
    {
     "cell_type": "code",
     "collapsed": false,
     "input": [
      "import pandas as pd\n",
      "my_own_dataset = pd.DataFrame({'Col1': range(5), 'Col2':\n",
      "[1.0]*5, 'Col3': 1.0, 'Col4': 'Hello World!'})\n",
      "my_own_dataset"
     ],
     "language": "python",
     "metadata": {},
     "outputs": [
      {
       "html": [
        "<div style=\"max-height:1000px;max-width:1500px;overflow:auto;\">\n",
        "<table border=\"1\" class=\"dataframe\">\n",
        "  <thead>\n",
        "    <tr style=\"text-align: right;\">\n",
        "      <th></th>\n",
        "      <th>Col1</th>\n",
        "      <th>Col2</th>\n",
        "      <th>Col3</th>\n",
        "      <th>Col4</th>\n",
        "    </tr>\n",
        "  </thead>\n",
        "  <tbody>\n",
        "    <tr>\n",
        "      <th>0</th>\n",
        "      <td> 0</td>\n",
        "      <td> 1</td>\n",
        "      <td> 1</td>\n",
        "      <td> Hello World!</td>\n",
        "    </tr>\n",
        "    <tr>\n",
        "      <th>1</th>\n",
        "      <td> 1</td>\n",
        "      <td> 1</td>\n",
        "      <td> 1</td>\n",
        "      <td> Hello World!</td>\n",
        "    </tr>\n",
        "    <tr>\n",
        "      <th>2</th>\n",
        "      <td> 2</td>\n",
        "      <td> 1</td>\n",
        "      <td> 1</td>\n",
        "      <td> Hello World!</td>\n",
        "    </tr>\n",
        "    <tr>\n",
        "      <th>3</th>\n",
        "      <td> 3</td>\n",
        "      <td> 1</td>\n",
        "      <td> 1</td>\n",
        "      <td> Hello World!</td>\n",
        "    </tr>\n",
        "    <tr>\n",
        "      <th>4</th>\n",
        "      <td> 4</td>\n",
        "      <td> 1</td>\n",
        "      <td> 1</td>\n",
        "      <td> Hello World!</td>\n",
        "    </tr>\n",
        "  </tbody>\n",
        "</table>\n",
        "</div>"
       ],
       "metadata": {},
       "output_type": "pyout",
       "prompt_number": 31,
       "text": [
        "   Col1  Col2  Col3          Col4\n",
        "0     0     1     1  Hello World!\n",
        "1     1     1     1  Hello World!\n",
        "2     2     1     1  Hello World!\n",
        "3     3     1     1  Hello World!\n",
        "4     4     1     1  Hello World!"
       ]
      }
     ],
     "prompt_number": 31
    },
    {
     "cell_type": "code",
     "collapsed": false,
     "input": [
      "my_wrong_own_dataset = pd.DataFrame({'Col1': range(5), 'Col2':\n",
      "'string', 'Col3': range(2)})"
     ],
     "language": "python",
     "metadata": {},
     "outputs": [
      {
       "ename": "ValueError",
       "evalue": "arrays must all be same length",
       "output_type": "pyerr",
       "traceback": [
        "\u001b[1;31m---------------------------------------------------------------------------\u001b[0m\n\u001b[1;31mValueError\u001b[0m                                Traceback (most recent call last)",
        "\u001b[1;32m<ipython-input-32-472dc6b904c3>\u001b[0m in \u001b[0;36m<module>\u001b[1;34m()\u001b[0m\n\u001b[0;32m      1\u001b[0m my_wrong_own_dataset = pd.DataFrame({'Col1': range(5), 'Col2':\n\u001b[1;32m----> 2\u001b[1;33m 'string', 'Col3': range(2)})\n\u001b[0m",
        "\u001b[1;32mC:\\Anaconda\\lib\\site-packages\\pandas\\core\\frame.pyc\u001b[0m in \u001b[0;36m__init__\u001b[1;34m(self, data, index, columns, dtype, copy)\u001b[0m\n\u001b[0;32m    201\u001b[0m                                  dtype=dtype, copy=copy)\n\u001b[0;32m    202\u001b[0m         \u001b[1;32melif\u001b[0m \u001b[0misinstance\u001b[0m\u001b[1;33m(\u001b[0m\u001b[0mdata\u001b[0m\u001b[1;33m,\u001b[0m \u001b[0mdict\u001b[0m\u001b[1;33m)\u001b[0m\u001b[1;33m:\u001b[0m\u001b[1;33m\u001b[0m\u001b[0m\n\u001b[1;32m--> 203\u001b[1;33m             \u001b[0mmgr\u001b[0m \u001b[1;33m=\u001b[0m \u001b[0mself\u001b[0m\u001b[1;33m.\u001b[0m\u001b[0m_init_dict\u001b[0m\u001b[1;33m(\u001b[0m\u001b[0mdata\u001b[0m\u001b[1;33m,\u001b[0m \u001b[0mindex\u001b[0m\u001b[1;33m,\u001b[0m \u001b[0mcolumns\u001b[0m\u001b[1;33m,\u001b[0m \u001b[0mdtype\u001b[0m\u001b[1;33m=\u001b[0m\u001b[0mdtype\u001b[0m\u001b[1;33m)\u001b[0m\u001b[1;33m\u001b[0m\u001b[0m\n\u001b[0m\u001b[0;32m    204\u001b[0m         \u001b[1;32melif\u001b[0m \u001b[0misinstance\u001b[0m\u001b[1;33m(\u001b[0m\u001b[0mdata\u001b[0m\u001b[1;33m,\u001b[0m \u001b[0mma\u001b[0m\u001b[1;33m.\u001b[0m\u001b[0mMaskedArray\u001b[0m\u001b[1;33m)\u001b[0m\u001b[1;33m:\u001b[0m\u001b[1;33m\u001b[0m\u001b[0m\n\u001b[0;32m    205\u001b[0m             \u001b[1;32mimport\u001b[0m \u001b[0mnumpy\u001b[0m\u001b[1;33m.\u001b[0m\u001b[0mma\u001b[0m\u001b[1;33m.\u001b[0m\u001b[0mmrecords\u001b[0m \u001b[1;32mas\u001b[0m \u001b[0mmrecords\u001b[0m\u001b[1;33m\u001b[0m\u001b[0m\n",
        "\u001b[1;32mC:\\Anaconda\\lib\\site-packages\\pandas\\core\\frame.pyc\u001b[0m in \u001b[0;36m_init_dict\u001b[1;34m(self, data, index, columns, dtype)\u001b[0m\n\u001b[0;32m    325\u001b[0m \u001b[1;33m\u001b[0m\u001b[0m\n\u001b[0;32m    326\u001b[0m         return _arrays_to_mgr(arrays, data_names, index, columns,\n\u001b[1;32m--> 327\u001b[1;33m                               dtype=dtype)\n\u001b[0m\u001b[0;32m    328\u001b[0m \u001b[1;33m\u001b[0m\u001b[0m\n\u001b[0;32m    329\u001b[0m     def _init_ndarray(self, values, index, columns, dtype=None,\n",
        "\u001b[1;32mC:\\Anaconda\\lib\\site-packages\\pandas\\core\\frame.pyc\u001b[0m in \u001b[0;36m_arrays_to_mgr\u001b[1;34m(arrays, arr_names, index, columns, dtype)\u001b[0m\n\u001b[0;32m   4618\u001b[0m     \u001b[1;31m# figure out the index, if necessary\u001b[0m\u001b[1;33m\u001b[0m\u001b[1;33m\u001b[0m\u001b[0m\n\u001b[0;32m   4619\u001b[0m     \u001b[1;32mif\u001b[0m \u001b[0mindex\u001b[0m \u001b[1;32mis\u001b[0m \u001b[0mNone\u001b[0m\u001b[1;33m:\u001b[0m\u001b[1;33m\u001b[0m\u001b[0m\n\u001b[1;32m-> 4620\u001b[1;33m         \u001b[0mindex\u001b[0m \u001b[1;33m=\u001b[0m \u001b[0mextract_index\u001b[0m\u001b[1;33m(\u001b[0m\u001b[0marrays\u001b[0m\u001b[1;33m)\u001b[0m\u001b[1;33m\u001b[0m\u001b[0m\n\u001b[0m\u001b[0;32m   4621\u001b[0m     \u001b[1;32melse\u001b[0m\u001b[1;33m:\u001b[0m\u001b[1;33m\u001b[0m\u001b[0m\n\u001b[0;32m   4622\u001b[0m         \u001b[0mindex\u001b[0m \u001b[1;33m=\u001b[0m \u001b[0m_ensure_index\u001b[0m\u001b[1;33m(\u001b[0m\u001b[0mindex\u001b[0m\u001b[1;33m)\u001b[0m\u001b[1;33m\u001b[0m\u001b[0m\n",
        "\u001b[1;32mC:\\Anaconda\\lib\\site-packages\\pandas\\core\\frame.pyc\u001b[0m in \u001b[0;36mextract_index\u001b[1;34m(data)\u001b[0m\n\u001b[0;32m   4666\u001b[0m             \u001b[0mlengths\u001b[0m \u001b[1;33m=\u001b[0m \u001b[0mlist\u001b[0m\u001b[1;33m(\u001b[0m\u001b[0mset\u001b[0m\u001b[1;33m(\u001b[0m\u001b[0mraw_lengths\u001b[0m\u001b[1;33m)\u001b[0m\u001b[1;33m)\u001b[0m\u001b[1;33m\u001b[0m\u001b[0m\n\u001b[0;32m   4667\u001b[0m             \u001b[1;32mif\u001b[0m \u001b[0mlen\u001b[0m\u001b[1;33m(\u001b[0m\u001b[0mlengths\u001b[0m\u001b[1;33m)\u001b[0m \u001b[1;33m>\u001b[0m \u001b[1;36m1\u001b[0m\u001b[1;33m:\u001b[0m\u001b[1;33m\u001b[0m\u001b[0m\n\u001b[1;32m-> 4668\u001b[1;33m                 \u001b[1;32mraise\u001b[0m \u001b[0mValueError\u001b[0m\u001b[1;33m(\u001b[0m\u001b[1;34m'arrays must all be same length'\u001b[0m\u001b[1;33m)\u001b[0m\u001b[1;33m\u001b[0m\u001b[0m\n\u001b[0m\u001b[0;32m   4669\u001b[0m \u001b[1;33m\u001b[0m\u001b[0m\n\u001b[0;32m   4670\u001b[0m             \u001b[1;32mif\u001b[0m \u001b[0mhave_dicts\u001b[0m\u001b[1;33m:\u001b[0m\u001b[1;33m\u001b[0m\u001b[0m\n",
        "\u001b[1;31mValueError\u001b[0m: arrays must all be same length"
       ]
      }
     ],
     "prompt_number": 32
    },
    {
     "cell_type": "code",
     "collapsed": false,
     "input": [
      "my_own_dataset.dtypes"
     ],
     "language": "python",
     "metadata": {},
     "outputs": [
      {
       "metadata": {},
       "output_type": "pyout",
       "prompt_number": 33,
       "text": [
        "Col1      int64\n",
        "Col2    float64\n",
        "Col3    float64\n",
        "Col4     object\n",
        "dtype: object"
       ]
      }
     ],
     "prompt_number": 33
    },
    {
     "cell_type": "code",
     "collapsed": false,
     "input": [
      "my_own_dataset['Col1'] = my_own_dataset['Col1'].astype(float)\n",
      "my_own_dataset.dtypes"
     ],
     "language": "python",
     "metadata": {},
     "outputs": [
      {
       "metadata": {},
       "output_type": "pyout",
       "prompt_number": 34,
       "text": [
        "Col1    float64\n",
        "Col2    float64\n",
        "Col3    float64\n",
        "Col4     object\n",
        "dtype: object"
       ]
      }
     ],
     "prompt_number": 34
    },
    {
     "cell_type": "heading",
     "level": 3,
     "metadata": {},
     "source": [
      "Data preprocessing"
     ]
    },
    {
     "cell_type": "code",
     "collapsed": false,
     "input": [
      "mask_feature = iris['sepal_length'] > 6.0\n",
      "mask_feature"
     ],
     "language": "python",
     "metadata": {},
     "outputs": [
      {
       "metadata": {},
       "output_type": "pyout",
       "prompt_number": 35,
       "text": [
        "0     False\n",
        "1     False\n",
        "2     False\n",
        "3     False\n",
        "4     False\n",
        "5     False\n",
        "6     False\n",
        "7     False\n",
        "8     False\n",
        "9     False\n",
        "10    False\n",
        "11    False\n",
        "12    False\n",
        "13    False\n",
        "14    False\n",
        "...\n",
        "135     True\n",
        "136     True\n",
        "137     True\n",
        "138    False\n",
        "139     True\n",
        "140     True\n",
        "141     True\n",
        "142    False\n",
        "143     True\n",
        "144     True\n",
        "145     True\n",
        "146     True\n",
        "147     True\n",
        "148     True\n",
        "149    False\n",
        "Name: sepal_length, Length: 150, dtype: bool"
       ]
      }
     ],
     "prompt_number": 35
    },
    {
     "cell_type": "code",
     "collapsed": false,
     "input": [
      "mask_target = iris['target'] == 'Iris-virginica'"
     ],
     "language": "python",
     "metadata": {},
     "outputs": [],
     "prompt_number": 36
    },
    {
     "cell_type": "code",
     "collapsed": false,
     "input": [
      "iris.loc[mask_target, 'target'] = 'New label'"
     ],
     "language": "python",
     "metadata": {},
     "outputs": [],
     "prompt_number": 37
    },
    {
     "cell_type": "code",
     "collapsed": false,
     "input": [
      "iris['target'].unique()"
     ],
     "language": "python",
     "metadata": {},
     "outputs": [
      {
       "metadata": {},
       "output_type": "pyout",
       "prompt_number": 38,
       "text": [
        "array(['Iris-setosa', 'Iris-versicolor', 'New label'], dtype=object)"
       ]
      }
     ],
     "prompt_number": 38
    },
    {
     "cell_type": "code",
     "collapsed": false,
     "input": [
      "grouped_targets_mean = iris.groupby(['target']).mean()\n",
      "grouped_targets_mean"
     ],
     "language": "python",
     "metadata": {},
     "outputs": [
      {
       "html": [
        "<div style=\"max-height:1000px;max-width:1500px;overflow:auto;\">\n",
        "<table border=\"1\" class=\"dataframe\">\n",
        "  <thead>\n",
        "    <tr style=\"text-align: right;\">\n",
        "      <th></th>\n",
        "      <th>sepal_length</th>\n",
        "      <th>sepal_width</th>\n",
        "      <th>petal_length</th>\n",
        "      <th>petal_width</th>\n",
        "    </tr>\n",
        "    <tr>\n",
        "      <th>target</th>\n",
        "      <th></th>\n",
        "      <th></th>\n",
        "      <th></th>\n",
        "      <th></th>\n",
        "    </tr>\n",
        "  </thead>\n",
        "  <tbody>\n",
        "    <tr>\n",
        "      <th>Iris-setosa</th>\n",
        "      <td> 5.006</td>\n",
        "      <td> 3.418</td>\n",
        "      <td> 1.464</td>\n",
        "      <td> 0.244</td>\n",
        "    </tr>\n",
        "    <tr>\n",
        "      <th>Iris-versicolor</th>\n",
        "      <td> 5.936</td>\n",
        "      <td> 2.770</td>\n",
        "      <td> 4.260</td>\n",
        "      <td> 1.326</td>\n",
        "    </tr>\n",
        "    <tr>\n",
        "      <th>New label</th>\n",
        "      <td> 6.588</td>\n",
        "      <td> 2.974</td>\n",
        "      <td> 5.552</td>\n",
        "      <td> 2.026</td>\n",
        "    </tr>\n",
        "  </tbody>\n",
        "</table>\n",
        "</div>"
       ],
       "metadata": {},
       "output_type": "pyout",
       "prompt_number": 39,
       "text": [
        "                 sepal_length  sepal_width  petal_length  petal_width\n",
        "target                                                               \n",
        "Iris-setosa             5.006        3.418         1.464        0.244\n",
        "Iris-versicolor         5.936        2.770         4.260        1.326\n",
        "New label               6.588        2.974         5.552        2.026"
       ]
      }
     ],
     "prompt_number": 39
    },
    {
     "cell_type": "code",
     "collapsed": false,
     "input": [
      "grouped_targets_var = iris.groupby(['target']).var()\n",
      "grouped_targets_var"
     ],
     "language": "python",
     "metadata": {},
     "outputs": [
      {
       "html": [
        "<div style=\"max-height:1000px;max-width:1500px;overflow:auto;\">\n",
        "<table border=\"1\" class=\"dataframe\">\n",
        "  <thead>\n",
        "    <tr style=\"text-align: right;\">\n",
        "      <th></th>\n",
        "      <th>sepal_length</th>\n",
        "      <th>sepal_width</th>\n",
        "      <th>petal_length</th>\n",
        "      <th>petal_width</th>\n",
        "    </tr>\n",
        "    <tr>\n",
        "      <th>target</th>\n",
        "      <th></th>\n",
        "      <th></th>\n",
        "      <th></th>\n",
        "      <th></th>\n",
        "    </tr>\n",
        "  </thead>\n",
        "  <tbody>\n",
        "    <tr>\n",
        "      <th>Iris-setosa</th>\n",
        "      <td> 0.124249</td>\n",
        "      <td> 0.145180</td>\n",
        "      <td> 0.030106</td>\n",
        "      <td> 0.011494</td>\n",
        "    </tr>\n",
        "    <tr>\n",
        "      <th>Iris-versicolor</th>\n",
        "      <td> 0.266433</td>\n",
        "      <td> 0.098469</td>\n",
        "      <td> 0.220816</td>\n",
        "      <td> 0.039106</td>\n",
        "    </tr>\n",
        "    <tr>\n",
        "      <th>New label</th>\n",
        "      <td> 0.404343</td>\n",
        "      <td> 0.104004</td>\n",
        "      <td> 0.304588</td>\n",
        "      <td> 0.075433</td>\n",
        "    </tr>\n",
        "  </tbody>\n",
        "</table>\n",
        "</div>"
       ],
       "metadata": {},
       "output_type": "pyout",
       "prompt_number": 40,
       "text": [
        "                 sepal_length  sepal_width  petal_length  petal_width\n",
        "target                                                               \n",
        "Iris-setosa          0.124249     0.145180      0.030106     0.011494\n",
        "Iris-versicolor      0.266433     0.098469      0.220816     0.039106\n",
        "New label            0.404343     0.104004      0.304588     0.075433"
       ]
      }
     ],
     "prompt_number": 40
    },
    {
     "cell_type": "code",
     "collapsed": false,
     "input": [
      "iris.sort_index(by='sepal_length').head()"
     ],
     "language": "python",
     "metadata": {},
     "outputs": [
      {
       "html": [
        "<div style=\"max-height:1000px;max-width:1500px;overflow:auto;\">\n",
        "<table border=\"1\" class=\"dataframe\">\n",
        "  <thead>\n",
        "    <tr style=\"text-align: right;\">\n",
        "      <th></th>\n",
        "      <th>sepal_length</th>\n",
        "      <th>sepal_width</th>\n",
        "      <th>petal_length</th>\n",
        "      <th>petal_width</th>\n",
        "      <th>target</th>\n",
        "    </tr>\n",
        "  </thead>\n",
        "  <tbody>\n",
        "    <tr>\n",
        "      <th>13</th>\n",
        "      <td> 4.3</td>\n",
        "      <td> 3.0</td>\n",
        "      <td> 1.1</td>\n",
        "      <td> 0.1</td>\n",
        "      <td> Iris-setosa</td>\n",
        "    </tr>\n",
        "    <tr>\n",
        "      <th>42</th>\n",
        "      <td> 4.4</td>\n",
        "      <td> 3.2</td>\n",
        "      <td> 1.3</td>\n",
        "      <td> 0.2</td>\n",
        "      <td> Iris-setosa</td>\n",
        "    </tr>\n",
        "    <tr>\n",
        "      <th>38</th>\n",
        "      <td> 4.4</td>\n",
        "      <td> 3.0</td>\n",
        "      <td> 1.3</td>\n",
        "      <td> 0.2</td>\n",
        "      <td> Iris-setosa</td>\n",
        "    </tr>\n",
        "    <tr>\n",
        "      <th>8 </th>\n",
        "      <td> 4.4</td>\n",
        "      <td> 2.9</td>\n",
        "      <td> 1.4</td>\n",
        "      <td> 0.2</td>\n",
        "      <td> Iris-setosa</td>\n",
        "    </tr>\n",
        "    <tr>\n",
        "      <th>41</th>\n",
        "      <td> 4.5</td>\n",
        "      <td> 2.3</td>\n",
        "      <td> 1.3</td>\n",
        "      <td> 0.3</td>\n",
        "      <td> Iris-setosa</td>\n",
        "    </tr>\n",
        "  </tbody>\n",
        "</table>\n",
        "</div>"
       ],
       "metadata": {},
       "output_type": "pyout",
       "prompt_number": 41,
       "text": [
        "    sepal_length  sepal_width  petal_length  petal_width       target\n",
        "13           4.3          3.0           1.1          0.1  Iris-setosa\n",
        "42           4.4          3.2           1.3          0.2  Iris-setosa\n",
        "38           4.4          3.0           1.3          0.2  Iris-setosa\n",
        "8            4.4          2.9           1.4          0.2  Iris-setosa\n",
        "41           4.5          2.3           1.3          0.3  Iris-setosa"
       ]
      }
     ],
     "prompt_number": 41
    },
    {
     "cell_type": "code",
     "collapsed": false,
     "input": [
      "# This is just an example, with no time_series data\n",
      "# smooth_time_series = pd.rolling_mean(time_series, 5)"
     ],
     "language": "python",
     "metadata": {},
     "outputs": [],
     "prompt_number": 43
    },
    {
     "cell_type": "code",
     "collapsed": false,
     "input": [
      "# This is just an example, with no time_series data\n",
      "# median_time_series = pd.rolling_median(time_series, 5)"
     ],
     "language": "python",
     "metadata": {},
     "outputs": []
    },
    {
     "cell_type": "heading",
     "level": 3,
     "metadata": {},
     "source": [
      "Data selection"
     ]
    },
    {
     "cell_type": "code",
     "collapsed": false,
     "input": [
      "import pandas as pd\n",
      "dataset = pd.read_csv('a_selection_example_1.csv')\n",
      "dataset"
     ],
     "language": "python",
     "metadata": {},
     "outputs": [
      {
       "html": [
        "<div style=\"max-height:1000px;max-width:1500px;overflow:auto;\">\n",
        "<table border=\"1\" class=\"dataframe\">\n",
        "  <thead>\n",
        "    <tr style=\"text-align: right;\">\n",
        "      <th></th>\n",
        "      <th>n</th>\n",
        "      <th>val1</th>\n",
        "      <th>val2</th>\n",
        "      <th>val3</th>\n",
        "    </tr>\n",
        "  </thead>\n",
        "  <tbody>\n",
        "    <tr>\n",
        "      <th>0</th>\n",
        "      <td> 100</td>\n",
        "      <td> 10</td>\n",
        "      <td> 10</td>\n",
        "      <td> C</td>\n",
        "    </tr>\n",
        "    <tr>\n",
        "      <th>1</th>\n",
        "      <td> 101</td>\n",
        "      <td> 10</td>\n",
        "      <td> 20</td>\n",
        "      <td> C</td>\n",
        "    </tr>\n",
        "    <tr>\n",
        "      <th>2</th>\n",
        "      <td> 102</td>\n",
        "      <td> 10</td>\n",
        "      <td> 30</td>\n",
        "      <td> B</td>\n",
        "    </tr>\n",
        "    <tr>\n",
        "      <th>3</th>\n",
        "      <td> 103</td>\n",
        "      <td> 10</td>\n",
        "      <td> 40</td>\n",
        "      <td> B</td>\n",
        "    </tr>\n",
        "    <tr>\n",
        "      <th>4</th>\n",
        "      <td> 104</td>\n",
        "      <td> 10</td>\n",
        "      <td> 50</td>\n",
        "      <td> A</td>\n",
        "    </tr>\n",
        "  </tbody>\n",
        "</table>\n",
        "</div>"
       ],
       "metadata": {},
       "output_type": "pyout",
       "prompt_number": 45,
       "text": [
        "     n  val1  val2 val3\n",
        "0  100    10    10    C\n",
        "1  101    10    20    C\n",
        "2  102    10    30    B\n",
        "3  103    10    40    B\n",
        "4  104    10    50    A"
       ]
      }
     ],
     "prompt_number": 45
    },
    {
     "cell_type": "code",
     "collapsed": false,
     "input": [
      "dataset = pd.read_csv('a_selection_example_1.csv', index_col=0)\n",
      "dataset"
     ],
     "language": "python",
     "metadata": {},
     "outputs": [
      {
       "html": [
        "<div style=\"max-height:1000px;max-width:1500px;overflow:auto;\">\n",
        "<table border=\"1\" class=\"dataframe\">\n",
        "  <thead>\n",
        "    <tr style=\"text-align: right;\">\n",
        "      <th></th>\n",
        "      <th>val1</th>\n",
        "      <th>val2</th>\n",
        "      <th>val3</th>\n",
        "    </tr>\n",
        "    <tr>\n",
        "      <th>n</th>\n",
        "      <th></th>\n",
        "      <th></th>\n",
        "      <th></th>\n",
        "    </tr>\n",
        "  </thead>\n",
        "  <tbody>\n",
        "    <tr>\n",
        "      <th>100</th>\n",
        "      <td> 10</td>\n",
        "      <td> 10</td>\n",
        "      <td> C</td>\n",
        "    </tr>\n",
        "    <tr>\n",
        "      <th>101</th>\n",
        "      <td> 10</td>\n",
        "      <td> 20</td>\n",
        "      <td> C</td>\n",
        "    </tr>\n",
        "    <tr>\n",
        "      <th>102</th>\n",
        "      <td> 10</td>\n",
        "      <td> 30</td>\n",
        "      <td> B</td>\n",
        "    </tr>\n",
        "    <tr>\n",
        "      <th>103</th>\n",
        "      <td> 10</td>\n",
        "      <td> 40</td>\n",
        "      <td> B</td>\n",
        "    </tr>\n",
        "    <tr>\n",
        "      <th>104</th>\n",
        "      <td> 10</td>\n",
        "      <td> 50</td>\n",
        "      <td> A</td>\n",
        "    </tr>\n",
        "  </tbody>\n",
        "</table>\n",
        "</div>"
       ],
       "metadata": {},
       "output_type": "pyout",
       "prompt_number": 46,
       "text": [
        "     val1  val2 val3\n",
        "n                   \n",
        "100    10    10    C\n",
        "101    10    20    C\n",
        "102    10    30    B\n",
        "103    10    40    B\n",
        "104    10    50    A"
       ]
      }
     ],
     "prompt_number": 46
    },
    {
     "cell_type": "code",
     "collapsed": false,
     "input": [
      "dataset['val3'][104]"
     ],
     "language": "python",
     "metadata": {},
     "outputs": [
      {
       "metadata": {},
       "output_type": "pyout",
       "prompt_number": 47,
       "text": [
        "'A'"
       ]
      }
     ],
     "prompt_number": 47
    },
    {
     "cell_type": "code",
     "collapsed": false,
     "input": [
      "dataset.loc[104, 'val3']"
     ],
     "language": "python",
     "metadata": {},
     "outputs": [
      {
       "metadata": {},
       "output_type": "pyout",
       "prompt_number": 48,
       "text": [
        "'A'"
       ]
      }
     ],
     "prompt_number": 48
    },
    {
     "cell_type": "code",
     "collapsed": false,
     "input": [
      "dataset.ix[104, 'val3']"
     ],
     "language": "python",
     "metadata": {},
     "outputs": [
      {
       "metadata": {},
       "output_type": "pyout",
       "prompt_number": 49,
       "text": [
        "'A'"
       ]
      }
     ],
     "prompt_number": 49
    },
    {
     "cell_type": "code",
     "collapsed": false,
     "input": [
      "dataset.ix[104, 2]"
     ],
     "language": "python",
     "metadata": {},
     "outputs": [
      {
       "metadata": {},
       "output_type": "pyout",
       "prompt_number": 50,
       "text": [
        "'A'"
       ]
      }
     ],
     "prompt_number": 50
    },
    {
     "cell_type": "code",
     "collapsed": false,
     "input": [
      "dataset.iloc[4, 2]"
     ],
     "language": "python",
     "metadata": {},
     "outputs": [
      {
       "metadata": {},
       "output_type": "pyout",
       "prompt_number": 51,
       "text": [
        "'A'"
       ]
      }
     ],
     "prompt_number": 51
    },
    {
     "cell_type": "code",
     "collapsed": false,
     "input": [
      "dataset[['val3', 'val2']][0:2]"
     ],
     "language": "python",
     "metadata": {},
     "outputs": [
      {
       "html": [
        "<div style=\"max-height:1000px;max-width:1500px;overflow:auto;\">\n",
        "<table border=\"1\" class=\"dataframe\">\n",
        "  <thead>\n",
        "    <tr style=\"text-align: right;\">\n",
        "      <th></th>\n",
        "      <th>val3</th>\n",
        "      <th>val2</th>\n",
        "    </tr>\n",
        "    <tr>\n",
        "      <th>n</th>\n",
        "      <th></th>\n",
        "      <th></th>\n",
        "    </tr>\n",
        "  </thead>\n",
        "  <tbody>\n",
        "    <tr>\n",
        "      <th>100</th>\n",
        "      <td> C</td>\n",
        "      <td> 10</td>\n",
        "    </tr>\n",
        "    <tr>\n",
        "      <th>101</th>\n",
        "      <td> C</td>\n",
        "      <td> 20</td>\n",
        "    </tr>\n",
        "  </tbody>\n",
        "</table>\n",
        "</div>"
       ],
       "metadata": {},
       "output_type": "pyout",
       "prompt_number": 52,
       "text": [
        "    val3  val2\n",
        "n             \n",
        "100    C    10\n",
        "101    C    20"
       ]
      }
     ],
     "prompt_number": 52
    },
    {
     "cell_type": "code",
     "collapsed": false,
     "input": [
      "dataset.loc[range(100, 102), ['val3', 'val2']]"
     ],
     "language": "python",
     "metadata": {},
     "outputs": [
      {
       "html": [
        "<div style=\"max-height:1000px;max-width:1500px;overflow:auto;\">\n",
        "<table border=\"1\" class=\"dataframe\">\n",
        "  <thead>\n",
        "    <tr style=\"text-align: right;\">\n",
        "      <th></th>\n",
        "      <th>val3</th>\n",
        "      <th>val2</th>\n",
        "    </tr>\n",
        "  </thead>\n",
        "  <tbody>\n",
        "    <tr>\n",
        "      <th>100</th>\n",
        "      <td> C</td>\n",
        "      <td> 10</td>\n",
        "    </tr>\n",
        "    <tr>\n",
        "      <th>101</th>\n",
        "      <td> C</td>\n",
        "      <td> 20</td>\n",
        "    </tr>\n",
        "  </tbody>\n",
        "</table>\n",
        "</div>"
       ],
       "metadata": {},
       "output_type": "pyout",
       "prompt_number": 53,
       "text": [
        "    val3  val2\n",
        "100    C    10\n",
        "101    C    20"
       ]
      }
     ],
     "prompt_number": 53
    },
    {
     "cell_type": "code",
     "collapsed": false,
     "input": [
      "dataset.ix[range(100, 102), ['val3', 'val2']]"
     ],
     "language": "python",
     "metadata": {},
     "outputs": [
      {
       "html": [
        "<div style=\"max-height:1000px;max-width:1500px;overflow:auto;\">\n",
        "<table border=\"1\" class=\"dataframe\">\n",
        "  <thead>\n",
        "    <tr style=\"text-align: right;\">\n",
        "      <th></th>\n",
        "      <th>val3</th>\n",
        "      <th>val2</th>\n",
        "    </tr>\n",
        "  </thead>\n",
        "  <tbody>\n",
        "    <tr>\n",
        "      <th>100</th>\n",
        "      <td> C</td>\n",
        "      <td> 10</td>\n",
        "    </tr>\n",
        "    <tr>\n",
        "      <th>101</th>\n",
        "      <td> C</td>\n",
        "      <td> 20</td>\n",
        "    </tr>\n",
        "  </tbody>\n",
        "</table>\n",
        "</div>"
       ],
       "metadata": {},
       "output_type": "pyout",
       "prompt_number": 54,
       "text": [
        "    val3  val2\n",
        "100    C    10\n",
        "101    C    20"
       ]
      }
     ],
     "prompt_number": 54
    },
    {
     "cell_type": "code",
     "collapsed": false,
     "input": [
      "dataset.ix[range(100, 102), [2, 1]]"
     ],
     "language": "python",
     "metadata": {},
     "outputs": [
      {
       "html": [
        "<div style=\"max-height:1000px;max-width:1500px;overflow:auto;\">\n",
        "<table border=\"1\" class=\"dataframe\">\n",
        "  <thead>\n",
        "    <tr style=\"text-align: right;\">\n",
        "      <th></th>\n",
        "      <th>val3</th>\n",
        "      <th>val2</th>\n",
        "    </tr>\n",
        "  </thead>\n",
        "  <tbody>\n",
        "    <tr>\n",
        "      <th>100</th>\n",
        "      <td> C</td>\n",
        "      <td> 10</td>\n",
        "    </tr>\n",
        "    <tr>\n",
        "      <th>101</th>\n",
        "      <td> C</td>\n",
        "      <td> 20</td>\n",
        "    </tr>\n",
        "  </tbody>\n",
        "</table>\n",
        "</div>"
       ],
       "metadata": {},
       "output_type": "pyout",
       "prompt_number": 55,
       "text": [
        "    val3  val2\n",
        "100    C    10\n",
        "101    C    20"
       ]
      }
     ],
     "prompt_number": 55
    },
    {
     "cell_type": "code",
     "collapsed": false,
     "input": [
      "dataset.iloc[range(2), [2,1]]"
     ],
     "language": "python",
     "metadata": {},
     "outputs": [
      {
       "html": [
        "<div style=\"max-height:1000px;max-width:1500px;overflow:auto;\">\n",
        "<table border=\"1\" class=\"dataframe\">\n",
        "  <thead>\n",
        "    <tr style=\"text-align: right;\">\n",
        "      <th></th>\n",
        "      <th>val3</th>\n",
        "      <th>val2</th>\n",
        "    </tr>\n",
        "    <tr>\n",
        "      <th>n</th>\n",
        "      <th></th>\n",
        "      <th></th>\n",
        "    </tr>\n",
        "  </thead>\n",
        "  <tbody>\n",
        "    <tr>\n",
        "      <th>100</th>\n",
        "      <td> C</td>\n",
        "      <td> 10</td>\n",
        "    </tr>\n",
        "    <tr>\n",
        "      <th>101</th>\n",
        "      <td> C</td>\n",
        "      <td> 20</td>\n",
        "    </tr>\n",
        "  </tbody>\n",
        "</table>\n",
        "</div>"
       ],
       "metadata": {},
       "output_type": "pyout",
       "prompt_number": 56,
       "text": [
        "    val3  val2\n",
        "n             \n",
        "100    C    10\n",
        "101    C    20"
       ]
      }
     ],
     "prompt_number": 56
    },
    {
     "cell_type": "heading",
     "level": 2,
     "metadata": {},
     "source": [
      "Working with categorical and textual data"
     ]
    },
    {
     "cell_type": "code",
     "collapsed": false,
     "input": [
      "import pandas as pd\n",
      "categorical_feature = pd.Series(['sunny', 'cloudy', 'snowy',\n",
      "'rainy', 'foggy'])\n",
      "mapping = pd.get_dummies(categorical_feature)\n",
      "mapping"
     ],
     "language": "python",
     "metadata": {},
     "outputs": [
      {
       "html": [
        "<div style=\"max-height:1000px;max-width:1500px;overflow:auto;\">\n",
        "<table border=\"1\" class=\"dataframe\">\n",
        "  <thead>\n",
        "    <tr style=\"text-align: right;\">\n",
        "      <th></th>\n",
        "      <th>cloudy</th>\n",
        "      <th>foggy</th>\n",
        "      <th>rainy</th>\n",
        "      <th>snowy</th>\n",
        "      <th>sunny</th>\n",
        "    </tr>\n",
        "  </thead>\n",
        "  <tbody>\n",
        "    <tr>\n",
        "      <th>0</th>\n",
        "      <td> 0</td>\n",
        "      <td> 0</td>\n",
        "      <td> 0</td>\n",
        "      <td> 0</td>\n",
        "      <td> 1</td>\n",
        "    </tr>\n",
        "    <tr>\n",
        "      <th>1</th>\n",
        "      <td> 1</td>\n",
        "      <td> 0</td>\n",
        "      <td> 0</td>\n",
        "      <td> 0</td>\n",
        "      <td> 0</td>\n",
        "    </tr>\n",
        "    <tr>\n",
        "      <th>2</th>\n",
        "      <td> 0</td>\n",
        "      <td> 0</td>\n",
        "      <td> 0</td>\n",
        "      <td> 1</td>\n",
        "      <td> 0</td>\n",
        "    </tr>\n",
        "    <tr>\n",
        "      <th>3</th>\n",
        "      <td> 0</td>\n",
        "      <td> 0</td>\n",
        "      <td> 1</td>\n",
        "      <td> 0</td>\n",
        "      <td> 0</td>\n",
        "    </tr>\n",
        "    <tr>\n",
        "      <th>4</th>\n",
        "      <td> 0</td>\n",
        "      <td> 1</td>\n",
        "      <td> 0</td>\n",
        "      <td> 0</td>\n",
        "      <td> 0</td>\n",
        "    </tr>\n",
        "  </tbody>\n",
        "</table>\n",
        "</div>"
       ],
       "metadata": {},
       "output_type": "pyout",
       "prompt_number": 57,
       "text": [
        "   cloudy  foggy  rainy  snowy  sunny\n",
        "0       0      0      0      0      1\n",
        "1       1      0      0      0      0\n",
        "2       0      0      0      1      0\n",
        "3       0      0      1      0      0\n",
        "4       0      1      0      0      0"
       ]
      }
     ],
     "prompt_number": 57
    },
    {
     "cell_type": "code",
     "collapsed": false,
     "input": [
      "mapping['sunny']"
     ],
     "language": "python",
     "metadata": {},
     "outputs": [
      {
       "metadata": {},
       "output_type": "pyout",
       "prompt_number": 58,
       "text": [
        "0    1\n",
        "1    0\n",
        "2    0\n",
        "3    0\n",
        "4    0\n",
        "Name: sunny, dtype: float64"
       ]
      }
     ],
     "prompt_number": 58
    },
    {
     "cell_type": "code",
     "collapsed": false,
     "input": [
      "mapping['cloudy']"
     ],
     "language": "python",
     "metadata": {},
     "outputs": [
      {
       "metadata": {},
       "output_type": "pyout",
       "prompt_number": 59,
       "text": [
        "0    0\n",
        "1    1\n",
        "2    0\n",
        "3    0\n",
        "4    0\n",
        "Name: cloudy, dtype: float64"
       ]
      }
     ],
     "prompt_number": 59
    },
    {
     "cell_type": "code",
     "collapsed": false,
     "input": [
      "from sklearn.preprocessing import OneHotEncoder\n",
      "from sklearn.preprocessing import LabelEncoder\n",
      "le = LabelEncoder()\n",
      "ohe = OneHotEncoder()\n",
      "levels = ['sunny', 'cloudy', 'snowy', 'rainy', 'foggy']\n",
      "fit_levs = le.fit_transform(levels)\n",
      "ohe.fit([[fit_levs[0]], [fit_levs[1]], [fit_levs[2]], [fit_levs[3]],\n",
      "[fit_levs[4]]])\n",
      "print ohe.transform([le.transform(['sunny'])]).toarray()\n",
      "print ohe.transform([le.transform(['cloudy'])]).toarray()"
     ],
     "language": "python",
     "metadata": {},
     "outputs": [
      {
       "output_type": "stream",
       "stream": "stdout",
       "text": [
        "[[ 0.  0.  0.  0.  1.]]\n",
        "[[ 1.  0.  0.  0.  0.]]\n"
       ]
      }
     ],
     "prompt_number": 60
    },
    {
     "cell_type": "heading",
     "level": 2,
     "metadata": {},
     "source": [
      "A special type of data\u2013text"
     ]
    },
    {
     "cell_type": "code",
     "collapsed": false,
     "input": [
      "from sklearn.datasets import fetch_20newsgroups\n",
      "categories = ['sci.med', 'sci.space']\n",
      "twenty_sci_news = fetch_20newsgroups(categories=categories)"
     ],
     "language": "python",
     "metadata": {},
     "outputs": [],
     "prompt_number": 61
    },
    {
     "cell_type": "code",
     "collapsed": false,
     "input": [
      "twenty_sci_news.data[0]"
     ],
     "language": "python",
     "metadata": {},
     "outputs": [
      {
       "metadata": {},
       "output_type": "pyout",
       "prompt_number": 62,
       "text": [
        "u'From: flb@flb.optiplan.fi (\"F.Baube[tm]\")\\nSubject: Vandalizing the sky\\nX-Added: Forwarded by Space Digest\\nOrganization: [via International Space University]\\nOriginal-Sender: isu@VACATION.VENARI.CS.CMU.EDU\\nDistribution: sci\\nLines: 12\\n\\nFrom: \"Phil G. Fraering\" <pgf@srl03.cacs.usl.edu>\\n> \\n> Finally: this isn\\'t the Bronze Age, [..]\\n> please try to remember that there are more human activities than\\n> those practiced by the Warrior Caste, the Farming Caste, and the\\n> Priesthood.\\n\\nRight, the Profiting Caste is blessed by God, and may \\n freely blare its presence in the evening twilight ..\\n\\n-- \\n* Fred Baube (tm)\\n'"
       ]
      }
     ],
     "prompt_number": 62
    },
    {
     "cell_type": "code",
     "collapsed": false,
     "input": [
      "twenty_sci_news.filenames"
     ],
     "language": "python",
     "metadata": {},
     "outputs": [
      {
       "metadata": {},
       "output_type": "pyout",
       "prompt_number": 63,
       "text": [
        "array([ 'C:\\\\Users\\\\Luca\\\\scikit_learn_data\\\\20news_home\\\\20news-bydate-train\\\\sci.space\\\\61116',\n",
        "       'C:\\\\Users\\\\Luca\\\\scikit_learn_data\\\\20news_home\\\\20news-bydate-train\\\\sci.med\\\\58122',\n",
        "       'C:\\\\Users\\\\Luca\\\\scikit_learn_data\\\\20news_home\\\\20news-bydate-train\\\\sci.med\\\\58903',\n",
        "       ...,\n",
        "       'C:\\\\Users\\\\Luca\\\\scikit_learn_data\\\\20news_home\\\\20news-bydate-train\\\\sci.space\\\\60774',\n",
        "       'C:\\\\Users\\\\Luca\\\\scikit_learn_data\\\\20news_home\\\\20news-bydate-train\\\\sci.space\\\\60954',\n",
        "       'C:\\\\Users\\\\Luca\\\\scikit_learn_data\\\\20news_home\\\\20news-bydate-train\\\\sci.med\\\\58911'], \n",
        "      dtype='|S94')"
       ]
      }
     ],
     "prompt_number": 63
    },
    {
     "cell_type": "code",
     "collapsed": false,
     "input": [
      "print twenty_sci_news.target[0]\n",
      "print twenty_sci_news.target_names[twenty_sci_news.target[0]]"
     ],
     "language": "python",
     "metadata": {},
     "outputs": [
      {
       "output_type": "stream",
       "stream": "stdout",
       "text": [
        "1\n",
        "sci.space\n"
       ]
      }
     ],
     "prompt_number": 64
    },
    {
     "cell_type": "code",
     "collapsed": false,
     "input": [
      "from sklearn.feature_extraction.text import CountVectorizer\n",
      "count_vect = CountVectorizer()\n",
      "word_count = count_vect.fit_transform(twenty_sci_news.data)\n",
      "word_count.shape"
     ],
     "language": "python",
     "metadata": {},
     "outputs": [
      {
       "metadata": {},
       "output_type": "pyout",
       "prompt_number": 66,
       "text": [
        "(1187, 25638)"
       ]
      }
     ],
     "prompt_number": 66
    },
    {
     "cell_type": "code",
     "collapsed": false,
     "input": [
      "print word_count[0]"
     ],
     "language": "python",
     "metadata": {},
     "outputs": [
      {
       "output_type": "stream",
       "stream": "stdout",
       "text": [
        "  (0, 10827)\t2\n",
        "  (0, 10501)\t2\n",
        "  (0, 17170)\t1\n",
        "  (0, 10341)\t1\n",
        "  (0, 4762)\t2\n",
        "  (0, 23381)\t2\n",
        "  (0, 22345)\t1\n",
        "  (0, 24461)\t1\n",
        "  (0, 23137)\t7\n",
        "  (0, 21382)\t1\n",
        "  (0, 3233)\t1\n",
        "  (0, 10713)\t1\n",
        "  (0, 5650)\t3\n",
        "  (0, 21686)\t2\n",
        "  (0, 8438)\t1\n",
        "  (0, 17217)\t1\n",
        "  (0, 24626)\t1\n",
        "  (0, 13158)\t1\n",
        "  (0, 24151)\t1\n",
        "  (0, 17235)\t1\n",
        "  (0, 20909)\t1\n",
        "  (0, 13359)\t1\n",
        "  (0, 24415)\t1\n",
        "  (0, 24547)\t1\n",
        "  (0, 7646)\t1\n",
        "  :\t:\n",
        "  (0, 15968)\t1\n",
        "  (0, 12362)\t1\n",
        "  (0, 3191)\t1\n",
        "  (0, 23129)\t1\n",
        "  (0, 23241)\t1\n",
        "  (0, 18474)\t1\n",
        "  (0, 24930)\t1\n",
        "  (0, 6017)\t3\n",
        "  (0, 10188)\t1\n",
        "  (0, 3808)\t2\n",
        "  (0, 18642)\t1\n",
        "  (0, 20110)\t1\n",
        "  (0, 18744)\t1\n",
        "  (0, 13318)\t1\n",
        "  (0, 5148)\t1\n",
        "  (0, 11330)\t1\n",
        "  (0, 15246)\t1\n",
        "  (0, 10785)\t1\n",
        "  (0, 5134)\t1\n",
        "  (0, 13384)\t1\n",
        "  (0, 18586)\t1\n",
        "  (0, 12716)\t1\n",
        "  (0, 9796)\t1\n",
        "  (0, 23849)\t1\n",
        "  (0, 10778)\t1\n"
       ]
      }
     ],
     "prompt_number": 67
    },
    {
     "cell_type": "code",
     "collapsed": false,
     "input": [
      "word_list = count_vect.get_feature_names()\n",
      "for n in word_count[0].indices:\n",
      "    print \"Word:\", word_list[n], \"appears\", word_count[0, n], \"times\""
     ],
     "language": "python",
     "metadata": {},
     "outputs": [
      {
       "output_type": "stream",
       "stream": "stdout",
       "text": [
        "Word: from appears 2 times\n",
        "Word: flb appears 2 times\n",
        "Word: optiplan appears 1 times\n",
        "Word: fi appears 1 times\n",
        "Word: baube appears 2 times\n",
        "Word: tm appears 2 times\n",
        "Word: subject appears 1 times\n",
        "Word: vandalizing appears 1 times\n",
        "Word: the appears 7 times\n",
        "Word: sky appears 1 times\n",
        "Word: added appears 1 times\n",
        "Word: forwarded appears 1 times\n",
        "Word: by appears 3 times\n",
        "Word: space appears 2 times\n",
        "Word: digest appears 1 times\n",
        "Word: organization appears 1 times\n",
        "Word: via appears 1 times\n",
        "Word: international appears 1 times\n",
        "Word: university appears 1 times\n",
        "Word: original appears 1 times\n",
        "Word: sender appears 1 times\n",
        "Word: isu appears 1 times\n",
        "Word: vacation appears 1 times\n",
        "Word: venari appears 1 times\n",
        "Word: cs appears 1 times\n",
        "Word: cmu appears 1 times\n",
        "Word: edu appears 2 times\n",
        "Word: distribution appears 1 times\n",
        "Word: sci appears 1 times\n",
        "Word: lines appears 1 times\n",
        "Word: 12 appears 1 times\n",
        "Word: phil appears 1 times\n",
        "Word: fraering appears 1 times\n",
        "Word: pgf appears 1 times\n",
        "Word: srl03 appears 1 times\n",
        "Word: cacs appears 1 times\n",
        "Word: usl appears 1 times\n",
        "Word: finally appears 1 times\n",
        "Word: this appears 1 times\n",
        "Word: isn appears 1 times\n",
        "Word: bronze appears 1 times\n",
        "Word: age appears 1 times\n",
        "Word: please appears 1 times\n",
        "Word: try appears 1 times\n",
        "Word: to appears 1 times\n",
        "Word: remember appears 1 times\n",
        "Word: that appears 1 times\n",
        "Word: there appears 1 times\n",
        "Word: are appears 1 times\n",
        "Word: more appears 1 times\n",
        "Word: human appears 1 times\n",
        "Word: activities appears 1 times\n",
        "Word: than appears 1 times\n",
        "Word: those appears 1 times\n",
        "Word: practiced appears 1 times\n",
        "Word: warrior appears 1 times\n",
        "Word: caste appears 3 times\n",
        "Word: farming appears 1 times\n",
        "Word: and appears 2 times\n",
        "Word: priesthood appears 1 times\n",
        "Word: right appears 1 times\n",
        "Word: profiting appears 1 times\n",
        "Word: is appears 1 times\n",
        "Word: blessed appears 1 times\n",
        "Word: god appears 1 times\n",
        "Word: may appears 1 times\n",
        "Word: freely appears 1 times\n",
        "Word: blare appears 1 times\n",
        "Word: its appears 1 times\n",
        "Word: presence appears 1 times\n",
        "Word: in appears 1 times\n",
        "Word: evening appears 1 times\n",
        "Word: twilight appears 1 times\n",
        "Word: fred appears 1 times\n"
       ]
      }
     ],
     "prompt_number": 68
    },
    {
     "cell_type": "code",
     "collapsed": false,
     "input": [
      "from sklearn.feature_extraction.text import TfidfVectorizer\n",
      "tf_vect = TfidfVectorizer(use_idf=False, norm='l1')\n",
      "word_freq = tf_vect.fit_transform(twenty_sci_news.data)\n",
      "word_list = tf_vect.get_feature_names()\n",
      "for n in word_freq[0].indices:\n",
      "    print \"Word:\", word_list[n], \"has frequency\", word_freq[0, n]"
     ],
     "language": "python",
     "metadata": {},
     "outputs": [
      {
       "output_type": "stream",
       "stream": "stdout",
       "text": [
        "Word: from has frequency 0.021978021978\n",
        "Word: flb has frequency 0.021978021978\n",
        "Word: optiplan has frequency 0.010989010989\n",
        "Word: fi has frequency 0.010989010989\n",
        "Word: baube has frequency 0.021978021978\n",
        "Word: tm has frequency 0.021978021978\n",
        "Word: subject has frequency 0.010989010989\n",
        "Word: vandalizing has frequency 0.010989010989\n",
        "Word: the has frequency 0.0769230769231\n",
        "Word: sky has frequency 0.010989010989\n",
        "Word: added has frequency 0.010989010989\n",
        "Word: forwarded has frequency 0.010989010989\n",
        "Word: by has frequency 0.032967032967\n",
        "Word: space has frequency 0.021978021978\n",
        "Word: digest has frequency 0.010989010989\n",
        "Word: organization has frequency 0.010989010989\n",
        "Word: via has frequency 0.010989010989\n",
        "Word: international has frequency 0.010989010989\n",
        "Word: university has frequency 0.010989010989\n",
        "Word: original has frequency 0.010989010989\n",
        "Word: sender has frequency 0.010989010989\n",
        "Word: isu has frequency 0.010989010989\n",
        "Word: vacation has frequency 0.010989010989\n",
        "Word: venari has frequency 0.010989010989\n",
        "Word: cs has frequency 0.010989010989\n",
        "Word: cmu has frequency 0.010989010989\n",
        "Word: edu has frequency 0.021978021978\n",
        "Word: distribution has frequency 0.010989010989\n",
        "Word: sci has frequency 0.010989010989\n",
        "Word: lines has frequency 0.010989010989\n",
        "Word: 12 has frequency 0.010989010989\n",
        "Word: phil has frequency 0.010989010989\n",
        "Word: fraering has frequency 0.010989010989\n",
        "Word: pgf has frequency 0.010989010989\n",
        "Word: srl03 has frequency 0.010989010989\n",
        "Word: cacs has frequency 0.010989010989\n",
        "Word: usl has frequency 0.010989010989\n",
        "Word: finally has frequency 0.010989010989\n",
        "Word: this has frequency 0.010989010989\n",
        "Word: isn has frequency 0.010989010989\n",
        "Word: bronze has frequency 0.010989010989\n",
        "Word: age has frequency 0.010989010989\n",
        "Word: please has frequency 0.010989010989\n",
        "Word: try has frequency 0.010989010989\n",
        "Word: to has frequency 0.010989010989\n",
        "Word: remember has frequency 0.010989010989\n",
        "Word: that has frequency 0.010989010989\n",
        "Word: there has frequency 0.010989010989\n",
        "Word: are has frequency 0.010989010989\n",
        "Word: more has frequency 0.010989010989\n",
        "Word: human has frequency 0.010989010989\n",
        "Word: activities has frequency 0.010989010989\n",
        "Word: than has frequency 0.010989010989\n",
        "Word: those has frequency 0.010989010989\n",
        "Word: practiced has frequency 0.010989010989\n",
        "Word: warrior has frequency 0.010989010989\n",
        "Word: caste has frequency 0.032967032967\n",
        "Word: farming has frequency 0.010989010989\n",
        "Word: and has frequency 0.021978021978\n",
        "Word: priesthood has frequency 0.010989010989\n",
        "Word: right has frequency 0.010989010989\n",
        "Word: profiting has frequency 0.010989010989\n",
        "Word: is has frequency 0.010989010989\n",
        "Word: blessed has frequency 0.010989010989\n",
        "Word: god has frequency 0.010989010989\n",
        "Word: may has frequency 0.010989010989\n",
        "Word: freely has frequency 0.010989010989\n",
        "Word: blare has frequency 0.010989010989\n",
        "Word: its has frequency 0.010989010989\n",
        "Word: presence has frequency 0.010989010989\n",
        "Word: in has frequency 0.010989010989\n",
        "Word: evening has frequency 0.010989010989\n",
        "Word: twilight has frequency 0.010989010989\n",
        "Word: fred has frequency 0.010989010989\n"
       ]
      }
     ],
     "prompt_number": 69
    },
    {
     "cell_type": "code",
     "collapsed": false,
     "input": [
      "from sklearn.feature_extraction.text import TfidfVectorizer\n",
      "tfidf_vect = TfidfVectorizer() # Default: use_idf=True\n",
      "word_tfidf = tfidf_vect.fit_transform(twenty_sci_news.data)\n",
      "word_list = tfidf_vect.get_feature_names()\n",
      "for n in word_tfidf[0].indices:\n",
      "    print \"Word:\", word_list[n], \"has tfidf\", word_tfidf[0, n]"
     ],
     "language": "python",
     "metadata": {},
     "outputs": [
      {
       "output_type": "stream",
       "stream": "stdout",
       "text": [
        "Word: fred has tfidf 0.0893604523484\n",
        "Word: twilight has tfidf 0.139389277822\n",
        "Word: evening has tfidf 0.113026734241\n",
        "Word: in has tfidf 0.0239166759663\n",
        "Word: presence has tfidf 0.118805671173\n",
        "Word: its has tfidf 0.0614868335851\n",
        "Word: blare has tfidf 0.150393472236\n",
        "Word: freely has tfidf 0.118805671173\n",
        "Word: may has tfidf 0.0543546855668\n",
        "Word: god has tfidf 0.118805671173\n",
        "Word: blessed has tfidf 0.150393472236\n",
        "Word: is has tfidf 0.0255349229448\n",
        "Word: profiting has tfidf 0.150393472236\n",
        "Word: right has tfidf 0.0677614245918\n",
        "Word: priesthood has tfidf 0.144196231323\n",
        "Word: and has tfidf 0.0491489948076\n",
        "Word: farming has tfidf 0.144196231323\n",
        "Word: caste has tfidf 0.43258869397\n",
        "Word: warrior has tfidf 0.144196231323\n",
        "Word: practiced has tfidf 0.13214100026\n",
        "Word: those has tfidf 0.0604689129732\n",
        "Word: than has tfidf 0.0519193033019\n",
        "Word: activities has tfidf 0.0906664266256\n",
        "Word: human has tfidf 0.0844691857132\n",
        "Word: more has tfidf 0.0464972413341\n",
        "Word: are has tfidf 0.0346326118207\n",
        "Word: there has tfidf 0.0385269093384\n",
        "Word: that has tfidf 0.0267700801862\n",
        "Word: remember has tfidf 0.0768869173043\n",
        "Word: to has tfidf 0.0231216788081\n",
        "Word: try has tfidf 0.0729988406625\n",
        "Word: please has tfidf 0.0712897702965\n",
        "Word: age has tfidf 0.0915832449085\n",
        "Word: bronze has tfidf 0.144196231323\n",
        "Word: isn has tfidf 0.0729988406625\n",
        "Word: this has tfidf 0.031080086794\n",
        "Word: finally has tfidf 0.0974705239534\n",
        "Word: usl has tfidf 0.11179542894\n",
        "Word: cacs has tfidf 0.114332708518\n",
        "Word: srl03 has tfidf 0.120529949431\n",
        "Word: pgf has tfidf 0.114332708518\n",
        "Word: fraering has tfidf 0.113026734241\n",
        "Word: phil has tfidf 0.102277477455\n",
        "Word: 12 has tfidf 0.0761881973035\n",
        "Word: lines has tfidf 0.0217240753918\n",
        "Word: sci has tfidf 0.0667030092891\n",
        "Word: distribution has tfidf 0.0529072920233\n",
        "Word: edu has tfidf 0.0594785286752\n",
        "Word: cmu has tfidf 0.0813416780327\n",
        "Word: cs has tfidf 0.0546056629081\n",
        "Word: venari has tfidf 0.10306090845\n",
        "Word: vacation has tfidf 0.0994009471158\n",
        "Word: isu has tfidf 0.0994009471158\n",
        "Word: sender has tfidf 0.0930360635043\n",
        "Word: original has tfidf 0.0851531154779\n",
        "Word: university has tfidf 0.0447241502507\n",
        "Word: international has tfidf 0.0813416780327\n",
        "Word: via has tfidf 0.0831632114361\n",
        "Word: organization has tfidf 0.0222048605251\n",
        "Word: digest has tfidf 0.0945939936141\n",
        "Word: space has tfidf 0.0981412939895\n",
        "Word: by has tfidf 0.119911357781\n",
        "Word: forwarded has tfidf 0.0962734394352\n",
        "Word: added has tfidf 0.0881291470477\n",
        "Word: sky has tfidf 0.091119958706\n",
        "Word: the has tfidf 0.157543062907\n",
        "Word: vandalizing has tfidf 0.10306090845\n",
        "Word: subject has tfidf 0.0215419781272\n",
        "Word: tm has tfidf 0.219051510033\n",
        "Word: baube has tfidf 0.26428200052\n",
        "Word: fi has tfidf 0.109525755017\n",
        "Word: optiplan has tfidf 0.13214100026\n",
        "Word: flb has tfidf 0.26428200052\n",
        "Word: from has tfidf 0.0430839562544\n"
       ]
      }
     ],
     "prompt_number": 70
    },
    {
     "cell_type": "code",
     "collapsed": false,
     "input": [
      "text_1 = 'we love data science'\n",
      "text_2 = 'data science is hard'\n",
      "documents = [text_1, text_2]\n",
      "documents"
     ],
     "language": "python",
     "metadata": {},
     "outputs": [
      {
       "metadata": {},
       "output_type": "pyout",
       "prompt_number": 71,
       "text": [
        "['we love data science', 'data science is hard']"
       ]
      }
     ],
     "prompt_number": 71
    },
    {
     "cell_type": "code",
     "collapsed": false,
     "input": [
      "# That is what we say above, the default one\n",
      "count_vect_1_grams = CountVectorizer(ngram_range=(1, 1),\n",
      "stop_words=[], min_df=1)\n",
      "word_count = count_vect_1_grams.fit_transform(documents)\n",
      "word_list = count_vect_1_grams.get_feature_names()\n",
      "print \"Word list = \", word_list\n",
      "print \"text_1 is described with\", [word_list[n] + \"(\" +\n",
      "str(word_count[0, n]) + \")\" for n in word_count[0].indices]"
     ],
     "language": "python",
     "metadata": {},
     "outputs": [
      {
       "output_type": "stream",
       "stream": "stdout",
       "text": [
        "Word list =  [u'data', u'hard', u'is', u'love', u'science', u'we']\n",
        "text_1 is described with [u'we(1)', u'love(1)', u'data(1)', u'science(1)']\n"
       ]
      }
     ],
     "prompt_number": 72
    },
    {
     "cell_type": "code",
     "collapsed": false,
     "input": [
      "# Now a bi-gram count vectorizer\n",
      "count_vect_1_grams = CountVectorizer(ngram_range=(2, 2))\n",
      "word_count = count_vect_1_grams.fit_transform(documents)\n",
      "word_list = count_vect_1_grams.get_feature_names()\n",
      "print \"Word list = \", word_list\n",
      "print \"text_1 is described with\", [word_list[n] + \"(\" +\n",
      "str(word_count[0, n]) + \")\" for n in word_count[0].indices]"
     ],
     "language": "python",
     "metadata": {},
     "outputs": [
      {
       "output_type": "stream",
       "stream": "stdout",
       "text": [
        "Word list =  [u'data science', u'is hard', u'love data', u'science is', u'we love']\n",
        "text_1 is described with [u'we love(1)', u'love data(1)', u'data science(1)']\n"
       ]
      }
     ],
     "prompt_number": 73
    },
    {
     "cell_type": "code",
     "collapsed": false,
     "input": [
      "# Now a uni- and bi-gram count vectorizer\n",
      "count_vect_1_grams = CountVectorizer(ngram_range=(1, 2))\n",
      "word_count = count_vect_1_grams.fit_transform(documents)\n",
      "word_list = count_vect_1_grams.get_feature_names()\n",
      "print \"Word list = \", word_list\n",
      "print \"text_1 is described with\", [word_list[n] + \"(\" +\n",
      "str(word_count[0, n]) + \")\" for n in word_count[0].indices]"
     ],
     "language": "python",
     "metadata": {},
     "outputs": [
      {
       "output_type": "stream",
       "stream": "stdout",
       "text": [
        "Word list =  [u'data', u'data science', u'hard', u'is', u'is hard', u'love', u'love data', u'science', u'science is', u'we', u'we love']\n",
        "text_1 is described with [u'we(1)', u'love(1)', u'data(1)', u'science(1)', u'we love(1)', u'love data(1)', u'data science(1)']\n"
       ]
      }
     ],
     "prompt_number": 74
    },
    {
     "cell_type": "code",
     "collapsed": false,
     "input": [
      "from sklearn.feature_extraction.text import HashingVectorizer\n",
      "hash_vect = HashingVectorizer(n_features=1000)\n",
      "word_hashed = hash_vect.fit_transform(twenty_sci_news.data)\n",
      "word_hashed.shape"
     ],
     "language": "python",
     "metadata": {},
     "outputs": [
      {
       "metadata": {},
       "output_type": "pyout",
       "prompt_number": 75,
       "text": [
        "(1187, 1000)"
       ]
      }
     ],
     "prompt_number": 75
    },
    {
     "cell_type": "heading",
     "level": 2,
     "metadata": {},
     "source": [
      "Creating NumPy arrays"
     ]
    },
    {
     "cell_type": "heading",
     "level": 3,
     "metadata": {},
     "source": [
      "From lists to unidimensional arrays"
     ]
    },
    {
     "cell_type": "code",
     "collapsed": false,
     "input": [
      "import numpy as np\n",
      "# Transform a list into a uni-dimensional array\n",
      "list_of_ints = [1,2,3]\n",
      "Array_1 = np.array(list_of_ints)\n",
      "Array_1"
     ],
     "language": "python",
     "metadata": {},
     "outputs": [
      {
       "metadata": {},
       "output_type": "pyout",
       "prompt_number": 76,
       "text": [
        "array([1, 2, 3])"
       ]
      }
     ],
     "prompt_number": 76
    },
    {
     "cell_type": "code",
     "collapsed": false,
     "input": [
      "Array_1[1] # let's output the second value"
     ],
     "language": "python",
     "metadata": {},
     "outputs": [
      {
       "metadata": {},
       "output_type": "pyout",
       "prompt_number": 77,
       "text": [
        "2"
       ]
      }
     ],
     "prompt_number": 77
    },
    {
     "cell_type": "code",
     "collapsed": false,
     "input": [
      "type(Array_1)"
     ],
     "language": "python",
     "metadata": {},
     "outputs": [
      {
       "metadata": {},
       "output_type": "pyout",
       "prompt_number": 78,
       "text": [
        "numpy.ndarray"
       ]
      }
     ],
     "prompt_number": 78
    },
    {
     "cell_type": "code",
     "collapsed": false,
     "input": [
      "Array_1.dtype # Note: The default dtype depends on the system you're operating."
     ],
     "language": "python",
     "metadata": {},
     "outputs": [
      {
       "metadata": {},
       "output_type": "pyout",
       "prompt_number": 79,
       "text": [
        "dtype('int32')"
       ]
      }
     ],
     "prompt_number": 79
    },
    {
     "cell_type": "heading",
     "level": 3,
     "metadata": {},
     "source": [
      "Controlling the memory size"
     ]
    },
    {
     "cell_type": "code",
     "collapsed": false,
     "input": [
      "import numpy as np\n",
      "Array_1.nbytes # Please note that on 64bit platforms the result will be 24."
     ],
     "language": "python",
     "metadata": {},
     "outputs": [
      {
       "metadata": {},
       "output_type": "pyout",
       "prompt_number": 80,
       "text": [
        "12"
       ]
      }
     ],
     "prompt_number": 80
    },
    {
     "cell_type": "code",
     "collapsed": false,
     "input": [
      "Array_1 = np.array(list_of_ints, dtype= 'int8')"
     ],
     "language": "python",
     "metadata": {},
     "outputs": [],
     "prompt_number": 82
    },
    {
     "cell_type": "code",
     "collapsed": false,
     "input": [
      "Array_1b = Array_1.astype('float32')\n",
      "Array_1b"
     ],
     "language": "python",
     "metadata": {},
     "outputs": [
      {
       "metadata": {},
       "output_type": "pyout",
       "prompt_number": 83,
       "text": [
        "array([ 1.,  2.,  3.], dtype=float32)"
       ]
      }
     ],
     "prompt_number": 83
    },
    {
     "cell_type": "heading",
     "level": 3,
     "metadata": {},
     "source": [
      "Heterogeneous lists"
     ]
    },
    {
     "cell_type": "code",
     "collapsed": false,
     "input": [
      "import numpy as np\n",
      "complex_list = [1,2,3] + [1.,2.,3.] + ['a','b','c']\n",
      "Array_2 = np.array(complex_list[:3]) # at first the input list is just ints\n",
      "print 'complex_list[:3]', Array_2.dtype\n",
      "Array_2 = np.array(complex_list[:6]) # then it is ints and floats\n",
      "print 'complex_list[:6]', Array_2.dtype\n",
      "Array_2 = np.array(complex_list) # finally we add strings\n",
      "print 'complex_list[:] ',Array_2.dtype"
     ],
     "language": "python",
     "metadata": {},
     "outputs": [
      {
       "output_type": "stream",
       "stream": "stdout",
       "text": [
        "complex_list[:3] int32\n",
        "complex_list[:6] float64\n",
        "complex_list[:]  |S32\n"
       ]
      }
     ],
     "prompt_number": 85
    },
    {
     "cell_type": "code",
     "collapsed": false,
     "input": [
      "# Check if a NumPy array is of the desired numeric type\n",
      "print isinstance(Array_2[0],np.number)"
     ],
     "language": "python",
     "metadata": {},
     "outputs": [
      {
       "output_type": "stream",
       "stream": "stdout",
       "text": [
        "False\n"
       ]
      }
     ],
     "prompt_number": 86
    },
    {
     "cell_type": "heading",
     "level": 3,
     "metadata": {},
     "source": [
      "From lists to multidimensional arrays"
     ]
    },
    {
     "cell_type": "code",
     "collapsed": false,
     "input": [
      "import numpy as np\n",
      "# Transform a list into a bidimensional array\n",
      "a_list_of_lists = [[1,2,3],[4,5,6],[7,8,9]]\n",
      "Array_2D = np.array(a_list_of_lists )\n",
      "Array_2D"
     ],
     "language": "python",
     "metadata": {},
     "outputs": [
      {
       "metadata": {},
       "output_type": "pyout",
       "prompt_number": 88,
       "text": [
        "array([[1, 2, 3],\n",
        "       [4, 5, 6],\n",
        "       [7, 8, 9]])"
       ]
      }
     ],
     "prompt_number": 88
    },
    {
     "cell_type": "code",
     "collapsed": false,
     "input": [
      "Array_2D[1,1]"
     ],
     "language": "python",
     "metadata": {},
     "outputs": [
      {
       "metadata": {},
       "output_type": "pyout",
       "prompt_number": 89,
       "text": [
        "5"
       ]
      }
     ],
     "prompt_number": 89
    },
    {
     "cell_type": "code",
     "collapsed": false,
     "input": [
      "# Transform a list into a multi-dimensional array\n",
      "a_list_of_lists_of_lists = [[[1,2],[3,4],[5,6]],\n",
      "[[7,8],[9,10],[11,12]]]\n",
      "Array_3D = np.array(a_list_of_lists_of_lists)\n",
      "Array_3D"
     ],
     "language": "python",
     "metadata": {},
     "outputs": [
      {
       "metadata": {},
       "output_type": "pyout",
       "prompt_number": 90,
       "text": [
        "array([[[ 1,  2],\n",
        "        [ 3,  4],\n",
        "        [ 5,  6]],\n",
        "\n",
        "       [[ 7,  8],\n",
        "        [ 9, 10],\n",
        "        [11, 12]]])"
       ]
      }
     ],
     "prompt_number": 90
    },
    {
     "cell_type": "code",
     "collapsed": false,
     "input": [
      "Array_3D[0,2,0] # Accessing the 5th element"
     ],
     "language": "python",
     "metadata": {},
     "outputs": [
      {
       "metadata": {},
       "output_type": "pyout",
       "prompt_number": 91,
       "text": [
        "5"
       ]
      }
     ],
     "prompt_number": 91
    },
    {
     "cell_type": "code",
     "collapsed": false,
     "input": [
      "np.array({1:2,3:4,5:6}.items())"
     ],
     "language": "python",
     "metadata": {},
     "outputs": [
      {
       "metadata": {},
       "output_type": "pyout",
       "prompt_number": 92,
       "text": [
        "array([[1, 2],\n",
        "       [3, 4],\n",
        "       [5, 6]])"
       ]
      }
     ],
     "prompt_number": 92
    },
    {
     "cell_type": "heading",
     "level": 3,
     "metadata": {},
     "source": [
      "Resizing arrays"
     ]
    },
    {
     "cell_type": "code",
     "collapsed": false,
     "input": [
      "import numpy as np\n",
      "# Restructuring a NumPy array shape\n",
      "original_array = np.array([1, 2, 3, 4, 5, 6, 7, 8])\n",
      "Array_a = original_array.reshape(4,2)\n",
      "Array_b = original_array.reshape(4,2).copy()\n",
      "Array_c = original_array.reshape(2,2,2)\n",
      "# Attention because reshape creates just views, not copies\n",
      "original_array[0] = -1"
     ],
     "language": "python",
     "metadata": {},
     "outputs": [],
     "prompt_number": 93
    },
    {
     "cell_type": "code",
     "collapsed": false,
     "input": [
      "Array_a"
     ],
     "language": "python",
     "metadata": {},
     "outputs": [
      {
       "metadata": {},
       "output_type": "pyout",
       "prompt_number": 94,
       "text": [
        "array([[-1,  2],\n",
        "       [ 3,  4],\n",
        "       [ 5,  6],\n",
        "       [ 7,  8]])"
       ]
      }
     ],
     "prompt_number": 94
    },
    {
     "cell_type": "code",
     "collapsed": false,
     "input": [
      "Array_c"
     ],
     "language": "python",
     "metadata": {},
     "outputs": [
      {
       "metadata": {},
       "output_type": "pyout",
       "prompt_number": 95,
       "text": [
        "array([[[-1,  2],\n",
        "        [ 3,  4]],\n",
        "\n",
        "       [[ 5,  6],\n",
        "        [ 7,  8]]])"
       ]
      }
     ],
     "prompt_number": 95
    },
    {
     "cell_type": "code",
     "collapsed": false,
     "input": [
      "Array_b"
     ],
     "language": "python",
     "metadata": {},
     "outputs": [
      {
       "metadata": {},
       "output_type": "pyout",
       "prompt_number": 96,
       "text": [
        "array([[1, 2],\n",
        "       [3, 4],\n",
        "       [5, 6],\n",
        "       [7, 8]])"
       ]
      }
     ],
     "prompt_number": 96
    },
    {
     "cell_type": "code",
     "collapsed": false,
     "input": [
      "original_array.resize(4,2)\n",
      "original_array"
     ],
     "language": "python",
     "metadata": {},
     "outputs": [
      {
       "metadata": {},
       "output_type": "pyout",
       "prompt_number": 97,
       "text": [
        "array([[-1,  2],\n",
        "       [ 3,  4],\n",
        "       [ 5,  6],\n",
        "       [ 7,  8]])"
       ]
      }
     ],
     "prompt_number": 97
    },
    {
     "cell_type": "code",
     "collapsed": false,
     "input": [
      "original_array.shape = (4,2)"
     ],
     "language": "python",
     "metadata": {},
     "outputs": [],
     "prompt_number": 98
    },
    {
     "cell_type": "code",
     "collapsed": false,
     "input": [
      "original_array"
     ],
     "language": "python",
     "metadata": {},
     "outputs": [
      {
       "metadata": {},
       "output_type": "pyout",
       "prompt_number": 99,
       "text": [
        "array([[-1,  2],\n",
        "       [ 3,  4],\n",
        "       [ 5,  6],\n",
        "       [ 7,  8]])"
       ]
      }
     ],
     "prompt_number": 99
    },
    {
     "cell_type": "heading",
     "level": 3,
     "metadata": {},
     "source": [
      "Arrays derived from NumPy functions"
     ]
    },
    {
     "cell_type": "code",
     "collapsed": false,
     "input": [
      "import numpy as np\n",
      "ordinal_values = np.arange(9).reshape(3,3)\n",
      "ordinal_values"
     ],
     "language": "python",
     "metadata": {},
     "outputs": [
      {
       "metadata": {},
       "output_type": "pyout",
       "prompt_number": 100,
       "text": [
        "array([[0, 1, 2],\n",
        "       [3, 4, 5],\n",
        "       [6, 7, 8]])"
       ]
      }
     ],
     "prompt_number": 100
    },
    {
     "cell_type": "code",
     "collapsed": false,
     "input": [
      "np.arange(9)[::-1]"
     ],
     "language": "python",
     "metadata": {},
     "outputs": [
      {
       "metadata": {},
       "output_type": "pyout",
       "prompt_number": 101,
       "text": [
        "array([8, 7, 6, 5, 4, 3, 2, 1, 0])"
       ]
      }
     ],
     "prompt_number": 101
    },
    {
     "cell_type": "code",
     "collapsed": false,
     "input": [
      "np.random.randint(low=1,high=10,size=(3,3)).reshape(3,3)"
     ],
     "language": "python",
     "metadata": {},
     "outputs": [
      {
       "metadata": {},
       "output_type": "pyout",
       "prompt_number": 102,
       "text": [
        "array([[3, 1, 1],\n",
        "       [2, 9, 8],\n",
        "       [9, 5, 9]])"
       ]
      }
     ],
     "prompt_number": 102
    },
    {
     "cell_type": "code",
     "collapsed": false,
     "input": [
      "np.zeros((3,3))"
     ],
     "language": "python",
     "metadata": {},
     "outputs": [
      {
       "metadata": {},
       "output_type": "pyout",
       "prompt_number": 103,
       "text": [
        "array([[ 0.,  0.,  0.],\n",
        "       [ 0.,  0.,  0.],\n",
        "       [ 0.,  0.,  0.]])"
       ]
      }
     ],
     "prompt_number": 103
    },
    {
     "cell_type": "code",
     "collapsed": false,
     "input": [
      "np.ones((3,3))"
     ],
     "language": "python",
     "metadata": {},
     "outputs": [
      {
       "metadata": {},
       "output_type": "pyout",
       "prompt_number": 104,
       "text": [
        "array([[ 1.,  1.,  1.],\n",
        "       [ 1.,  1.,  1.],\n",
        "       [ 1.,  1.,  1.]])"
       ]
      }
     ],
     "prompt_number": 104
    },
    {
     "cell_type": "code",
     "collapsed": false,
     "input": [
      "np.eye(3)"
     ],
     "language": "python",
     "metadata": {},
     "outputs": [
      {
       "metadata": {},
       "output_type": "pyout",
       "prompt_number": 105,
       "text": [
        "array([[ 1.,  0.,  0.],\n",
        "       [ 0.,  1.,  0.],\n",
        "       [ 0.,  0.,  1.]])"
       ]
      }
     ],
     "prompt_number": 105
    },
    {
     "cell_type": "code",
     "collapsed": false,
     "input": [
      "fractions = np.linspace(start=0, stop=1, num=10)\n",
      "fractions"
     ],
     "language": "python",
     "metadata": {},
     "outputs": [
      {
       "metadata": {},
       "output_type": "pyout",
       "prompt_number": 106,
       "text": [
        "array([ 0.        ,  0.11111111,  0.22222222,  0.33333333,  0.44444444,\n",
        "        0.55555556,  0.66666667,  0.77777778,  0.88888889,  1.        ])"
       ]
      }
     ],
     "prompt_number": 106
    },
    {
     "cell_type": "code",
     "collapsed": false,
     "input": [
      "growth = np.logspace(start=0, stop=1, num=10, base=10.0)\n",
      "growth"
     ],
     "language": "python",
     "metadata": {},
     "outputs": [
      {
       "metadata": {},
       "output_type": "pyout",
       "prompt_number": 108,
       "text": [
        "array([  1.        ,   1.29154967,   1.66810054,   2.15443469,\n",
        "         2.7825594 ,   3.59381366,   4.64158883,   5.9948425 ,\n",
        "         7.74263683,  10.        ])"
       ]
      }
     ],
     "prompt_number": 108
    },
    {
     "cell_type": "code",
     "collapsed": false,
     "input": [
      "std_gaussian = np.random.normal(size=(3,3))\n",
      "std_gaussian"
     ],
     "language": "python",
     "metadata": {},
     "outputs": [
      {
       "metadata": {},
       "output_type": "pyout",
       "prompt_number": 110,
       "text": [
        "array([[-0.92338124, -0.43009694,  1.36474095],\n",
        "       [-0.18041882, -0.8216656 ,  2.01006379],\n",
        "       [ 0.6461294 , -0.66338311,  0.83295031]])"
       ]
      }
     ],
     "prompt_number": 110
    },
    {
     "cell_type": "code",
     "collapsed": false,
     "input": [
      "gaussian = np.random.normal(loc=1.0, scale= 3.0, size=(3,3))\n",
      "gaussian"
     ],
     "language": "python",
     "metadata": {},
     "outputs": [
      {
       "metadata": {},
       "output_type": "pyout",
       "prompt_number": 111,
       "text": [
        "array([[-3.04965627, -0.58323657, -2.36249073],\n",
        "       [ 3.53067049, -0.44671477,  3.24722342],\n",
        "       [-3.28943081,  0.10903748,  2.58122085]])"
       ]
      }
     ],
     "prompt_number": 111
    },
    {
     "cell_type": "code",
     "collapsed": false,
     "input": [
      "np.random.uniform(low=0.0, high=1.0, size=(3,3))"
     ],
     "language": "python",
     "metadata": {},
     "outputs": [
      {
       "metadata": {},
       "output_type": "pyout",
       "prompt_number": 112,
       "text": [
        "array([[ 0.69651057,  0.52624756,  0.22832652],\n",
        "       [ 0.23252034,  0.18151465,  0.98833415],\n",
        "       [ 0.04899736,  0.20851422,  0.45046698]])"
       ]
      }
     ],
     "prompt_number": 112
    },
    {
     "cell_type": "heading",
     "level": 3,
     "metadata": {},
     "source": [
      "Getting an array directly from a file"
     ]
    },
    {
     "cell_type": "code",
     "collapsed": false,
     "input": [
      "import numpy as np\n",
      "housing = np.loadtxt('regression-datasets-housing.csv',delimiter=',', dtype=float)"
     ],
     "language": "python",
     "metadata": {},
     "outputs": [],
     "prompt_number": 115
    },
    {
     "cell_type": "code",
     "collapsed": false,
     "input": [
      "np.loadtxt('datasets-uci-iris.csv',delimiter=',',dtype=float)"
     ],
     "language": "python",
     "metadata": {},
     "outputs": [
      {
       "ename": "ValueError",
       "evalue": "could not convert string to float: Iris-setosa",
       "output_type": "pyerr",
       "traceback": [
        "\u001b[1;31m---------------------------------------------------------------------------\u001b[0m\n\u001b[1;31mValueError\u001b[0m                                Traceback (most recent call last)",
        "\u001b[1;32m<ipython-input-116-c62e9659a452>\u001b[0m in \u001b[0;36m<module>\u001b[1;34m()\u001b[0m\n\u001b[1;32m----> 1\u001b[1;33m \u001b[0mnp\u001b[0m\u001b[1;33m.\u001b[0m\u001b[0mloadtxt\u001b[0m\u001b[1;33m(\u001b[0m\u001b[1;34m'datasets-uci-iris.csv'\u001b[0m\u001b[1;33m,\u001b[0m\u001b[0mdelimiter\u001b[0m\u001b[1;33m=\u001b[0m\u001b[1;34m','\u001b[0m\u001b[1;33m,\u001b[0m\u001b[0mdtype\u001b[0m\u001b[1;33m=\u001b[0m\u001b[0mfloat\u001b[0m\u001b[1;33m)\u001b[0m\u001b[1;33m\u001b[0m\u001b[0m\n\u001b[0m",
        "\u001b[1;32mC:\\Anaconda\\lib\\site-packages\\numpy\\lib\\npyio.pyc\u001b[0m in \u001b[0;36mloadtxt\u001b[1;34m(fname, dtype, comments, delimiter, converters, skiprows, usecols, unpack, ndmin)\u001b[0m\n\u001b[0;32m    854\u001b[0m \u001b[1;33m\u001b[0m\u001b[0m\n\u001b[0;32m    855\u001b[0m             \u001b[1;31m# Convert each value according to its column and store\u001b[0m\u001b[1;33m\u001b[0m\u001b[1;33m\u001b[0m\u001b[0m\n\u001b[1;32m--> 856\u001b[1;33m             \u001b[0mitems\u001b[0m \u001b[1;33m=\u001b[0m \u001b[1;33m[\u001b[0m\u001b[0mconv\u001b[0m\u001b[1;33m(\u001b[0m\u001b[0mval\u001b[0m\u001b[1;33m)\u001b[0m \u001b[1;32mfor\u001b[0m \u001b[1;33m(\u001b[0m\u001b[0mconv\u001b[0m\u001b[1;33m,\u001b[0m \u001b[0mval\u001b[0m\u001b[1;33m)\u001b[0m \u001b[1;32min\u001b[0m \u001b[0mzip\u001b[0m\u001b[1;33m(\u001b[0m\u001b[0mconverters\u001b[0m\u001b[1;33m,\u001b[0m \u001b[0mvals\u001b[0m\u001b[1;33m)\u001b[0m\u001b[1;33m]\u001b[0m\u001b[1;33m\u001b[0m\u001b[0m\n\u001b[0m\u001b[0;32m    857\u001b[0m             \u001b[1;31m# Then pack it according to the dtype's nesting\u001b[0m\u001b[1;33m\u001b[0m\u001b[1;33m\u001b[0m\u001b[0m\n\u001b[0;32m    858\u001b[0m             \u001b[0mitems\u001b[0m \u001b[1;33m=\u001b[0m \u001b[0mpack_items\u001b[0m\u001b[1;33m(\u001b[0m\u001b[0mitems\u001b[0m\u001b[1;33m,\u001b[0m \u001b[0mpacking\u001b[0m\u001b[1;33m)\u001b[0m\u001b[1;33m\u001b[0m\u001b[0m\n",
        "\u001b[1;31mValueError\u001b[0m: could not convert string to float: Iris-setosa"
       ]
      }
     ],
     "prompt_number": 116
    },
    {
     "cell_type": "heading",
     "level": 3,
     "metadata": {},
     "source": [
      "Extracting data from pandas"
     ]
    },
    {
     "cell_type": "code",
     "collapsed": false,
     "input": [
      "import pandas as pd\n",
      "import numpy as np\n",
      "housing_filename = 'regression-datasets-housing.csv'\n",
      "housing = pd.read_csv(housing_filename, header=None)"
     ],
     "language": "python",
     "metadata": {},
     "outputs": [],
     "prompt_number": 117
    },
    {
     "cell_type": "code",
     "collapsed": false,
     "input": [
      "housing_array = housing.values\n",
      "housing_array.dtype"
     ],
     "language": "python",
     "metadata": {},
     "outputs": [
      {
       "metadata": {},
       "output_type": "pyout",
       "prompt_number": 118,
       "text": [
        "dtype('float64')"
       ]
      }
     ],
     "prompt_number": 118
    },
    {
     "cell_type": "code",
     "collapsed": false,
     "input": [
      "housing.dtypes"
     ],
     "language": "python",
     "metadata": {},
     "outputs": [
      {
       "metadata": {},
       "output_type": "pyout",
       "prompt_number": 119,
       "text": [
        "0     float64\n",
        "1       int64\n",
        "2     float64\n",
        "3       int64\n",
        "4     float64\n",
        "5     float64\n",
        "6     float64\n",
        "7     float64\n",
        "8       int64\n",
        "9       int64\n",
        "10      int64\n",
        "11    float64\n",
        "12    float64\n",
        "13    float64\n",
        "dtype: object"
       ]
      }
     ],
     "prompt_number": 119
    },
    {
     "cell_type": "heading",
     "level": 2,
     "metadata": {},
     "source": [
      "NumPy fast operation and computations"
     ]
    },
    {
     "cell_type": "code",
     "collapsed": false,
     "input": [
      "import numpy as np\n",
      "a = np.arange(5).reshape(1,5)\n",
      "a += 1\n",
      "a*a"
     ],
     "language": "python",
     "metadata": {},
     "outputs": [
      {
       "metadata": {},
       "output_type": "pyout",
       "prompt_number": 121,
       "text": [
        "array([[ 1,  4,  9, 16, 25]])"
       ]
      }
     ],
     "prompt_number": 121
    },
    {
     "cell_type": "code",
     "collapsed": false,
     "input": [
      "a = np.arange(5).reshape(1,5) + 1\n",
      "b = np.arange(5).reshape(5,1) + 1\n",
      "a * b"
     ],
     "language": "python",
     "metadata": {},
     "outputs": [
      {
       "metadata": {},
       "output_type": "pyout",
       "prompt_number": 122,
       "text": [
        "array([[ 1,  2,  3,  4,  5],\n",
        "       [ 2,  4,  6,  8, 10],\n",
        "       [ 3,  6,  9, 12, 15],\n",
        "       [ 4,  8, 12, 16, 20],\n",
        "       [ 5, 10, 15, 20, 25]])"
       ]
      }
     ],
     "prompt_number": 122
    },
    {
     "cell_type": "code",
     "collapsed": false,
     "input": [
      "a2 = np.array([1,2,3,4,5] * 5).reshape(5,5)\n",
      "b2 = a2.T\n",
      "a2 * b2"
     ],
     "language": "python",
     "metadata": {},
     "outputs": [
      {
       "metadata": {},
       "output_type": "pyout",
       "prompt_number": 123,
       "text": [
        "array([[ 1,  2,  3,  4,  5],\n",
        "       [ 2,  4,  6,  8, 10],\n",
        "       [ 3,  6,  9, 12, 15],\n",
        "       [ 4,  8, 12, 16, 20],\n",
        "       [ 5, 10, 15, 20, 25]])"
       ]
      }
     ],
     "prompt_number": 123
    },
    {
     "cell_type": "code",
     "collapsed": false,
     "input": [
      "print a2"
     ],
     "language": "python",
     "metadata": {},
     "outputs": [
      {
       "output_type": "stream",
       "stream": "stdout",
       "text": [
        "[[1 2 3 4 5]\n",
        " [1 2 3 4 5]\n",
        " [1 2 3 4 5]\n",
        " [1 2 3 4 5]\n",
        " [1 2 3 4 5]]\n"
       ]
      }
     ],
     "prompt_number": 124
    },
    {
     "cell_type": "code",
     "collapsed": false,
     "input": [
      "np.sum(a2, axis=0)"
     ],
     "language": "python",
     "metadata": {},
     "outputs": [
      {
       "metadata": {},
       "output_type": "pyout",
       "prompt_number": 125,
       "text": [
        "array([ 5, 10, 15, 20, 25])"
       ]
      }
     ],
     "prompt_number": 125
    },
    {
     "cell_type": "code",
     "collapsed": false,
     "input": [
      "np.sum(a2, axis=1)"
     ],
     "language": "python",
     "metadata": {},
     "outputs": [
      {
       "metadata": {},
       "output_type": "pyout",
       "prompt_number": 126,
       "text": [
        "array([15, 15, 15, 15, 15])"
       ]
      }
     ],
     "prompt_number": 126
    },
    {
     "cell_type": "code",
     "collapsed": false,
     "input": [
      "%timeit -n 1 -r 3 [i+1.0 for i in range(10**6)]\n",
      "%timeit -n 1 -r 3 np.arange(10**6)+1.0"
     ],
     "language": "python",
     "metadata": {},
     "outputs": [
      {
       "output_type": "stream",
       "stream": "stdout",
       "text": [
        "1 loops, best of 3: 187 ms per loop\n",
        "1 loops, best of 3: 7.29 ms per loop\n"
       ]
      }
     ],
     "prompt_number": 127
    },
    {
     "cell_type": "code",
     "collapsed": false,
     "input": [
      "import math\n",
      "%timeit -n 1 -r 3 [math.sqrt(i) for i in range(10**6)]"
     ],
     "language": "python",
     "metadata": {},
     "outputs": [
      {
       "output_type": "stream",
       "stream": "stdout",
       "text": [
        "1 loops, best of 3: 295 ms per loop\n"
       ]
      }
     ],
     "prompt_number": 128
    },
    {
     "cell_type": "code",
     "collapsed": false,
     "input": [
      "%timeit -n 1 -r 3 np.sqrt(np.arange(10**6))"
     ],
     "language": "python",
     "metadata": {},
     "outputs": [
      {
       "output_type": "stream",
       "stream": "stdout",
       "text": [
        "1 loops, best of 3: 12.8 ms per loop\n"
       ]
      }
     ],
     "prompt_number": 129
    },
    {
     "cell_type": "heading",
     "level": 3,
     "metadata": {},
     "source": [
      "Matrix operations"
     ]
    },
    {
     "cell_type": "code",
     "collapsed": false,
     "input": [
      "import numpy as np\n",
      "M = np.arange(5*5, dtype=float).reshape(5,5)\n",
      "M"
     ],
     "language": "python",
     "metadata": {},
     "outputs": [
      {
       "metadata": {},
       "output_type": "pyout",
       "prompt_number": 130,
       "text": [
        "array([[  0.,   1.,   2.,   3.,   4.],\n",
        "       [  5.,   6.,   7.,   8.,   9.],\n",
        "       [ 10.,  11.,  12.,  13.,  14.],\n",
        "       [ 15.,  16.,  17.,  18.,  19.],\n",
        "       [ 20.,  21.,  22.,  23.,  24.]])"
       ]
      }
     ],
     "prompt_number": 130
    },
    {
     "cell_type": "code",
     "collapsed": false,
     "input": [
      "coefs = np.array([1., 0.5, 0.5, 0.5, 0.5])\n",
      "coefs_matrix = np.column_stack((coefs,coefs[::-1]))\n",
      "print coefs_matrix"
     ],
     "language": "python",
     "metadata": {},
     "outputs": [
      {
       "output_type": "stream",
       "stream": "stdout",
       "text": [
        "[[ 1.   0.5]\n",
        " [ 0.5  0.5]\n",
        " [ 0.5  0.5]\n",
        " [ 0.5  0.5]\n",
        " [ 0.5  1. ]]\n"
       ]
      }
     ],
     "prompt_number": 131
    },
    {
     "cell_type": "code",
     "collapsed": false,
     "input": [
      "np.dot(M,coefs)"
     ],
     "language": "python",
     "metadata": {},
     "outputs": [
      {
       "metadata": {},
       "output_type": "pyout",
       "prompt_number": 132,
       "text": [
        "array([  5.,  20.,  35.,  50.,  65.])"
       ]
      }
     ],
     "prompt_number": 132
    },
    {
     "cell_type": "code",
     "collapsed": false,
     "input": [
      "np.dot(coefs,M)"
     ],
     "language": "python",
     "metadata": {},
     "outputs": [
      {
       "metadata": {},
       "output_type": "pyout",
       "prompt_number": 133,
       "text": [
        "array([ 25.,  28.,  31.,  34.,  37.])"
       ]
      }
     ],
     "prompt_number": 133
    },
    {
     "cell_type": "code",
     "collapsed": false,
     "input": [
      "np.dot(M,coefs_matrix)"
     ],
     "language": "python",
     "metadata": {},
     "outputs": [
      {
       "metadata": {},
       "output_type": "pyout",
       "prompt_number": 134,
       "text": [
        "array([[  5.,   7.],\n",
        "       [ 20.,  22.],\n",
        "       [ 35.,  37.],\n",
        "       [ 50.,  52.],\n",
        "       [ 65.,  67.]])"
       ]
      }
     ],
     "prompt_number": 134
    },
    {
     "cell_type": "heading",
     "level": 2,
     "metadata": {},
     "source": [
      "Slicing and indexing with NumPy arrays"
     ]
    },
    {
     "cell_type": "code",
     "collapsed": false,
     "input": [
      "import numpy as np\n",
      "M = np.arange(10*10, dtype=int).reshape(10,10)"
     ],
     "language": "python",
     "metadata": {},
     "outputs": [],
     "prompt_number": 140
    },
    {
     "cell_type": "code",
     "collapsed": false,
     "input": [
      "M[2:9:2,:]"
     ],
     "language": "python",
     "metadata": {},
     "outputs": [
      {
       "metadata": {},
       "output_type": "pyout",
       "prompt_number": 141,
       "text": [
        "array([[20, 21, 22, 23, 24, 25, 26, 27, 28, 29],\n",
        "       [40, 41, 42, 43, 44, 45, 46, 47, 48, 49],\n",
        "       [60, 61, 62, 63, 64, 65, 66, 67, 68, 69],\n",
        "       [80, 81, 82, 83, 84, 85, 86, 87, 88, 89]])"
       ]
      }
     ],
     "prompt_number": 141
    },
    {
     "cell_type": "code",
     "collapsed": false,
     "input": [
      "M[2:9:2,5:]"
     ],
     "language": "python",
     "metadata": {},
     "outputs": [
      {
       "metadata": {},
       "output_type": "pyout",
       "prompt_number": 142,
       "text": [
        "array([[25, 26, 27, 28, 29],\n",
        "       [45, 46, 47, 48, 49],\n",
        "       [65, 66, 67, 68, 69],\n",
        "       [85, 86, 87, 88, 89]])"
       ]
      }
     ],
     "prompt_number": 142
    },
    {
     "cell_type": "code",
     "collapsed": false,
     "input": [
      "M[2:9:2,5::-1]"
     ],
     "language": "python",
     "metadata": {},
     "outputs": [
      {
       "metadata": {},
       "output_type": "pyout",
       "prompt_number": 143,
       "text": [
        "array([[25, 24, 23, 22, 21, 20],\n",
        "       [45, 44, 43, 42, 41, 40],\n",
        "       [65, 64, 63, 62, 61, 60],\n",
        "       [85, 84, 83, 82, 81, 80]])"
       ]
      }
     ],
     "prompt_number": 143
    },
    {
     "cell_type": "code",
     "collapsed": false,
     "input": [
      "# In the book the output of this cell is wrong.\n",
      "# Here is reported the correct output.\n",
      "\n",
      "row_index = (M[:,0]>=20) & (M[:,0]<=80)\n",
      "col_index = M[0,:]>=5\n",
      "M[row_index,:][:,col_index]"
     ],
     "language": "python",
     "metadata": {},
     "outputs": [
      {
       "metadata": {},
       "output_type": "pyout",
       "prompt_number": 144,
       "text": [
        "array([[25, 26, 27, 28, 29],\n",
        "       [35, 36, 37, 38, 39],\n",
        "       [45, 46, 47, 48, 49],\n",
        "       [55, 56, 57, 58, 59],\n",
        "       [65, 66, 67, 68, 69],\n",
        "       [75, 76, 77, 78, 79],\n",
        "       [85, 86, 87, 88, 89]])"
       ]
      }
     ],
     "prompt_number": 144
    },
    {
     "cell_type": "code",
     "collapsed": false,
     "input": [
      "mask = (M>=20) & (M<=90) & ((M / 10.) % 1 >= 0.5)\n",
      "M[mask]"
     ],
     "language": "python",
     "metadata": {},
     "outputs": [
      {
       "metadata": {},
       "output_type": "pyout",
       "prompt_number": 146,
       "text": [
        "array([25, 26, 27, 28, 29, 35, 36, 37, 38, 39, 45, 46, 47, 48, 49, 55, 56,\n",
        "       57, 58, 59, 65, 66, 67, 68, 69, 75, 76, 77, 78, 79, 85, 86, 87, 88,\n",
        "       89])"
       ]
      }
     ],
     "prompt_number": 146
    },
    {
     "cell_type": "code",
     "collapsed": false,
     "input": [
      "row_index = [1,1,2,7]\n",
      "col_index = [0,2,4,8]"
     ],
     "language": "python",
     "metadata": {},
     "outputs": [],
     "prompt_number": 148
    },
    {
     "cell_type": "code",
     "collapsed": false,
     "input": [
      "M[row_index,col_index]"
     ],
     "language": "python",
     "metadata": {},
     "outputs": [
      {
       "metadata": {},
       "output_type": "pyout",
       "prompt_number": 149,
       "text": [
        "array([10, 12, 24, 78])"
       ]
      }
     ],
     "prompt_number": 149
    },
    {
     "cell_type": "code",
     "collapsed": false,
     "input": [
      "M[row_index,:][:,col_index]"
     ],
     "language": "python",
     "metadata": {},
     "outputs": [
      {
       "metadata": {},
       "output_type": "pyout",
       "prompt_number": 150,
       "text": [
        "array([[10, 12, 14, 18],\n",
        "       [10, 12, 14, 18],\n",
        "       [20, 22, 24, 28],\n",
        "       [70, 72, 74, 78]])"
       ]
      }
     ],
     "prompt_number": 150
    },
    {
     "cell_type": "code",
     "collapsed": false,
     "input": [
      "N = M[2:9:2,5:].copy()"
     ],
     "language": "python",
     "metadata": {},
     "outputs": [],
     "prompt_number": 151
    },
    {
     "cell_type": "heading",
     "level": 3,
     "metadata": {},
     "source": [
      "Stacking NumPy arrays"
     ]
    },
    {
     "cell_type": "code",
     "collapsed": false,
     "input": [
      "import numpy as np\n",
      "dataset = np.arange(10*5).reshape(10,5)"
     ],
     "language": "python",
     "metadata": {},
     "outputs": [],
     "prompt_number": 152
    },
    {
     "cell_type": "code",
     "collapsed": false,
     "input": [
      "single_line = np.arange(1*5).reshape(1,5)\n",
      "a_few_lines = np.arange(3*5).reshape(3,5)"
     ],
     "language": "python",
     "metadata": {},
     "outputs": [],
     "prompt_number": 153
    },
    {
     "cell_type": "code",
     "collapsed": false,
     "input": [
      "np.vstack((dataset,single_line))"
     ],
     "language": "python",
     "metadata": {},
     "outputs": [
      {
       "metadata": {},
       "output_type": "pyout",
       "prompt_number": 154,
       "text": [
        "array([[ 0,  1,  2,  3,  4],\n",
        "       [ 5,  6,  7,  8,  9],\n",
        "       [10, 11, 12, 13, 14],\n",
        "       [15, 16, 17, 18, 19],\n",
        "       [20, 21, 22, 23, 24],\n",
        "       [25, 26, 27, 28, 29],\n",
        "       [30, 31, 32, 33, 34],\n",
        "       [35, 36, 37, 38, 39],\n",
        "       [40, 41, 42, 43, 44],\n",
        "       [45, 46, 47, 48, 49],\n",
        "       [ 0,  1,  2,  3,  4]])"
       ]
      }
     ],
     "prompt_number": 154
    },
    {
     "cell_type": "code",
     "collapsed": false,
     "input": [
      "np.vstack((dataset,a_few_lines))"
     ],
     "language": "python",
     "metadata": {},
     "outputs": [
      {
       "metadata": {},
       "output_type": "pyout",
       "prompt_number": 155,
       "text": [
        "array([[ 0,  1,  2,  3,  4],\n",
        "       [ 5,  6,  7,  8,  9],\n",
        "       [10, 11, 12, 13, 14],\n",
        "       [15, 16, 17, 18, 19],\n",
        "       [20, 21, 22, 23, 24],\n",
        "       [25, 26, 27, 28, 29],\n",
        "       [30, 31, 32, 33, 34],\n",
        "       [35, 36, 37, 38, 39],\n",
        "       [40, 41, 42, 43, 44],\n",
        "       [45, 46, 47, 48, 49],\n",
        "       [ 0,  1,  2,  3,  4],\n",
        "       [ 5,  6,  7,  8,  9],\n",
        "       [10, 11, 12, 13, 14]])"
       ]
      }
     ],
     "prompt_number": 155
    },
    {
     "cell_type": "code",
     "collapsed": false,
     "input": [
      "np.vstack((dataset,single_line,single_line))"
     ],
     "language": "python",
     "metadata": {},
     "outputs": [
      {
       "metadata": {},
       "output_type": "pyout",
       "prompt_number": 156,
       "text": [
        "array([[ 0,  1,  2,  3,  4],\n",
        "       [ 5,  6,  7,  8,  9],\n",
        "       [10, 11, 12, 13, 14],\n",
        "       [15, 16, 17, 18, 19],\n",
        "       [20, 21, 22, 23, 24],\n",
        "       [25, 26, 27, 28, 29],\n",
        "       [30, 31, 32, 33, 34],\n",
        "       [35, 36, 37, 38, 39],\n",
        "       [40, 41, 42, 43, 44],\n",
        "       [45, 46, 47, 48, 49],\n",
        "       [ 0,  1,  2,  3,  4],\n",
        "       [ 0,  1,  2,  3,  4]])"
       ]
      }
     ],
     "prompt_number": 156
    },
    {
     "cell_type": "code",
     "collapsed": false,
     "input": [
      "bias = np.ones(10).reshape(10,1)\n",
      "np.hstack((dataset,bias))"
     ],
     "language": "python",
     "metadata": {},
     "outputs": [
      {
       "metadata": {},
       "output_type": "pyout",
       "prompt_number": 157,
       "text": [
        "array([[  0.,   1.,   2.,   3.,   4.,   1.],\n",
        "       [  5.,   6.,   7.,   8.,   9.,   1.],\n",
        "       [ 10.,  11.,  12.,  13.,  14.,   1.],\n",
        "       [ 15.,  16.,  17.,  18.,  19.,   1.],\n",
        "       [ 20.,  21.,  22.,  23.,  24.,   1.],\n",
        "       [ 25.,  26.,  27.,  28.,  29.,   1.],\n",
        "       [ 30.,  31.,  32.,  33.,  34.,   1.],\n",
        "       [ 35.,  36.,  37.,  38.,  39.,   1.],\n",
        "       [ 40.,  41.,  42.,  43.,  44.,   1.],\n",
        "       [ 45.,  46.,  47.,  48.,  49.,   1.]])"
       ]
      }
     ],
     "prompt_number": 157
    },
    {
     "cell_type": "code",
     "collapsed": false,
     "input": [
      "bias = np.ones(10)\n",
      "np.column_stack((dataset,bias))"
     ],
     "language": "python",
     "metadata": {},
     "outputs": [
      {
       "metadata": {},
       "output_type": "pyout",
       "prompt_number": 158,
       "text": [
        "array([[  0.,   1.,   2.,   3.,   4.,   1.],\n",
        "       [  5.,   6.,   7.,   8.,   9.,   1.],\n",
        "       [ 10.,  11.,  12.,  13.,  14.,   1.],\n",
        "       [ 15.,  16.,  17.,  18.,  19.,   1.],\n",
        "       [ 20.,  21.,  22.,  23.,  24.,   1.],\n",
        "       [ 25.,  26.,  27.,  28.,  29.,   1.],\n",
        "       [ 30.,  31.,  32.,  33.,  34.,   1.],\n",
        "       [ 35.,  36.,  37.,  38.,  39.,   1.],\n",
        "       [ 40.,  41.,  42.,  43.,  44.,   1.],\n",
        "       [ 45.,  46.,  47.,  48.,  49.,   1.]])"
       ]
      }
     ],
     "prompt_number": 158
    },
    {
     "cell_type": "code",
     "collapsed": false,
     "input": [
      "np.dstack((dataset*1,dataset*2,dataset*3))"
     ],
     "language": "python",
     "metadata": {},
     "outputs": [
      {
       "metadata": {},
       "output_type": "pyout",
       "prompt_number": 159,
       "text": [
        "array([[[  0,   0,   0],\n",
        "        [  1,   2,   3],\n",
        "        [  2,   4,   6],\n",
        "        [  3,   6,   9],\n",
        "        [  4,   8,  12]],\n",
        "\n",
        "       [[  5,  10,  15],\n",
        "        [  6,  12,  18],\n",
        "        [  7,  14,  21],\n",
        "        [  8,  16,  24],\n",
        "        [  9,  18,  27]],\n",
        "\n",
        "       [[ 10,  20,  30],\n",
        "        [ 11,  22,  33],\n",
        "        [ 12,  24,  36],\n",
        "        [ 13,  26,  39],\n",
        "        [ 14,  28,  42]],\n",
        "\n",
        "       [[ 15,  30,  45],\n",
        "        [ 16,  32,  48],\n",
        "        [ 17,  34,  51],\n",
        "        [ 18,  36,  54],\n",
        "        [ 19,  38,  57]],\n",
        "\n",
        "       [[ 20,  40,  60],\n",
        "        [ 21,  42,  63],\n",
        "        [ 22,  44,  66],\n",
        "        [ 23,  46,  69],\n",
        "        [ 24,  48,  72]],\n",
        "\n",
        "       [[ 25,  50,  75],\n",
        "        [ 26,  52,  78],\n",
        "        [ 27,  54,  81],\n",
        "        [ 28,  56,  84],\n",
        "        [ 29,  58,  87]],\n",
        "\n",
        "       [[ 30,  60,  90],\n",
        "        [ 31,  62,  93],\n",
        "        [ 32,  64,  96],\n",
        "        [ 33,  66,  99],\n",
        "        [ 34,  68, 102]],\n",
        "\n",
        "       [[ 35,  70, 105],\n",
        "        [ 36,  72, 108],\n",
        "        [ 37,  74, 111],\n",
        "        [ 38,  76, 114],\n",
        "        [ 39,  78, 117]],\n",
        "\n",
        "       [[ 40,  80, 120],\n",
        "        [ 41,  82, 123],\n",
        "        [ 42,  84, 126],\n",
        "        [ 43,  86, 129],\n",
        "        [ 44,  88, 132]],\n",
        "\n",
        "       [[ 45,  90, 135],\n",
        "        [ 46,  92, 138],\n",
        "        [ 47,  94, 141],\n",
        "        [ 48,  96, 144],\n",
        "        [ 49,  98, 147]]])"
       ]
      }
     ],
     "prompt_number": 159
    },
    {
     "cell_type": "code",
     "collapsed": false,
     "input": [
      "np.insert(dataset, 3, bias, axis=1)"
     ],
     "language": "python",
     "metadata": {},
     "outputs": [
      {
       "metadata": {},
       "output_type": "pyout",
       "prompt_number": 160,
       "text": [
        "array([[ 0,  1,  2,  1,  3,  4],\n",
        "       [ 5,  6,  7,  1,  8,  9],\n",
        "       [10, 11, 12,  1, 13, 14],\n",
        "       [15, 16, 17,  1, 18, 19],\n",
        "       [20, 21, 22,  1, 23, 24],\n",
        "       [25, 26, 27,  1, 28, 29],\n",
        "       [30, 31, 32,  1, 33, 34],\n",
        "       [35, 36, 37,  1, 38, 39],\n",
        "       [40, 41, 42,  1, 43, 44],\n",
        "       [45, 46, 47,  1, 48, 49]])"
       ]
      }
     ],
     "prompt_number": 160
    },
    {
     "cell_type": "code",
     "collapsed": false,
     "input": [
      "np.insert(dataset, 3, dataset.T, axis=1)"
     ],
     "language": "python",
     "metadata": {},
     "outputs": [
      {
       "metadata": {},
       "output_type": "pyout",
       "prompt_number": 161,
       "text": [
        "array([[ 0,  1,  2,  0,  1,  2,  3,  4,  3,  4],\n",
        "       [ 5,  6,  7,  5,  6,  7,  8,  9,  8,  9],\n",
        "       [10, 11, 12, 10, 11, 12, 13, 14, 13, 14],\n",
        "       [15, 16, 17, 15, 16, 17, 18, 19, 18, 19],\n",
        "       [20, 21, 22, 20, 21, 22, 23, 24, 23, 24],\n",
        "       [25, 26, 27, 25, 26, 27, 28, 29, 28, 29],\n",
        "       [30, 31, 32, 30, 31, 32, 33, 34, 33, 34],\n",
        "       [35, 36, 37, 35, 36, 37, 38, 39, 38, 39],\n",
        "       [40, 41, 42, 40, 41, 42, 43, 44, 43, 44],\n",
        "       [45, 46, 47, 45, 46, 47, 48, 49, 48, 49]])"
       ]
      }
     ],
     "prompt_number": 161
    },
    {
     "cell_type": "code",
     "collapsed": false,
     "input": [
      "np.insert(dataset, 3, np.ones(5), axis=0)"
     ],
     "language": "python",
     "metadata": {},
     "outputs": [
      {
       "metadata": {},
       "output_type": "pyout",
       "prompt_number": 162,
       "text": [
        "array([[ 0,  1,  2,  3,  4],\n",
        "       [ 5,  6,  7,  8,  9],\n",
        "       [10, 11, 12, 13, 14],\n",
        "       [ 1,  1,  1,  1,  1],\n",
        "       [15, 16, 17, 18, 19],\n",
        "       [20, 21, 22, 23, 24],\n",
        "       [25, 26, 27, 28, 29],\n",
        "       [30, 31, 32, 33, 34],\n",
        "       [35, 36, 37, 38, 39],\n",
        "       [40, 41, 42, 43, 44],\n",
        "       [45, 46, 47, 48, 49]])"
       ]
      }
     ],
     "prompt_number": 162
    }
   ],
   "metadata": {}
  }
 ]
}