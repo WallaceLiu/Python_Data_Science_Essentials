{
 "cells": [
  {
   "cell_type": "markdown",
   "metadata": {},
   "source": [
    "Let's first check the Python version you have installed on your machine.\n",
    "Remember, to run the examples, it must be at least 3.4"
   ]
  },
  {
   "cell_type": "code",
   "execution_count": 1,
   "metadata": {},
   "outputs": [
    {
     "name": "stdout",
     "output_type": "stream",
     "text": [
      "Your Python version is 3.7.5 (default, Oct 25 2019, 10:52:18) \n",
      "[Clang 4.0.1 (tags/RELEASE_401/final)]\n"
     ]
    }
   ],
   "source": [
    "import sys\n",
    "print (\"Your Python version is\", sys.version)"
   ]
  },
  {
   "cell_type": "markdown",
   "metadata": {},
   "source": [
    "Now let's check if you have all the necessary toolkits installed and working properly:"
   ]
  },
  {
   "cell_type": "code",
   "execution_count": 2,
   "metadata": {},
   "outputs": [],
   "source": [
    "errors = 0"
   ]
  },
  {
   "cell_type": "code",
   "execution_count": 3,
   "metadata": {},
   "outputs": [
    {
     "name": "stdout",
     "output_type": "stream",
     "text": [
      "Numpy installed, version 1.18.1\n"
     ]
    }
   ],
   "source": [
    "try:\n",
    "    import numpy as np\n",
    "    print (\"Numpy installed, version\", np.__version__)\n",
    "except ImportError:\n",
    "    print (\"Numpy is not installed!\")\n",
    "    errors += 1"
   ]
  },
  {
   "cell_type": "code",
   "execution_count": 4,
   "metadata": {},
   "outputs": [
    {
     "name": "stdout",
     "output_type": "stream",
     "text": [
      "Scipy installed, version 1.4.1\n"
     ]
    }
   ],
   "source": [
    "try:\n",
    "    import scipy\n",
    "    print (\"Scipy installed, version\", scipy.__version__)\n",
    "except ImportError:\n",
    "    print (\"Scipy is not installed!\")\n",
    "    errors += 1"
   ]
  },
  {
   "cell_type": "code",
   "execution_count": 5,
   "metadata": {},
   "outputs": [
    {
     "name": "stdout",
     "output_type": "stream",
     "text": [
      "Matplotlib installed, version 3.1.1\n"
     ]
    }
   ],
   "source": [
    "try:\n",
    "    import matplotlib\n",
    "    print (\"Matplotlib installed, version\", matplotlib.__version__)\n",
    "except ImportError:\n",
    "    print (\"Matplotlib is not installed!\")\n",
    "    errors += 1"
   ]
  },
  {
   "cell_type": "code",
   "execution_count": 6,
   "metadata": {},
   "outputs": [
    {
     "name": "stdout",
     "output_type": "stream",
     "text": [
      "Sklearn installed, version 0.22.1\n"
     ]
    }
   ],
   "source": [
    "try:\n",
    "    import sklearn\n",
    "    print (\"Sklearn installed, version\", sklearn.__version__)\n",
    "except ImportError:\n",
    "    print (\"Sklearn is not installed!\")\n",
    "    errors += 1"
   ]
  },
  {
   "cell_type": "code",
   "execution_count": 7,
   "metadata": {},
   "outputs": [
    {
     "name": "stdout",
     "output_type": "stream",
     "text": [
      "Beautifulsoup4  is not installed!\n"
     ]
    }
   ],
   "source": [
    "try:\n",
    "    import bs4\n",
    "    print (\"Beautifulsoup4  installed, version\", bs4.__version__)\n",
    "except ImportError:\n",
    "    print (\"Beautifulsoup4  is not installed!\")\n",
    "    errors += 1"
   ]
  },
  {
   "cell_type": "code",
   "execution_count": 8,
   "metadata": {},
   "outputs": [
    {
     "name": "stdout",
     "output_type": "stream",
     "text": [
      "Networkx is not installed!\n"
     ]
    }
   ],
   "source": [
    "try:\n",
    "    import networkx\n",
    "    print (\"Networkx installed, version\", networkx.__version__)\n",
    "except ImportError:\n",
    "    print (\"Networkx is not installed!\")\n",
    "    errors += 1"
   ]
  },
  {
   "cell_type": "code",
   "execution_count": 9,
   "metadata": {},
   "outputs": [
    {
     "name": "stdout",
     "output_type": "stream",
     "text": [
      "Nltk installed, version 3.4.5\n"
     ]
    }
   ],
   "source": [
    "try:\n",
    "    import nltk\n",
    "    print (\"Nltk installed, version\", nltk.__version__)\n",
    "except ImportError:\n",
    "    print (\"Nltk is not installed!\")\n",
    "    errors += 1"
   ]
  },
  {
   "cell_type": "code",
   "execution_count": 10,
   "metadata": {},
   "outputs": [
    {
     "name": "stdout",
     "output_type": "stream",
     "text": [
      "Gensim installed, version 0.12.4\n"
     ]
    }
   ],
   "source": [
    "try:\n",
    "    import gensim\n",
    "    print (\"Gensim installed, version\", gensim.__version__)\n",
    "except ImportError:\n",
    "    print (\"Gensim is not installed!\")\n",
    "    errors += 1"
   ]
  },
  {
   "cell_type": "code",
   "execution_count": 10,
   "metadata": {},
   "outputs": [
    {
     "name": "stdout",
     "output_type": "stream",
     "text": [
      "XGBoost is not installed!\n"
     ]
    }
   ],
   "source": [
    "try:\n",
    "    import xgboost\n",
    "    print (\"XGBoost installed, version\", xgboost.__version__)\n",
    "except ImportError:\n",
    "    print (\"XGBoost is not installed!\")\n",
    "    errors += 1"
   ]
  },
  {
   "cell_type": "code",
   "execution_count": 11,
   "metadata": {},
   "outputs": [
    {
     "name": "stdout",
     "output_type": "stream",
     "text": [
      "Theano is not installed!\n"
     ]
    }
   ],
   "source": [
    "try:\n",
    "    import theano\n",
    "    print (\"Theano installed, version\", theano.__version__)\n",
    "except ImportError:\n",
    "    print (\"Theano is not installed!\")\n",
    "    errors += 1"
   ]
  },
  {
   "cell_type": "code",
   "execution_count": 16,
   "metadata": {},
   "outputs": [
    {
     "name": "stderr",
     "output_type": "stream",
     "text": [
      "Using TensorFlow backend.\n"
     ]
    },
    {
     "name": "stdout",
     "output_type": "stream",
     "text": [
      "Keras installed, version 2.3.1\n"
     ]
    }
   ],
   "source": [
    "try:\n",
    "    import keras\n",
    "    import pkg_resources\n",
    "    vs = pkg_resources.get_distribution(\"keras\").version\n",
    "    print (\"Keras installed, version\", vs)\n",
    "except ImportError:\n",
    "    print (\"Keras is not installed!\")\n",
    "    errors += 1"
   ]
  },
  {
   "cell_type": "markdown",
   "metadata": {},
   "source": [
    "This is a $\\LaTeX$ inline equation: $x = Ax+b$\n",
    "\n",
    "And this is a one-liner: $$x = Ax + b$$"
   ]
  },
  {
   "cell_type": "code",
   "execution_count": 13,
   "metadata": {},
   "outputs": [
    {
     "data": {
      "text/latex": [
       "\\[\n",
       " |u(t)| = \n",
       "  \\begin{cases} \n",
       "   u(t) & \\text{if } t \\geq 0 \\\\\n",
       "   -u(t)       & \\text{otherwise }\n",
       "  \\end{cases}\n",
       "\\]\n"
      ],
      "text/plain": [
       "<IPython.core.display.Latex object>"
      ]
     },
     "metadata": {},
     "output_type": "display_data"
    }
   ],
   "source": [
    "%%latex\n",
    "\\[\n",
    " |u(t)| = \n",
    "  \\begin{cases} \n",
    "   u(t) & \\text{if } t \\geq 0 \\\\\n",
    "   -u(t)       & \\text{otherwise }\n",
    "  \\end{cases}\n",
    "\\]"
   ]
  },
  {
   "cell_type": "code",
   "execution_count": 14,
   "metadata": {},
   "outputs": [
    {
     "data": {
      "text/latex": [
       "\\begin{align}\n",
       "f(x) &= (a+b)^2 \\\\\n",
       "     &= a^2 + (a+b) + (a+b) + b^2 \\\\\n",
       "     &= a^2 + 2\\cdot (a+b) + b^2\n",
       "\\end{align}\n"
      ],
      "text/plain": [
       "<IPython.core.display.Latex object>"
      ]
     },
     "metadata": {},
     "output_type": "display_data"
    }
   ],
   "source": [
    "%%latex\n",
    "\\begin{align}\n",
    "f(x) &= (a+b)^2 \\\\\n",
    "     &= a^2 + (a+b) + (a+b) + b^2 \\\\\n",
    "     &= a^2 + 2\\cdot (a+b) + b^2\n",
    "\\end{align}"
   ]
  },
  {
   "cell_type": "markdown",
   "metadata": {},
   "source": [
    "Here's the verdict:"
   ]
  },
  {
   "cell_type": "code",
   "execution_count": 15,
   "metadata": {},
   "outputs": [
    {
     "name": "stdout",
     "output_type": "stream",
     "text": [
      "We found 5 errors. Please check them and install the missing toolkits\n"
     ]
    }
   ],
   "source": [
    "if errors == 0:\n",
    "    print (\"Your machine can run the code\")\n",
    "else:\n",
    "    print (\"We found %i errors. Please check them and install the missing toolkits\" % errors)"
   ]
  },
  {
   "cell_type": "code",
   "execution_count": null,
   "metadata": {},
   "outputs": [],
   "source": []
  }
 ],
 "metadata": {
  "kernelspec": {
   "display_name": "Python 3",
   "language": "python",
   "name": "python3"
  },
  "language_info": {
   "codemirror_mode": {
    "name": "ipython",
    "version": 3
   },
   "file_extension": ".py",
   "mimetype": "text/x-python",
   "name": "python",
   "nbconvert_exporter": "python",
   "pygments_lexer": "ipython3",
   "version": "3.7.5"
  }
 },
 "nbformat": 4,
 "nbformat_minor": 1
}
